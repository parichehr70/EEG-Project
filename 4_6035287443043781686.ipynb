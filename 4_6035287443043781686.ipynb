{
  "cells": [
    {
      "cell_type": "code",
      "execution_count": null,
      "metadata": {
        "colab": {
          "base_uri": "https://localhost:8080/"
        },
        "id": "VYY1t_I3RLRm",
        "outputId": "eb1437c3-cabd-48e3-b370-7e57ed420c1a"
      },
      "outputs": [
        {
          "output_type": "stream",
          "name": "stdout",
          "text": [
            "Mounted at /content/drive\n"
          ]
        }
      ],
      "source": [
        "from google.colab import drive\n",
        "drive.mount('/content/drive')"
      ]
    },
    {
      "cell_type": "markdown",
      "metadata": {
        "id": "vm-UCpMZYWSb"
      },
      "source": [
        "# DEAP"
      ]
    },
    {
      "cell_type": "code",
      "execution_count": 5,
      "metadata": {
        "colab": {
          "base_uri": "https://localhost:8080/"
        },
        "id": "er2DV8rWGT45",
        "outputId": "caab8446-482f-4733-aa2d-b5c466e6a6e0"
      },
      "outputs": [
        {
          "output_type": "stream",
          "name": "stdout",
          "text": [
            "Collecting optuna\n",
            "  Downloading optuna-2.10.0-py3-none-any.whl (308 kB)\n",
            "\u001b[K     |████████████████████████████████| 308 kB 8.8 MB/s \n",
            "\u001b[?25hRequirement already satisfied: PyYAML in /usr/local/lib/python3.7/dist-packages (from optuna) (3.13)\n",
            "Requirement already satisfied: numpy in /usr/local/lib/python3.7/dist-packages (from optuna) (1.19.5)\n",
            "Collecting cliff\n",
            "  Downloading cliff-3.10.0-py3-none-any.whl (80 kB)\n",
            "\u001b[K     |████████████████████████████████| 80 kB 11.1 MB/s \n",
            "\u001b[?25hRequirement already satisfied: packaging>=20.0 in /usr/local/lib/python3.7/dist-packages (from optuna) (21.3)\n",
            "Requirement already satisfied: tqdm in /usr/local/lib/python3.7/dist-packages (from optuna) (4.62.3)\n",
            "Collecting cmaes>=0.8.2\n",
            "  Downloading cmaes-0.8.2-py3-none-any.whl (15 kB)\n",
            "Requirement already satisfied: sqlalchemy>=1.1.0 in /usr/local/lib/python3.7/dist-packages (from optuna) (1.4.31)\n",
            "Collecting alembic\n",
            "  Downloading alembic-1.7.5-py3-none-any.whl (209 kB)\n",
            "\u001b[K     |████████████████████████████████| 209 kB 74.4 MB/s \n",
            "\u001b[?25hRequirement already satisfied: scipy!=1.4.0 in /usr/local/lib/python3.7/dist-packages (from optuna) (1.4.1)\n",
            "Collecting colorlog\n",
            "  Downloading colorlog-6.6.0-py2.py3-none-any.whl (11 kB)\n",
            "Requirement already satisfied: pyparsing!=3.0.5,>=2.0.2 in /usr/local/lib/python3.7/dist-packages (from packaging>=20.0->optuna) (3.0.7)\n",
            "Requirement already satisfied: greenlet!=0.4.17 in /usr/local/lib/python3.7/dist-packages (from sqlalchemy>=1.1.0->optuna) (1.1.2)\n",
            "Requirement already satisfied: importlib-metadata in /usr/local/lib/python3.7/dist-packages (from sqlalchemy>=1.1.0->optuna) (4.10.1)\n",
            "Requirement already satisfied: importlib-resources in /usr/local/lib/python3.7/dist-packages (from alembic->optuna) (5.4.0)\n",
            "Collecting Mako\n",
            "  Downloading Mako-1.1.6-py2.py3-none-any.whl (75 kB)\n",
            "\u001b[K     |████████████████████████████████| 75 kB 5.2 MB/s \n",
            "\u001b[?25hCollecting stevedore>=2.0.1\n",
            "  Downloading stevedore-3.5.0-py3-none-any.whl (49 kB)\n",
            "\u001b[K     |████████████████████████████████| 49 kB 6.8 MB/s \n",
            "\u001b[?25hCollecting autopage>=0.4.0\n",
            "  Downloading autopage-0.5.0-py3-none-any.whl (29 kB)\n",
            "Requirement already satisfied: PrettyTable>=0.7.2 in /usr/local/lib/python3.7/dist-packages (from cliff->optuna) (3.0.0)\n",
            "Collecting pbr!=2.1.0,>=2.0.0\n",
            "  Downloading pbr-5.8.0-py2.py3-none-any.whl (112 kB)\n",
            "\u001b[K     |████████████████████████████████| 112 kB 64.4 MB/s \n",
            "\u001b[?25hCollecting cmd2>=1.0.0\n",
            "  Downloading cmd2-2.3.3-py3-none-any.whl (149 kB)\n",
            "\u001b[K     |████████████████████████████████| 149 kB 81.4 MB/s \n",
            "\u001b[?25hRequirement already satisfied: wcwidth>=0.1.7 in /usr/local/lib/python3.7/dist-packages (from cmd2>=1.0.0->cliff->optuna) (0.2.5)\n",
            "Collecting pyperclip>=1.6\n",
            "  Downloading pyperclip-1.8.2.tar.gz (20 kB)\n",
            "Requirement already satisfied: attrs>=16.3.0 in /usr/local/lib/python3.7/dist-packages (from cmd2>=1.0.0->cliff->optuna) (21.4.0)\n",
            "Requirement already satisfied: typing-extensions in /usr/local/lib/python3.7/dist-packages (from cmd2>=1.0.0->cliff->optuna) (3.10.0.2)\n",
            "Requirement already satisfied: zipp>=0.5 in /usr/local/lib/python3.7/dist-packages (from importlib-metadata->sqlalchemy>=1.1.0->optuna) (3.7.0)\n",
            "Requirement already satisfied: MarkupSafe>=0.9.2 in /usr/local/lib/python3.7/dist-packages (from Mako->alembic->optuna) (2.0.1)\n",
            "Building wheels for collected packages: pyperclip\n",
            "  Building wheel for pyperclip (setup.py) ... \u001b[?25l\u001b[?25hdone\n",
            "  Created wheel for pyperclip: filename=pyperclip-1.8.2-py3-none-any.whl size=11137 sha256=14e3ab74293c1f53b1cbe8290369517932477b0ac1f4177112d8c928ccb1226c\n",
            "  Stored in directory: /root/.cache/pip/wheels/9f/18/84/8f69f8b08169c7bae2dde6bd7daf0c19fca8c8e500ee620a28\n",
            "Successfully built pyperclip\n",
            "Installing collected packages: pyperclip, pbr, stevedore, Mako, cmd2, autopage, colorlog, cmaes, cliff, alembic, optuna\n",
            "Successfully installed Mako-1.1.6 alembic-1.7.5 autopage-0.5.0 cliff-3.10.0 cmaes-0.8.2 cmd2-2.3.3 colorlog-6.6.0 optuna-2.10.0 pbr-5.8.0 pyperclip-1.8.2 stevedore-3.5.0\n"
          ]
        }
      ],
      "source": [
        "!pip install optuna\n",
        "# !pip install optuna-dashboard\n",
        "\n",
        "import optuna\n",
        "from optuna import trial\n",
        "import itertools\n",
        "import warnings\n",
        "import numpy as np\n",
        "from numpy import savez_compressed\n",
        "from numpy import load\n",
        "import pandas as pd\n",
        "import matplotlib.pyplot as plt\n",
        "from sklearn.preprocessing import StandardScaler, LabelEncoder                                                      \n",
        "from sklearn.metrics import confusion_matrix, classification_report\n",
        "from sklearn.model_selection import train_test_split\n",
        "from scipy import signal\n",
        "import pickle as pkl\n",
        "\n",
        "from tensorflow.keras.models import Model\n",
        "from tensorflow.keras.callbacks import ReduceLROnPlateau, CSVLogger, EarlyStopping\n",
        "from tensorflow.keras.layers import (Activation, AveragePooling1D, Dense, Conv1D, Flatten, Dropout, Input, BatchNormalization,\n",
        "                                     GlobalMaxPooling1D, MaxPooling1D, SpatialDropout1D, GlobalAveragePooling1D)\n",
        "from tensorflow.keras.optimizers import RMSprop, Adam\n",
        "from tensorflow.keras.utils import plot_model, to_categorical\n",
        "\n",
        "\n",
        "warnings.filterwarnings(\"ignore\")\n",
        "plt.rcdefaults()\n",
        "\n",
        "# parameters\n",
        "sampling_rate = 128\n",
        "window_size = 1280\n",
        "overlap = 256\n",
        "channel_len = 32\n",
        "classes = 2\n",
        "random_state = 42\n",
        "labels = ['Low', 'High'] # 0:Low 1:High\n",
        "\n",
        "''' The frequency bands used: delta (0.5 - 4), theta (4 - 8 Hz), alpha (8 - 14 Hz), beta (14 - 30 Hz), and gamma (30 - 75 Hz) '''\n",
        "bands = {'delta': [0.5/(sampling_rate/2), 4/(sampling_rate/2)], 'theta': [4/(sampling_rate/2), 8/(sampling_rate/2)], \\\n",
        "         'alpha': [8/(sampling_rate/2), 14/(sampling_rate/2)], 'beta': [14/(sampling_rate/2), 30/(sampling_rate/2)], \\\n",
        "         'gamma': [30/(sampling_rate/2), 75/(sampling_rate/2)]}\n",
        "\n",
        "subjectList = ['01','02','03', '04','05','06', '07','08','09', '10','11','12', '13','14','15', '16','17','18',\n",
        "'19','20','21', '22','23','24', '25','26','27', '28','29','30', '31','32']"
      ]
    },
    {
      "cell_type": "markdown",
      "metadata": {
        "id": "jzdx_P6JsZ0F"
      },
      "source": [
        "##Confusion Matrix"
      ]
    },
    {
      "cell_type": "code",
      "execution_count": null,
      "metadata": {
        "id": "qpdj9iPxsZ0G"
      },
      "outputs": [],
      "source": [
        "def plot_confusion_matrix(cm, classes,\n",
        "                          normalize=False,\n",
        "                          title='Confusion matrix',\n",
        "                          cmap=plt.cm.Blues):\n",
        "    if normalize:\n",
        "        cm = cm.astype('float') / cm.sum(axis=1)[:, np.newaxis]\n",
        "        print(\"Normalized confusion matrix\")\n",
        "    else:\n",
        "        print('Confusion matrix, without normalization')\n",
        "\n",
        "    print(cm)\n",
        "\n",
        "    plt.imshow(cm, interpolation='nearest', cmap=cmap)\n",
        "    plt.title(title, fontsize=14)\n",
        "    plt.colorbar()\n",
        "    tick_marks = np.arange(len(classes))\n",
        "    plt.xticks(tick_marks, classes, rotation=45)\n",
        "    plt.yticks(tick_marks, classes)\n",
        "\n",
        "    fmt = '.2f' if normalize else 'd'\n",
        "    thresh = cm.max() / 2.\n",
        "    for i, j in itertools.product(range(cm.shape[0]), range(cm.shape[1])):\n",
        "        plt.text(j, i, format(cm[i, j], fmt),\n",
        "                 horizontalalignment=\"center\",\n",
        "                 color=\"white\" if cm[i, j] > thresh else \"black\")\n",
        "\n",
        "    plt.tight_layout()\n",
        "    plt.ylabel('True label')\n",
        "    plt.xlabel('Predicted label')"
      ]
    },
    {
      "cell_type": "markdown",
      "metadata": {
        "id": "Ta0fARs7YWSq"
      },
      "source": [
        "## Loading Data"
      ]
    },
    {
      "cell_type": "markdown",
      "metadata": {
        "id": "lshDU4ZF31Go"
      },
      "source": [
        "###Unzipping"
      ]
    },
    {
      "cell_type": "code",
      "execution_count": null,
      "metadata": {
        "colab": {
          "base_uri": "https://localhost:8080/"
        },
        "id": "z4M8I5FmY-VC",
        "outputId": "10d60245-7af7-4733-f0d6-146e85017126"
      },
      "outputs": [
        {
          "output_type": "stream",
          "name": "stdout",
          "text": [
            "Archive:  /content/drive/MyDrive/data_preprocessed_python.zip\n",
            "   creating: data_preprocessed_python/\n",
            "  inflating: data_preprocessed_python/s01.dat  \n",
            "  inflating: data_preprocessed_python/s02.dat  \n",
            "  inflating: data_preprocessed_python/s03.dat  \n",
            "  inflating: data_preprocessed_python/s04.dat  \n",
            "  inflating: data_preprocessed_python/s05.dat  \n",
            "  inflating: data_preprocessed_python/s06.dat  \n",
            "  inflating: data_preprocessed_python/s07.dat  \n",
            "  inflating: data_preprocessed_python/s08.dat  \n",
            "  inflating: data_preprocessed_python/s09.dat  \n",
            "  inflating: data_preprocessed_python/s10.dat  \n",
            "  inflating: data_preprocessed_python/s11.dat  \n",
            "  inflating: data_preprocessed_python/s12.dat  \n",
            "  inflating: data_preprocessed_python/s13.dat  \n",
            "  inflating: data_preprocessed_python/s14.dat  \n",
            "  inflating: data_preprocessed_python/s15.dat  \n",
            "  inflating: data_preprocessed_python/s16.dat  \n",
            "  inflating: data_preprocessed_python/s17.dat  \n",
            "  inflating: data_preprocessed_python/s18.dat  \n",
            "  inflating: data_preprocessed_python/s19.dat  \n",
            "  inflating: data_preprocessed_python/s20.dat  \n",
            "  inflating: data_preprocessed_python/s21.dat  \n",
            "  inflating: data_preprocessed_python/s22.dat  \n",
            "  inflating: data_preprocessed_python/s23.dat  \n",
            "  inflating: data_preprocessed_python/s24.dat  \n",
            "  inflating: data_preprocessed_python/s25.dat  \n",
            "  inflating: data_preprocessed_python/s26.dat  \n",
            "  inflating: data_preprocessed_python/s27.dat  \n",
            "  inflating: data_preprocessed_python/s28.dat  \n",
            "  inflating: data_preprocessed_python/s29.dat  \n",
            "  inflating: data_preprocessed_python/s30.dat  \n",
            "  inflating: data_preprocessed_python/s31.dat  \n",
            "  inflating: data_preprocessed_python/s32.dat  \n"
          ]
        }
      ],
      "source": [
        "!unzip /content/drive/MyDrive/data_preprocessed_python.zip"
      ]
    },
    {
      "cell_type": "markdown",
      "metadata": {
        "id": "v16hvg1r35w-"
      },
      "source": [
        "###Loading and Pre-processing Deap Dataset"
      ]
    },
    {
      "cell_type": "code",
      "execution_count": null,
      "metadata": {
        "colab": {
          "base_uri": "https://localhost:8080/",
          "height": 299
        },
        "id": "i_GmzxkzhvzQ",
        "outputId": "2cb17e39-37b7-4120-fd7c-8f5716942d83"
      },
      "outputs": [
        {
          "data": {
            "image/png": "[encoded data removed]",
            "text/plain": [
              "<Figure size 432x288 with 1 Axes>"
            ]
          },
          "metadata": {},
          "output_type": "display_data"
        }
      ],
      "source": [
        "WN = bands['alpha']\n",
        "num, den = signal.butter(4, WN, 'band') # Butterworth filter of order N = 4\n",
        "w, h = signal.freqs(num, den)\n",
        "\n",
        "plt.semilogx(w, 20 * np.log10(abs(h)))\n",
        "\n",
        "plt.title('Butterworth filter frequency response')\n",
        "\n",
        "plt.xlabel('Frequency [radians / second]')\n",
        "\n",
        "plt.ylabel('Amplitude [dB]')\n",
        "\n",
        "plt.margins(0, 0.1)\n",
        "\n",
        "plt.grid(which='both', axis='both')\n",
        "\n",
        "plt.axvline(100, color='green') # cutoff frequency\n",
        "\n",
        "plt.show()"
      ]
    },
    {
      "cell_type": "code",
      "execution_count": null,
      "metadata": {
        "id": "FUyCKSoo5Cio"
      },
      "outputs": [],
      "source": [
        "def load_data(eeg_band = None):\n",
        "\n",
        "  eeg_signal = []\n",
        "  valence = []\n",
        "  arousal = []\n",
        "  dominance = []\n",
        "  liking = []\n",
        "\n",
        "  for subjects in subjectList:\n",
        "\n",
        "    print('Subject No.' + str(subjects))\n",
        "    \n",
        "    address = '/content/data_preprocessed_python/s'+subjects+'.dat'\n",
        "    \n",
        "    with open(address, 'rb') as file:\n",
        "      data = pkl.load(file, encoding = 'latin1')\n",
        "\n",
        "    eeg = data['data']\n",
        "    label = data['labels']\n",
        "    \n",
        "    # Assigning classes\n",
        "    label[label<5.5] = 0\n",
        "    label[label>=5.5] = 1     \n",
        "\n",
        "    val = label.T[0] # Valence label\n",
        "    aro = label.T[1] # Arousal label\n",
        "    dom = label.T[2] # Dominance label\n",
        "    lik = label.T[3] # Liking label\n",
        "    del data, label\n",
        "    \n",
        "\n",
        "    for i in range(40): # Iterating through 40 vidoes/trials\n",
        "\n",
        "      sig = eeg[i].T\n",
        "      v = val[i]\n",
        "      a = aro[i]\n",
        "      d = dom[i]\n",
        "      l = lik[i]\n",
        "\n",
        "      sig = sig[:, :32] # Considering all 32 EEG channels\n",
        "      \n",
        "      num, den = signal.butter(4, bands[eeg_band], 'band') # Butterworth filter of order N = 4\n",
        "      band_signal = signal.filtfilt(num, den, sig, axis=0)\n",
        "      sig = band_signal\n",
        "      del band_signal, num, den\n",
        "      \n",
        "      scaler = StandardScaler().fit(sig)\n",
        "      scaled_sig = scaler.transform(sig)\n",
        "\n",
        "      del sig\n",
        "        \n",
        "      # Segmenting into 10 seconds (1280 timesteps) windows with 2 seconds (256 timesteps) overlap\n",
        "      start = 0\n",
        "      while start + window_size < scaled_sig.shape[0]:\n",
        "        eeg_signal.append(scaled_sig[start:start+window_size, :])\n",
        "\n",
        "        valence.append(v)\n",
        "        arousal.append(a)\n",
        "        dominance.append(d)\n",
        "        liking.append(l)\n",
        "        start += overlap\n",
        "\n",
        "      del scaled_sig\n",
        "\n",
        "\n",
        "  eeg_signal = np.asarray(eeg_signal, dtype = np.float32)\n",
        "  valence = np.asarray(valence, dtype = np.int8)\n",
        "  arousal = np.asarray(arousal, dtype = np.int8)\n",
        "  dominance = np.asarray(dominance, dtype = np.int8)\n",
        "  liking = np.asarray(liking, dtype = np.int8)\n",
        "\n",
        "  print(valence.shape, valence[valence == 0].shape, valence[valence == 1].shape)\n",
        "  print(arousal.shape, arousal[arousal == 0].shape, arousal[arousal == 1].shape)\n",
        "  print(dominance.shape, dominance[dominance == 0].shape, dominance[dominance == 1].shape)\n",
        "  print(liking.shape, liking[liking == 0].shape, liking[liking == 1].shape)\n",
        "\n",
        "  valence = to_categorical(valence)\n",
        "  arousal = to_categorical(arousal)\n",
        "  dominance = to_categorical(dominance)\n",
        "  liking = to_categorical(liking)\n",
        "\n",
        "    \n",
        "  return (eeg_signal, valence, arousal, dominance, liking)"
      ]
    },
    {
      "cell_type": "code",
      "execution_count": null,
      "metadata": {
        "colab": {
          "base_uri": "https://localhost:8080/"
        },
        "id": "9djyoTzAX65O",
        "outputId": "badafedb-de2f-41a5-b542-8389f00e956b"
      },
      "outputs": [
        {
          "output_type": "stream",
          "name": "stdout",
          "text": [
            "Subject No.01\n",
            "Subject No.02\n",
            "Subject No.03\n",
            "Subject No.04\n",
            "Subject No.05\n",
            "Subject No.06\n",
            "Subject No.07\n",
            "Subject No.08\n",
            "Subject No.09\n",
            "Subject No.10\n",
            "Subject No.11\n",
            "Subject No.12\n",
            "Subject No.13\n",
            "Subject No.14\n",
            "Subject No.15\n",
            "Subject No.16\n",
            "Subject No.17\n",
            "Subject No.18\n",
            "Subject No.19\n",
            "Subject No.20\n",
            "Subject No.21\n",
            "Subject No.22\n",
            "Subject No.23\n",
            "Subject No.24\n",
            "Subject No.25\n",
            "Subject No.26\n",
            "Subject No.27\n",
            "Subject No.28\n",
            "Subject No.29\n",
            "Subject No.30\n",
            "Subject No.31\n",
            "Subject No.32\n",
            "(34560,) (18711,) (15849,)\n",
            "(34560,) (17766,) (16794,)\n",
            "(34560,) (17739,) (16821,)\n",
            "(34560,) (13635,) (20925,)\n"
          ]
        }
      ],
      "source": [
        "eeg_band = 'alpha'\n",
        "# eeg_band = 'delta', 'theta', 'alpha', 'beta'\n",
        "\n",
        "data, valence, arousal, dominance, liking = load_data(eeg_band)"
      ]
    },
    {
      "cell_type": "code",
      "execution_count": null,
      "metadata": {
        "colab": {
          "base_uri": "https://localhost:8080/"
        },
        "id": "IWe0fhzpZsUW",
        "outputId": "6efb6447-7689-483b-b1b2-732b20c5957f"
      },
      "outputs": [
        {
          "output_type": "stream",
          "name": "stdout",
          "text": [
            "Arousal Label Sample:\n",
            " [[0. 1.]\n",
            " [1. 0.]\n",
            " [1. 0.]\n",
            " ...\n",
            " [0. 1.]\n",
            " [1. 0.]\n",
            " [1. 0.]]\n"
          ]
        }
      ],
      "source": [
        "shuffler = np.random.permutation(data.shape[0])\n",
        "\n",
        "data = data[shuffler]\n",
        "valence = valence[shuffler]\n",
        "arousal = arousal[shuffler]\n",
        "print('Arousal Label Sample:\\n', arousal)\n",
        "dominance = dominance[shuffler]\n",
        "liking = liking[shuffler]"
      ]
    },
    {
      "cell_type": "markdown",
      "metadata": {
        "id": "nekd4jerEN_Z"
      },
      "source": [
        "### Saving Data and Labels"
      ]
    },
    {
      "cell_type": "code",
      "execution_count": null,
      "metadata": {
        "colab": {
          "base_uri": "https://localhost:8080/",
          "height": 239
        },
        "id": "XTuvyx8b89rJ",
        "outputId": "7b1cba78-bced-4f46-9cf4-77915aaaa196"
      },
      "outputs": [
        {
          "ename": "NameError",
          "evalue": "ignored",
          "output_type": "error",
          "traceback": [
            "\u001b[0;31m---------------------------------------------------------------------------\u001b[0m",
            "\u001b[0;31mNameError\u001b[0m                                 Traceback (most recent call last)",
            "\u001b[0;32m<ipython-input-12-befc783917ba>\u001b[0m in \u001b[0;36m<module>\u001b[0;34m()\u001b[0m\n\u001b[1;32m      1\u001b[0m \u001b[0;31m# data\u001b[0m\u001b[0;34m\u001b[0m\u001b[0;34m\u001b[0m\u001b[0;34m\u001b[0m\u001b[0m\n\u001b[0;32m----> 2\u001b[0;31m \u001b[0msavez_compressed\u001b[0m\u001b[0;34m(\u001b[0m\u001b[0;34m'/content/drive/MyDrive/Data_and_labels/data.npz'\u001b[0m\u001b[0;34m,\u001b[0m \u001b[0mdata\u001b[0m\u001b[0;34m)\u001b[0m\u001b[0;34m\u001b[0m\u001b[0;34m\u001b[0m\u001b[0m\n\u001b[0m\u001b[1;32m      3\u001b[0m \u001b[0;31m#labels\u001b[0m\u001b[0;34m\u001b[0m\u001b[0;34m\u001b[0m\u001b[0;34m\u001b[0m\u001b[0m\n\u001b[1;32m      4\u001b[0m \u001b[0mnp\u001b[0m\u001b[0;34m.\u001b[0m\u001b[0msave\u001b[0m\u001b[0;34m(\u001b[0m\u001b[0;34m'/content/drive/MyDrive/Data_and_labels/valence'\u001b[0m\u001b[0;34m,\u001b[0m\u001b[0mvalence\u001b[0m\u001b[0;34m)\u001b[0m\u001b[0;34m\u001b[0m\u001b[0;34m\u001b[0m\u001b[0m\n\u001b[1;32m      5\u001b[0m \u001b[0mnp\u001b[0m\u001b[0;34m.\u001b[0m\u001b[0msave\u001b[0m\u001b[0;34m(\u001b[0m\u001b[0;34m'/content/drive/MyDrive/Data_and_labels/arousal'\u001b[0m\u001b[0;34m,\u001b[0m\u001b[0marousal\u001b[0m\u001b[0;34m)\u001b[0m\u001b[0;34m\u001b[0m\u001b[0;34m\u001b[0m\u001b[0m\n",
            "\u001b[0;31mNameError\u001b[0m: name 'data' is not defined"
          ]
        }
      ],
      "source": [
        "# data\n",
        "savez_compressed('/content/drive/MyDrive/Data_and_labels/data.npz', data)\n",
        "#labels\n",
        "np.save('/content/drive/MyDrive/Data_and_labels/valence',valence)\n",
        "np.save('/content/drive/MyDrive/Data_and_labels/arousal',arousal)\n",
        "np.save('/content/drive/MyDrive/Data_and_labels/dominance',dominance)\n",
        "np.save('/content/drive/MyDrive/Data_and_labels/liking',liking)"
      ]
    },
    {
      "cell_type": "markdown",
      "metadata": {
        "id": "splEhAyrEkdB"
      },
      "source": [
        "###Loading Data and Labels"
      ]
    },
    {
      "cell_type": "code",
      "execution_count": null,
      "metadata": {
        "id": "aDGoDBqkEmhT"
      },
      "outputs": [],
      "source": [
        "# data\n",
        "dict_data = load('/content/drive/MyDrive/Data_and_labels/data.npz')\n",
        "data = dict_data['arr_0']\n",
        "print(data.shape)\n",
        "#labels\n",
        "valence = np.load('/content/drive/MyDrive/Data_and_labels/valence.npy')\n",
        "arousal = np.load('/content/drive/MyDrive/Data_and_labels/arousal.npy')\n",
        "dominance = np.load('/content/drive/MyDrive/Data_and_labels/dominance.npy')\n",
        "liking = np.load('/content/drive/MyDrive/Data_and_labels/liking.npy')"
      ]
    },
    {
      "cell_type": "markdown",
      "metadata": {
        "id": "hp9TYK2yeyD5"
      },
      "source": [
        "##HP Tuning\n",
        "\n",
        "\n",
        "> trial.suggest_categorical('name', choices)\n",
        "\n",
        "> trial.suggest_float(\"name\", low, high)\n",
        "\n",
        "> trial.suggest_int('name', low, high, step)"
      ]
    },
    {
      "cell_type": "code",
      "source": [
        "batch_size = 64\n",
        "epochs = 10\n",
        "n_trials=10\n",
        "train_nb_samples = 5000\n",
        "test_nb_samples = 500\n",
        "\n",
        "X_train = X_train[:train_nb_samples]\n",
        "X_test = X_test[:test_nb_samples]\n",
        "Y_train = Y_train[:train_nb_samples]\n",
        "Y_test = Y_test[:test_nb_samples]"
      ],
      "metadata": {
        "id": "mU2Io-uG01Kk"
      },
      "execution_count": null,
      "outputs": []
    },
    {
      "cell_type": "markdown",
      "source": [
        "###1st Layer (i.e. C1) HPO"
      ],
      "metadata": {
        "id": "Rk66N-dzo7r8"
      }
    },
    {
      "cell_type": "code",
      "execution_count": null,
      "metadata": {
        "id": "V-RlEQ7feyD8"
      },
      "outputs": [],
      "source": [
        "def CompactNet(trial):\n",
        "    \n",
        "    X_input = Input(shape = (window_size, channel_len))\n",
        "\n",
        "    x = Conv1D(\n",
        "        filters=trial.suggest_categorical('filters', [32, 64, 128]), \n",
        "        kernel_size=trial.suggest_categorical('kernel_size', [1, 2]), \n",
        "        strides=trial.suggest_categorical('strides', [1, 2]),\n",
        "        padding = 'same', \n",
        "        activation='relu', \n",
        "        name='C1')(X_input)\n",
        "\n",
        "\n",
        "    x = AveragePooling1D(\n",
        "        pool_size=2,\n",
        "        # pool_size=trial.suggest_categorical('pool_size', [1, 2]),\n",
        "        name='AP1')(x)\n",
        "\n",
        "    x = BatchNormalization(name='BN1')(x)\n",
        "\n",
        "    x = Conv1D(\n",
        "        filters=64,\n",
        "        kernel_size = 5, \n",
        "        strides = 2, \n",
        "        padding = 'valid', \n",
        "        activation='relu', \n",
        "        name='C3')(x)\n",
        "\n",
        "\n",
        "    x = AveragePooling1D(pool_size=2, name='AP2')(x)\n",
        "\n",
        "    x = BatchNormalization(name='BN2')(x)\n",
        "\n",
        "    x = Conv1D(\n",
        "        filters=128,\n",
        "        kernel_size = 3, \n",
        "        strides = 1, \n",
        "        padding = 'valid', \n",
        "        activation='relu', \n",
        "        name='C7')(x)\n",
        "\n",
        "\n",
        "    x = GlobalAveragePooling1D(name='GAP')(x)\n",
        "\n",
        "    x = BatchNormalization(name='BN4')(x)\n",
        "\n",
        "    x = Dropout(0.2)(x)\n",
        "    # x = Dropout(rate=trial.suggest_float('rate', 0.0, 0.2))(x)\n",
        "\n",
        "    x = Dense(64)(x)\n",
        "    x = Activation('tanh')(x)\n",
        "\n",
        "    x = Dense(8)(x)\n",
        "    x = Activation('tanh')(x)\n",
        "\n",
        "    x = Dropout(0.1)(x)\n",
        "    # x = Dropout(rate=trial.suggest_float('rate', 0.0, 0.1))(x)\n",
        "\n",
        "    x = Dense(classes)(x)\n",
        "    output = Activation('softmax')(x)\n",
        "\n",
        "    model=Model(inputs=X_input, outputs=output, name='CompactNet')\n",
        "\n",
        "    model.compile(loss='categorical_crossentropy',\n",
        "              optimizer=Adam(learning_rate=0.001, decay=1e-5),\n",
        "              metrics=['accuracy'])\n",
        "\n",
        "    return model"
      ]
    },
    {
      "cell_type": "code",
      "execution_count": null,
      "metadata": {
        "colab": {
          "base_uri": "https://localhost:8080/"
        },
        "outputId": "873b33bf-1987-4442-dc14-4f8c58994e02",
        "id": "KZVCtqQ_eyEC"
      },
      "outputs": [
        {
          "output_type": "stream",
          "name": "stderr",
          "text": [
            "\u001b[32m[I 2022-01-31 15:23:59,162]\u001b[0m A new study created in memory with name: no-name-a899a107-9956-461d-870c-5c9a15b49f54\u001b[0m\n"
          ]
        },
        {
          "output_type": "stream",
          "name": "stdout",
          "text": [
            "Epoch 1/10\n",
            "54/54 [==============================] - 4s 29ms/step - loss: 0.7141 - accuracy: 0.5435 - val_loss: 0.6811 - val_accuracy: 0.5683\n",
            "Epoch 2/10\n",
            "54/54 [==============================] - 1s 16ms/step - loss: 0.6836 - accuracy: 0.5638 - val_loss: 0.6810 - val_accuracy: 0.5683\n",
            "Epoch 3/10\n",
            "54/54 [==============================] - 1s 17ms/step - loss: 0.6674 - accuracy: 0.5962 - val_loss: 0.6650 - val_accuracy: 0.5900\n",
            "Epoch 4/10\n",
            "54/54 [==============================] - 1s 17ms/step - loss: 0.6624 - accuracy: 0.6100 - val_loss: 0.6584 - val_accuracy: 0.6100\n",
            "Epoch 5/10\n",
            "54/54 [==============================] - 1s 17ms/step - loss: 0.6460 - accuracy: 0.6171 - val_loss: 0.6857 - val_accuracy: 0.5783\n",
            "Epoch 6/10\n",
            "54/54 [==============================] - 1s 16ms/step - loss: 0.6463 - accuracy: 0.6235 - val_loss: 0.6736 - val_accuracy: 0.5900\n",
            "Epoch 7/10\n",
            "54/54 [==============================] - 1s 13ms/step - loss: 0.6328 - accuracy: 0.6362 - val_loss: 0.6686 - val_accuracy: 0.5917\n",
            "Epoch 8/10\n",
            "54/54 [==============================] - 1s 14ms/step - loss: 0.6248 - accuracy: 0.6412 - val_loss: 0.6574 - val_accuracy: 0.6250\n",
            "Epoch 9/10\n",
            "54/54 [==============================] - 1s 14ms/step - loss: 0.6120 - accuracy: 0.6559 - val_loss: 0.6638 - val_accuracy: 0.6250\n",
            "Epoch 10/10\n",
            "54/54 [==============================] - 1s 13ms/step - loss: 0.6014 - accuracy: 0.6750 - val_loss: 0.6454 - val_accuracy: 0.6217\n"
          ]
        },
        {
          "output_type": "stream",
          "name": "stderr",
          "text": [
            "\u001b[32m[I 2022-01-31 15:24:10,900]\u001b[0m Trial 0 finished with value: 0.6039999723434448 and parameters: {'filters': 128, 'kernel_size': 1, 'strides': 2}. Best is trial 0 with value: 0.6039999723434448.\u001b[0m\n"
          ]
        },
        {
          "output_type": "stream",
          "name": "stdout",
          "text": [
            "Epoch 1/10\n",
            "54/54 [==============================] - 3s 19ms/step - loss: 0.7242 - accuracy: 0.5406 - val_loss: 0.6767 - val_accuracy: 0.5833\n",
            "Epoch 2/10\n",
            "54/54 [==============================] - 1s 13ms/step - loss: 0.6993 - accuracy: 0.5606 - val_loss: 0.6871 - val_accuracy: 0.5717\n",
            "Epoch 3/10\n",
            "54/54 [==============================] - 1s 13ms/step - loss: 0.6800 - accuracy: 0.5844 - val_loss: 0.6733 - val_accuracy: 0.5900\n",
            "Epoch 4/10\n",
            "54/54 [==============================] - 1s 13ms/step - loss: 0.6642 - accuracy: 0.5991 - val_loss: 0.6856 - val_accuracy: 0.5850\n",
            "Epoch 5/10\n",
            "54/54 [==============================] - 1s 13ms/step - loss: 0.6586 - accuracy: 0.6129 - val_loss: 0.6565 - val_accuracy: 0.6050\n",
            "Epoch 6/10\n",
            "54/54 [==============================] - 1s 13ms/step - loss: 0.6488 - accuracy: 0.6182 - val_loss: 0.6637 - val_accuracy: 0.6000\n",
            "Epoch 7/10\n",
            "54/54 [==============================] - 1s 13ms/step - loss: 0.6392 - accuracy: 0.6341 - val_loss: 0.6556 - val_accuracy: 0.6000\n",
            "Epoch 8/10\n",
            "54/54 [==============================] - 1s 13ms/step - loss: 0.6356 - accuracy: 0.6303 - val_loss: 0.6751 - val_accuracy: 0.5650\n",
            "Epoch 9/10\n",
            "54/54 [==============================] - 1s 13ms/step - loss: 0.6291 - accuracy: 0.6312 - val_loss: 0.6505 - val_accuracy: 0.6200\n",
            "Epoch 10/10\n",
            "54/54 [==============================] - 1s 13ms/step - loss: 0.6147 - accuracy: 0.6559 - val_loss: 0.6584 - val_accuracy: 0.6000\n"
          ]
        },
        {
          "output_type": "stream",
          "name": "stderr",
          "text": [
            "\u001b[32m[I 2022-01-31 15:24:20,305]\u001b[0m Trial 1 finished with value: 0.6299999952316284 and parameters: {'filters': 32, 'kernel_size': 2, 'strides': 1}. Best is trial 1 with value: 0.6299999952316284.\u001b[0m\n"
          ]
        },
        {
          "output_type": "stream",
          "name": "stdout",
          "text": [
            "Epoch 1/10\n",
            "54/54 [==============================] - 3s 19ms/step - loss: 0.6977 - accuracy: 0.5318 - val_loss: 0.6799 - val_accuracy: 0.5683\n",
            "Epoch 2/10\n",
            "54/54 [==============================] - 1s 13ms/step - loss: 0.6762 - accuracy: 0.5762 - val_loss: 0.6800 - val_accuracy: 0.5667\n",
            "Epoch 3/10\n",
            "54/54 [==============================] - 1s 12ms/step - loss: 0.6659 - accuracy: 0.5956 - val_loss: 0.6782 - val_accuracy: 0.5800\n",
            "Epoch 4/10\n",
            "54/54 [==============================] - 1s 13ms/step - loss: 0.6590 - accuracy: 0.5994 - val_loss: 0.6777 - val_accuracy: 0.5817\n",
            "Epoch 5/10\n",
            "54/54 [==============================] - 1s 13ms/step - loss: 0.6519 - accuracy: 0.6059 - val_loss: 0.6663 - val_accuracy: 0.5917\n",
            "Epoch 6/10\n",
            "54/54 [==============================] - 1s 13ms/step - loss: 0.6480 - accuracy: 0.6209 - val_loss: 0.6568 - val_accuracy: 0.6133\n",
            "Epoch 7/10\n",
            "54/54 [==============================] - 1s 13ms/step - loss: 0.6414 - accuracy: 0.6288 - val_loss: 0.6514 - val_accuracy: 0.6183\n",
            "Epoch 8/10\n",
            "54/54 [==============================] - 1s 13ms/step - loss: 0.6432 - accuracy: 0.6306 - val_loss: 0.6508 - val_accuracy: 0.5983\n",
            "Epoch 9/10\n",
            "54/54 [==============================] - 1s 13ms/step - loss: 0.6317 - accuracy: 0.6459 - val_loss: 0.6599 - val_accuracy: 0.5867\n",
            "Epoch 10/10\n",
            "54/54 [==============================] - 1s 13ms/step - loss: 0.6220 - accuracy: 0.6524 - val_loss: 0.6498 - val_accuracy: 0.6200\n"
          ]
        },
        {
          "output_type": "stream",
          "name": "stderr",
          "text": [
            "\u001b[32m[I 2022-01-31 15:24:29,640]\u001b[0m Trial 2 finished with value: 0.5920000076293945 and parameters: {'filters': 32, 'kernel_size': 1, 'strides': 1}. Best is trial 1 with value: 0.6299999952316284.\u001b[0m\n"
          ]
        },
        {
          "output_type": "stream",
          "name": "stdout",
          "text": [
            "Epoch 1/10\n",
            "54/54 [==============================] - 3s 22ms/step - loss: 0.7061 - accuracy: 0.5412 - val_loss: 0.6799 - val_accuracy: 0.5950\n",
            "Epoch 2/10\n",
            "54/54 [==============================] - 1s 16ms/step - loss: 0.6797 - accuracy: 0.5771 - val_loss: 0.6773 - val_accuracy: 0.5983\n",
            "Epoch 3/10\n",
            "54/54 [==============================] - 1s 16ms/step - loss: 0.6681 - accuracy: 0.5926 - val_loss: 0.6640 - val_accuracy: 0.6083\n",
            "Epoch 4/10\n",
            "54/54 [==============================] - 1s 16ms/step - loss: 0.6558 - accuracy: 0.6118 - val_loss: 0.6640 - val_accuracy: 0.6167\n",
            "Epoch 5/10\n",
            "54/54 [==============================] - 1s 16ms/step - loss: 0.6583 - accuracy: 0.6141 - val_loss: 0.6575 - val_accuracy: 0.6100\n",
            "Epoch 6/10\n",
            "54/54 [==============================] - 1s 16ms/step - loss: 0.6447 - accuracy: 0.6294 - val_loss: 0.6564 - val_accuracy: 0.6150\n",
            "Epoch 7/10\n",
            "54/54 [==============================] - 1s 16ms/step - loss: 0.6432 - accuracy: 0.6300 - val_loss: 0.6690 - val_accuracy: 0.5950\n",
            "Epoch 8/10\n",
            "54/54 [==============================] - 1s 16ms/step - loss: 0.6271 - accuracy: 0.6394 - val_loss: 0.6516 - val_accuracy: 0.6500\n",
            "Epoch 9/10\n",
            "54/54 [==============================] - 1s 16ms/step - loss: 0.6221 - accuracy: 0.6500 - val_loss: 0.6574 - val_accuracy: 0.6067\n",
            "Epoch 10/10\n",
            "54/54 [==============================] - 1s 16ms/step - loss: 0.6233 - accuracy: 0.6515 - val_loss: 0.6542 - val_accuracy: 0.6233\n"
          ]
        },
        {
          "output_type": "stream",
          "name": "stderr",
          "text": [
            "\u001b[32m[I 2022-01-31 15:24:41,989]\u001b[0m Trial 3 finished with value: 0.6200000047683716 and parameters: {'filters': 128, 'kernel_size': 1, 'strides': 1}. Best is trial 1 with value: 0.6299999952316284.\u001b[0m\n"
          ]
        },
        {
          "output_type": "stream",
          "name": "stdout",
          "text": [
            "Epoch 1/10\n",
            "54/54 [==============================] - 2s 18ms/step - loss: 0.7213 - accuracy: 0.5371 - val_loss: 0.6906 - val_accuracy: 0.5683\n",
            "Epoch 2/10\n",
            "54/54 [==============================] - 1s 13ms/step - loss: 0.6981 - accuracy: 0.5659 - val_loss: 0.6819 - val_accuracy: 0.5717\n",
            "Epoch 3/10\n",
            "54/54 [==============================] - 1s 12ms/step - loss: 0.6833 - accuracy: 0.5785 - val_loss: 0.6797 - val_accuracy: 0.5800\n",
            "Epoch 4/10\n",
            "54/54 [==============================] - 1s 12ms/step - loss: 0.6718 - accuracy: 0.5926 - val_loss: 0.6806 - val_accuracy: 0.5700\n",
            "Epoch 5/10\n",
            "54/54 [==============================] - 1s 12ms/step - loss: 0.6615 - accuracy: 0.6032 - val_loss: 0.6597 - val_accuracy: 0.6050\n",
            "Epoch 6/10\n",
            "54/54 [==============================] - 1s 12ms/step - loss: 0.6542 - accuracy: 0.6203 - val_loss: 0.6679 - val_accuracy: 0.6033\n",
            "Epoch 7/10\n",
            "54/54 [==============================] - 1s 12ms/step - loss: 0.6416 - accuracy: 0.6285 - val_loss: 0.6522 - val_accuracy: 0.6183\n",
            "Epoch 8/10\n",
            "54/54 [==============================] - 1s 13ms/step - loss: 0.6311 - accuracy: 0.6350 - val_loss: 0.6668 - val_accuracy: 0.6100\n",
            "Epoch 9/10\n",
            "54/54 [==============================] - 1s 12ms/step - loss: 0.6248 - accuracy: 0.6471 - val_loss: 0.6590 - val_accuracy: 0.5883\n",
            "Epoch 10/10\n",
            "54/54 [==============================] - 1s 12ms/step - loss: 0.6174 - accuracy: 0.6559 - val_loss: 0.6584 - val_accuracy: 0.6050\n"
          ]
        },
        {
          "output_type": "stream",
          "name": "stderr",
          "text": [
            "\u001b[32m[I 2022-01-31 15:24:51,098]\u001b[0m Trial 4 finished with value: 0.6299999952316284 and parameters: {'filters': 32, 'kernel_size': 1, 'strides': 2}. Best is trial 1 with value: 0.6299999952316284.\u001b[0m\n"
          ]
        },
        {
          "output_type": "stream",
          "name": "stdout",
          "text": [
            "Epoch 1/10\n",
            "54/54 [==============================] - 3s 18ms/step - loss: 0.7305 - accuracy: 0.5356 - val_loss: 0.6843 - val_accuracy: 0.5600\n",
            "Epoch 2/10\n",
            "54/54 [==============================] - 1s 12ms/step - loss: 0.6952 - accuracy: 0.5738 - val_loss: 0.6802 - val_accuracy: 0.5633\n",
            "Epoch 3/10\n",
            "54/54 [==============================] - 1s 12ms/step - loss: 0.6766 - accuracy: 0.5982 - val_loss: 0.6701 - val_accuracy: 0.5783\n",
            "Epoch 4/10\n",
            "54/54 [==============================] - 1s 12ms/step - loss: 0.6607 - accuracy: 0.6050 - val_loss: 0.6580 - val_accuracy: 0.6000\n",
            "Epoch 5/10\n",
            "54/54 [==============================] - 1s 12ms/step - loss: 0.6496 - accuracy: 0.6200 - val_loss: 0.6681 - val_accuracy: 0.5850\n",
            "Epoch 6/10\n",
            "54/54 [==============================] - 1s 12ms/step - loss: 0.6421 - accuracy: 0.6321 - val_loss: 0.6564 - val_accuracy: 0.6283\n",
            "Epoch 7/10\n",
            "54/54 [==============================] - 1s 13ms/step - loss: 0.6363 - accuracy: 0.6362 - val_loss: 0.6640 - val_accuracy: 0.6067\n",
            "Epoch 8/10\n",
            "54/54 [==============================] - 1s 12ms/step - loss: 0.6253 - accuracy: 0.6529 - val_loss: 0.6658 - val_accuracy: 0.5900\n",
            "Epoch 9/10\n",
            "54/54 [==============================] - 1s 12ms/step - loss: 0.6163 - accuracy: 0.6600 - val_loss: 0.6599 - val_accuracy: 0.6183\n",
            "Epoch 10/10\n",
            "54/54 [==============================] - 1s 12ms/step - loss: 0.5977 - accuracy: 0.6762 - val_loss: 0.6973 - val_accuracy: 0.6067\n"
          ]
        },
        {
          "output_type": "stream",
          "name": "stderr",
          "text": [
            "\u001b[32m[I 2022-01-31 15:25:00,772]\u001b[0m Trial 5 finished with value: 0.6079999804496765 and parameters: {'filters': 32, 'kernel_size': 2, 'strides': 2}. Best is trial 1 with value: 0.6299999952316284.\u001b[0m\n"
          ]
        },
        {
          "output_type": "stream",
          "name": "stdout",
          "text": [
            "Epoch 1/10\n",
            "54/54 [==============================] - 3s 19ms/step - loss: 0.7363 - accuracy: 0.5326 - val_loss: 0.6779 - val_accuracy: 0.5733\n",
            "Epoch 2/10\n",
            "54/54 [==============================] - 1s 13ms/step - loss: 0.6984 - accuracy: 0.5665 - val_loss: 0.6786 - val_accuracy: 0.5867\n",
            "Epoch 3/10\n",
            "54/54 [==============================] - 1s 13ms/step - loss: 0.6853 - accuracy: 0.5832 - val_loss: 0.6718 - val_accuracy: 0.5883\n",
            "Epoch 4/10\n",
            "54/54 [==============================] - 1s 13ms/step - loss: 0.6734 - accuracy: 0.5906 - val_loss: 0.6635 - val_accuracy: 0.5767\n",
            "Epoch 5/10\n",
            "54/54 [==============================] - 1s 13ms/step - loss: 0.6549 - accuracy: 0.6109 - val_loss: 0.6714 - val_accuracy: 0.5550\n",
            "Epoch 6/10\n",
            "54/54 [==============================] - 1s 12ms/step - loss: 0.6629 - accuracy: 0.5968 - val_loss: 0.6584 - val_accuracy: 0.5950\n",
            "Epoch 7/10\n",
            "54/54 [==============================] - 1s 13ms/step - loss: 0.6437 - accuracy: 0.6262 - val_loss: 0.6457 - val_accuracy: 0.6067\n",
            "Epoch 8/10\n",
            "54/54 [==============================] - 1s 12ms/step - loss: 0.6373 - accuracy: 0.6297 - val_loss: 0.6532 - val_accuracy: 0.6383\n",
            "Epoch 9/10\n",
            "54/54 [==============================] - 1s 13ms/step - loss: 0.6520 - accuracy: 0.6244 - val_loss: 0.6469 - val_accuracy: 0.6433\n",
            "Epoch 10/10\n",
            "54/54 [==============================] - 1s 13ms/step - loss: 0.6171 - accuracy: 0.6518 - val_loss: 0.6497 - val_accuracy: 0.6217\n"
          ]
        },
        {
          "output_type": "stream",
          "name": "stderr",
          "text": [
            "\u001b[32m[I 2022-01-31 15:25:10,066]\u001b[0m Trial 6 finished with value: 0.5960000157356262 and parameters: {'filters': 64, 'kernel_size': 1, 'strides': 2}. Best is trial 1 with value: 0.6299999952316284.\u001b[0m\n"
          ]
        },
        {
          "output_type": "stream",
          "name": "stdout",
          "text": [
            "Epoch 1/10\n",
            "54/54 [==============================] - 3s 22ms/step - loss: 0.6940 - accuracy: 0.5479 - val_loss: 0.6836 - val_accuracy: 0.5683\n",
            "Epoch 2/10\n",
            "54/54 [==============================] - 1s 16ms/step - loss: 0.6785 - accuracy: 0.5629 - val_loss: 0.6778 - val_accuracy: 0.5683\n",
            "Epoch 3/10\n",
            "54/54 [==============================] - 1s 16ms/step - loss: 0.6663 - accuracy: 0.5874 - val_loss: 0.6749 - val_accuracy: 0.5917\n",
            "Epoch 4/10\n",
            "54/54 [==============================] - 1s 16ms/step - loss: 0.6608 - accuracy: 0.5953 - val_loss: 0.6665 - val_accuracy: 0.6067\n",
            "Epoch 5/10\n",
            "54/54 [==============================] - 1s 16ms/step - loss: 0.6498 - accuracy: 0.6141 - val_loss: 0.6741 - val_accuracy: 0.5633\n",
            "Epoch 6/10\n",
            "54/54 [==============================] - 1s 16ms/step - loss: 0.6501 - accuracy: 0.6185 - val_loss: 0.6535 - val_accuracy: 0.6250\n",
            "Epoch 7/10\n",
            "54/54 [==============================] - 1s 16ms/step - loss: 0.6359 - accuracy: 0.6335 - val_loss: 0.6601 - val_accuracy: 0.6050\n",
            "Epoch 8/10\n",
            "54/54 [==============================] - 1s 16ms/step - loss: 0.6312 - accuracy: 0.6332 - val_loss: 0.6585 - val_accuracy: 0.6117\n",
            "Epoch 9/10\n",
            "54/54 [==============================] - 1s 16ms/step - loss: 0.6227 - accuracy: 0.6550 - val_loss: 0.6592 - val_accuracy: 0.6117\n",
            "Epoch 10/10\n",
            "54/54 [==============================] - 1s 16ms/step - loss: 0.6266 - accuracy: 0.6415 - val_loss: 0.6597 - val_accuracy: 0.6100\n"
          ]
        },
        {
          "output_type": "stream",
          "name": "stderr",
          "text": [
            "\u001b[32m[I 2022-01-31 15:25:21,268]\u001b[0m Trial 7 finished with value: 0.6140000224113464 and parameters: {'filters': 128, 'kernel_size': 2, 'strides': 1}. Best is trial 1 with value: 0.6299999952316284.\u001b[0m\n"
          ]
        },
        {
          "output_type": "stream",
          "name": "stdout",
          "text": [
            "Epoch 1/10\n",
            "54/54 [==============================] - 3s 19ms/step - loss: 0.7207 - accuracy: 0.5447 - val_loss: 0.6785 - val_accuracy: 0.5883\n",
            "Epoch 2/10\n",
            "54/54 [==============================] - 1s 14ms/step - loss: 0.6901 - accuracy: 0.5479 - val_loss: 0.6744 - val_accuracy: 0.5967\n",
            "Epoch 3/10\n",
            "54/54 [==============================] - 1s 14ms/step - loss: 0.6814 - accuracy: 0.5782 - val_loss: 0.6700 - val_accuracy: 0.5850\n",
            "Epoch 4/10\n",
            "54/54 [==============================] - 1s 14ms/step - loss: 0.6667 - accuracy: 0.6038 - val_loss: 0.6686 - val_accuracy: 0.5900\n",
            "Epoch 5/10\n",
            "54/54 [==============================] - 1s 14ms/step - loss: 0.6623 - accuracy: 0.5953 - val_loss: 0.6597 - val_accuracy: 0.6000\n",
            "Epoch 6/10\n",
            "54/54 [==============================] - 1s 13ms/step - loss: 0.6511 - accuracy: 0.6194 - val_loss: 0.6728 - val_accuracy: 0.5700\n",
            "Epoch 7/10\n",
            "54/54 [==============================] - 1s 14ms/step - loss: 0.6439 - accuracy: 0.6200 - val_loss: 0.6587 - val_accuracy: 0.6117\n",
            "Epoch 8/10\n",
            "54/54 [==============================] - 1s 14ms/step - loss: 0.6400 - accuracy: 0.6347 - val_loss: 0.6515 - val_accuracy: 0.6250\n",
            "Epoch 9/10\n",
            "54/54 [==============================] - 1s 13ms/step - loss: 0.6294 - accuracy: 0.6497 - val_loss: 0.6775 - val_accuracy: 0.5917\n",
            "Epoch 10/10\n",
            "54/54 [==============================] - 1s 14ms/step - loss: 0.6210 - accuracy: 0.6576 - val_loss: 0.6643 - val_accuracy: 0.5917\n"
          ]
        },
        {
          "output_type": "stream",
          "name": "stderr",
          "text": [
            "\u001b[32m[I 2022-01-31 15:25:33,516]\u001b[0m Trial 8 finished with value: 0.5920000076293945 and parameters: {'filters': 64, 'kernel_size': 1, 'strides': 1}. Best is trial 1 with value: 0.6299999952316284.\u001b[0m\n"
          ]
        },
        {
          "output_type": "stream",
          "name": "stdout",
          "text": [
            "Epoch 1/10\n",
            "54/54 [==============================] - 3s 20ms/step - loss: 0.7383 - accuracy: 0.5329 - val_loss: 0.6782 - val_accuracy: 0.5867\n",
            "Epoch 2/10\n",
            "54/54 [==============================] - 1s 14ms/step - loss: 0.6926 - accuracy: 0.5626 - val_loss: 0.6713 - val_accuracy: 0.5967\n",
            "Epoch 3/10\n",
            "54/54 [==============================] - 1s 13ms/step - loss: 0.6776 - accuracy: 0.5788 - val_loss: 0.6771 - val_accuracy: 0.5850\n",
            "Epoch 4/10\n",
            "54/54 [==============================] - 1s 14ms/step - loss: 0.6717 - accuracy: 0.5844 - val_loss: 0.6724 - val_accuracy: 0.5933\n",
            "Epoch 5/10\n",
            "54/54 [==============================] - 1s 14ms/step - loss: 0.6647 - accuracy: 0.6006 - val_loss: 0.6603 - val_accuracy: 0.6083\n",
            "Epoch 6/10\n",
            "54/54 [==============================] - 1s 13ms/step - loss: 0.6562 - accuracy: 0.6071 - val_loss: 0.6619 - val_accuracy: 0.6267\n",
            "Epoch 7/10\n",
            "54/54 [==============================] - 1s 13ms/step - loss: 0.6441 - accuracy: 0.6265 - val_loss: 0.6533 - val_accuracy: 0.6167\n",
            "Epoch 8/10\n",
            "54/54 [==============================] - 1s 13ms/step - loss: 0.6355 - accuracy: 0.6365 - val_loss: 0.6537 - val_accuracy: 0.6183\n",
            "Epoch 9/10\n",
            "54/54 [==============================] - 1s 14ms/step - loss: 0.6213 - accuracy: 0.6571 - val_loss: 0.6517 - val_accuracy: 0.5967\n",
            "Epoch 10/10\n",
            "54/54 [==============================] - 1s 13ms/step - loss: 0.6166 - accuracy: 0.6535 - val_loss: 0.6602 - val_accuracy: 0.6350\n"
          ]
        },
        {
          "output_type": "stream",
          "name": "stderr",
          "text": [
            "\u001b[32m[I 2022-01-31 15:25:43,303]\u001b[0m Trial 9 finished with value: 0.6140000224113464 and parameters: {'filters': 64, 'kernel_size': 1, 'strides': 1}. Best is trial 1 with value: 0.6299999952316284.\u001b[0m\n"
          ]
        },
        {
          "output_type": "stream",
          "name": "stdout",
          "text": [
            "Number of finished trials: 10\n",
            "Best trial:\n",
            "  Value: 0.6299999952316284\n",
            "  Params: \n",
            "    filters: 32\n",
            "    kernel_size: 2\n",
            "    strides: 1\n"
          ]
        }
      ],
      "source": [
        "def objective(trial):\n",
        "\n",
        "    model = CompactNet(trial)\n",
        "\n",
        "\n",
        "    model.fit(\n",
        "        X_train, Y_train,\n",
        "        validation_split=0.15,\n",
        "        shuffle=True,\n",
        "        batch_size=batch_size,\n",
        "        epochs=epochs,\n",
        "        verbose=1\n",
        "    )\n",
        "\n",
        "    # Evaluate the model accuracy on the Test set.\n",
        "    score = model.evaluate(X_test, Y_test, verbose=0)\n",
        "    return score[1]\n",
        "\n",
        "\n",
        "study = optuna.create_study(direction=\"maximize\", sampler=optuna.samplers.NSGAIISampler())\n",
        "# study = optuna.create_study(direction=\"maximize\")\n",
        "study.optimize(objective, n_trials=n_trials)\n",
        "# study.optimize(objective, n_trials=5)\n",
        "print(\"Number of finished trials: {}\".format(len(study.trials)))\n",
        "\n",
        "print(\"Best trial:\")\n",
        "trial = study.best_trial\n",
        "\n",
        "print(\"  Value: {}\".format(trial.value))\n",
        "\n",
        "print(\"  Params: \")\n",
        "for key, value in trial.params.items():\n",
        "    print(\"    {}: {}\".format(key, value))\n",
        "\n",
        "# print(\"Training model with best_params {}\".format(study.best_params))"
      ]
    },
    {
      "cell_type": "code",
      "execution_count": null,
      "metadata": {
        "colab": {
          "base_uri": "https://localhost:8080/",
          "height": 504
        },
        "outputId": "ecbb896c-c01a-4634-bd06-2f52baa87d53",
        "id": "xPeUeBrreyEJ"
      },
      "outputs": [
        {
          "output_type": "execute_result",
          "data": {
            "text/html": [
              "\n",
              "  <div id=\"df-cccab241-ba53-425e-ae65-509eb827010d\">\n",
              "    <div class=\"colab-df-container\">\n",
              "      <div>\n",
              "<style scoped>\n",
              "    .dataframe tbody tr th:only-of-type {\n",
              "        vertical-align: middle;\n",
              "    }\n",
              "\n",
              "    .dataframe tbody tr th {\n",
              "        vertical-align: top;\n",
              "    }\n",
              "\n",
              "    .dataframe thead th {\n",
              "        text-align: right;\n",
              "    }\n",
              "</style>\n",
              "<table border=\"1\" class=\"dataframe\">\n",
              "  <thead>\n",
              "    <tr style=\"text-align: right;\">\n",
              "      <th></th>\n",
              "      <th>number</th>\n",
              "      <th>value</th>\n",
              "      <th>datetime_start</th>\n",
              "      <th>datetime_complete</th>\n",
              "      <th>duration</th>\n",
              "      <th>params_filters</th>\n",
              "      <th>params_kernel_size</th>\n",
              "      <th>params_strides</th>\n",
              "      <th>system_attrs_nsga2:generation</th>\n",
              "      <th>state</th>\n",
              "    </tr>\n",
              "  </thead>\n",
              "  <tbody>\n",
              "    <tr>\n",
              "      <th>0</th>\n",
              "      <td>0</td>\n",
              "      <td>0.604</td>\n",
              "      <td>2022-01-31 15:23:59.166374</td>\n",
              "      <td>2022-01-31 15:24:10.899614</td>\n",
              "      <td>0 days 00:00:11.733240</td>\n",
              "      <td>128</td>\n",
              "      <td>1</td>\n",
              "      <td>2</td>\n",
              "      <td>0</td>\n",
              "      <td>COMPLETE</td>\n",
              "    </tr>\n",
              "    <tr>\n",
              "      <th>1</th>\n",
              "      <td>1</td>\n",
              "      <td>0.630</td>\n",
              "      <td>2022-01-31 15:24:10.901591</td>\n",
              "      <td>2022-01-31 15:24:20.305586</td>\n",
              "      <td>0 days 00:00:09.403995</td>\n",
              "      <td>32</td>\n",
              "      <td>2</td>\n",
              "      <td>1</td>\n",
              "      <td>0</td>\n",
              "      <td>COMPLETE</td>\n",
              "    </tr>\n",
              "    <tr>\n",
              "      <th>2</th>\n",
              "      <td>2</td>\n",
              "      <td>0.592</td>\n",
              "      <td>2022-01-31 15:24:20.307663</td>\n",
              "      <td>2022-01-31 15:24:29.640089</td>\n",
              "      <td>0 days 00:00:09.332426</td>\n",
              "      <td>32</td>\n",
              "      <td>1</td>\n",
              "      <td>1</td>\n",
              "      <td>0</td>\n",
              "      <td>COMPLETE</td>\n",
              "    </tr>\n",
              "    <tr>\n",
              "      <th>3</th>\n",
              "      <td>3</td>\n",
              "      <td>0.620</td>\n",
              "      <td>2022-01-31 15:24:29.642109</td>\n",
              "      <td>2022-01-31 15:24:41.988718</td>\n",
              "      <td>0 days 00:00:12.346609</td>\n",
              "      <td>128</td>\n",
              "      <td>1</td>\n",
              "      <td>1</td>\n",
              "      <td>0</td>\n",
              "      <td>COMPLETE</td>\n",
              "    </tr>\n",
              "    <tr>\n",
              "      <th>4</th>\n",
              "      <td>4</td>\n",
              "      <td>0.630</td>\n",
              "      <td>2022-01-31 15:24:41.990650</td>\n",
              "      <td>2022-01-31 15:24:51.097808</td>\n",
              "      <td>0 days 00:00:09.107158</td>\n",
              "      <td>32</td>\n",
              "      <td>1</td>\n",
              "      <td>2</td>\n",
              "      <td>0</td>\n",
              "      <td>COMPLETE</td>\n",
              "    </tr>\n",
              "    <tr>\n",
              "      <th>5</th>\n",
              "      <td>5</td>\n",
              "      <td>0.608</td>\n",
              "      <td>2022-01-31 15:24:51.099823</td>\n",
              "      <td>2022-01-31 15:25:00.772449</td>\n",
              "      <td>0 days 00:00:09.672626</td>\n",
              "      <td>32</td>\n",
              "      <td>2</td>\n",
              "      <td>2</td>\n",
              "      <td>0</td>\n",
              "      <td>COMPLETE</td>\n",
              "    </tr>\n",
              "    <tr>\n",
              "      <th>6</th>\n",
              "      <td>6</td>\n",
              "      <td>0.596</td>\n",
              "      <td>2022-01-31 15:25:00.774552</td>\n",
              "      <td>2022-01-31 15:25:10.066478</td>\n",
              "      <td>0 days 00:00:09.291926</td>\n",
              "      <td>64</td>\n",
              "      <td>1</td>\n",
              "      <td>2</td>\n",
              "      <td>0</td>\n",
              "      <td>COMPLETE</td>\n",
              "    </tr>\n",
              "    <tr>\n",
              "      <th>7</th>\n",
              "      <td>7</td>\n",
              "      <td>0.614</td>\n",
              "      <td>2022-01-31 15:25:10.068517</td>\n",
              "      <td>2022-01-31 15:25:21.268106</td>\n",
              "      <td>0 days 00:00:11.199589</td>\n",
              "      <td>128</td>\n",
              "      <td>2</td>\n",
              "      <td>1</td>\n",
              "      <td>0</td>\n",
              "      <td>COMPLETE</td>\n",
              "    </tr>\n",
              "    <tr>\n",
              "      <th>8</th>\n",
              "      <td>8</td>\n",
              "      <td>0.592</td>\n",
              "      <td>2022-01-31 15:25:21.270051</td>\n",
              "      <td>2022-01-31 15:25:33.516575</td>\n",
              "      <td>0 days 00:00:12.246524</td>\n",
              "      <td>64</td>\n",
              "      <td>1</td>\n",
              "      <td>1</td>\n",
              "      <td>0</td>\n",
              "      <td>COMPLETE</td>\n",
              "    </tr>\n",
              "    <tr>\n",
              "      <th>9</th>\n",
              "      <td>9</td>\n",
              "      <td>0.614</td>\n",
              "      <td>2022-01-31 15:25:33.518634</td>\n",
              "      <td>2022-01-31 15:25:43.303221</td>\n",
              "      <td>0 days 00:00:09.784587</td>\n",
              "      <td>64</td>\n",
              "      <td>1</td>\n",
              "      <td>1</td>\n",
              "      <td>0</td>\n",
              "      <td>COMPLETE</td>\n",
              "    </tr>\n",
              "  </tbody>\n",
              "</table>\n",
              "</div>\n",
              "      <button class=\"colab-df-convert\" onclick=\"convertToInteractive('df-cccab241-ba53-425e-ae65-509eb827010d')\"\n",
              "              title=\"Convert this dataframe to an interactive table.\"\n",
              "              style=\"display:none;\">\n",
              "        \n",
              "  <svg xmlns=\"http://www.w3.org/2000/svg\" height=\"24px\"viewBox=\"0 0 24 24\"\n",
              "       width=\"24px\">\n",
              "    <path d=\"M0 0h24v24H0V0z\" fill=\"none\"/>\n",
              "    <path d=\"M18.56 5.44l.94 2.06.94-2.06 2.06-.94-2.06-.94-.94-2.06-.94 2.06-2.06.94zm-11 1L8.5 8.5l.94-2.06 2.06-.94-2.06-.94L8.5 2.5l-.94 2.06-2.06.94zm10 10l.94 2.06.94-2.06 2.06-.94-2.06-.94-.94-2.06-.94 2.06-2.06.94z\"/><path d=\"M17.41 7.96l-1.37-1.37c-.4-.4-.92-.59-1.43-.59-.52 0-1.04.2-1.43.59L10.3 9.45l-7.72 7.72c-.78.78-.78 2.05 0 2.83L4 21.41c.39.39.9.59 1.41.59.51 0 1.02-.2 1.41-.59l7.78-7.78 2.81-2.81c.8-.78.8-2.07 0-2.86zM5.41 20L4 18.59l7.72-7.72 1.47 1.35L5.41 20z\"/>\n",
              "  </svg>\n",
              "      </button>\n",
              "      \n",
              "  <style>\n",
              "    .colab-df-container {\n",
              "      display:flex;\n",
              "      flex-wrap:wrap;\n",
              "      gap: 12px;\n",
              "    }\n",
              "\n",
              "    .colab-df-convert {\n",
              "      background-color: #E8F0FE;\n",
              "      border: none;\n",
              "      border-radius: 50%;\n",
              "      cursor: pointer;\n",
              "      display: none;\n",
              "      fill: #1967D2;\n",
              "      height: 32px;\n",
              "      padding: 0 0 0 0;\n",
              "      width: 32px;\n",
              "    }\n",
              "\n",
              "    .colab-df-convert:hover {\n",
              "      background-color: #E2EBFA;\n",
              "      box-shadow: 0px 1px 2px rgba(60, 64, 67, 0.3), 0px 1px 3px 1px rgba(60, 64, 67, 0.15);\n",
              "      fill: #174EA6;\n",
              "    }\n",
              "\n",
              "    [theme=dark] .colab-df-convert {\n",
              "      background-color: #3B4455;\n",
              "      fill: #D2E3FC;\n",
              "    }\n",
              "\n",
              "    [theme=dark] .colab-df-convert:hover {\n",
              "      background-color: #434B5C;\n",
              "      box-shadow: 0px 1px 3px 1px rgba(0, 0, 0, 0.15);\n",
              "      filter: drop-shadow(0px 1px 2px rgba(0, 0, 0, 0.3));\n",
              "      fill: #FFFFFF;\n",
              "    }\n",
              "  </style>\n",
              "\n",
              "      <script>\n",
              "        const buttonEl =\n",
              "          document.querySelector('#df-cccab241-ba53-425e-ae65-509eb827010d button.colab-df-convert');\n",
              "        buttonEl.style.display =\n",
              "          google.colab.kernel.accessAllowed ? 'block' : 'none';\n",
              "\n",
              "        async function convertToInteractive(key) {\n",
              "          const element = document.querySelector('#df-cccab241-ba53-425e-ae65-509eb827010d');\n",
              "          const dataTable =\n",
              "            await google.colab.kernel.invokeFunction('convertToInteractive',\n",
              "                                                     [key], {});\n",
              "          if (!dataTable) return;\n",
              "\n",
              "          const docLinkHtml = 'Like what you see? Visit the ' +\n",
              "            '<a target=\"_blank\" href=https://colab.research.google.com/notebooks/data_table.ipynb>data table notebook</a>'\n",
              "            + ' to learn more about interactive tables.';\n",
              "          element.innerHTML = '';\n",
              "          dataTable['output_type'] = 'display_data';\n",
              "          await google.colab.output.renderOutput(dataTable, element);\n",
              "          const docLink = document.createElement('div');\n",
              "          docLink.innerHTML = docLinkHtml;\n",
              "          element.appendChild(docLink);\n",
              "        }\n",
              "      </script>\n",
              "    </div>\n",
              "  </div>\n",
              "  "
            ],
            "text/plain": [
              "   number  value  ... system_attrs_nsga2:generation     state\n",
              "0       0  0.604  ...                             0  COMPLETE\n",
              "1       1  0.630  ...                             0  COMPLETE\n",
              "2       2  0.592  ...                             0  COMPLETE\n",
              "3       3  0.620  ...                             0  COMPLETE\n",
              "4       4  0.630  ...                             0  COMPLETE\n",
              "5       5  0.608  ...                             0  COMPLETE\n",
              "6       6  0.596  ...                             0  COMPLETE\n",
              "7       7  0.614  ...                             0  COMPLETE\n",
              "8       8  0.592  ...                             0  COMPLETE\n",
              "9       9  0.614  ...                             0  COMPLETE\n",
              "\n",
              "[10 rows x 10 columns]"
            ]
          },
          "metadata": {},
          "execution_count": 44
        }
      ],
      "source": [
        "trials_df = study.trials_dataframe()\n",
        "trials_df.to_csv('trials_history.csv')\n",
        "trials_df"
      ]
    },
    {
      "cell_type": "markdown",
      "source": [
        "###2nd Layer (i.e. C3) HPO"
      ],
      "metadata": {
        "id": "taa1M3Y3rthy"
      }
    },
    {
      "cell_type": "code",
      "execution_count": null,
      "metadata": {
        "id": "ZhlVBsCtrthz"
      },
      "outputs": [],
      "source": [
        "def CompactNet(trial):\n",
        "    \n",
        "    X_input = Input(shape = (window_size, channel_len))\n",
        "\n",
        "    x = Conv1D(32, kernel_size = 2, strides = 1, padding = 'same', activation='relu', name='C1')(X_input)\n",
        "\n",
        "    x = AveragePooling1D(\n",
        "        pool_size=2,\n",
        "        name='AP1')(x)\n",
        "\n",
        "    x = BatchNormalization(name='BN1')(x)\n",
        "\n",
        "    x = Conv1D(\n",
        "        filters=trial.suggest_categorical('filters', [32, 64, 128]), \n",
        "        kernel_size=trial.suggest_categorical('kernel_size', [3, 5]), \n",
        "        strides=trial.suggest_categorical('strides', [1, 2]),\n",
        "        padding = 'same', \n",
        "        activation='relu', \n",
        "        name='C3')(x)\n",
        "\n",
        "\n",
        "    x = AveragePooling1D(pool_size=2, name='AP2')(x)\n",
        "\n",
        "    x = BatchNormalization(name='BN2')(x)\n",
        "\n",
        "\n",
        "    x = Conv1D(\n",
        "        filters=128,\n",
        "        kernel_size = 3, \n",
        "        strides = 1, \n",
        "        padding = 'valid', \n",
        "        activation='relu', \n",
        "        name='C7')(x)\n",
        "\n",
        "\n",
        "    x = GlobalAveragePooling1D(name='GAP')(x)\n",
        "\n",
        "    x = BatchNormalization(name='BN4')(x)\n",
        "\n",
        "    x = Dropout(0.2)(x)\n",
        "\n",
        "    x = Dense(64)(x)\n",
        "    x = Activation('tanh')(x)\n",
        "\n",
        "    x = Dense(8)(x)\n",
        "    x = Activation('tanh')(x)\n",
        "\n",
        "    x = Dropout(0.1)(x)\n",
        "\n",
        "    x = Dense(classes)(x)\n",
        "    output = Activation('softmax')(x)\n",
        "\n",
        "    model=Model(inputs=X_input, outputs=output, name='CompactNet')\n",
        "\n",
        "    model.compile(loss='categorical_crossentropy', \n",
        "              optimizer=Adam(learning_rate=0.001, decay=1e-5),\n",
        "              metrics=['accuracy'])\n",
        "\n",
        "    return model"
      ]
    },
    {
      "cell_type": "code",
      "execution_count": null,
      "metadata": {
        "colab": {
          "base_uri": "https://localhost:8080/"
        },
        "outputId": "e223fb43-e447-425a-d995-b742a7cd9374",
        "id": "I6_CMmYprth2"
      },
      "outputs": [
        {
          "output_type": "stream",
          "name": "stderr",
          "text": [
            "\u001b[32m[I 2022-01-31 15:27:49,165]\u001b[0m A new study created in memory with name: no-name-6b85f2b7-f779-4c93-b1b3-8da97285cde9\u001b[0m\n"
          ]
        },
        {
          "output_type": "stream",
          "name": "stdout",
          "text": [
            "Epoch 1/10\n",
            "54/54 [==============================] - 3s 19ms/step - loss: 0.7116 - accuracy: 0.5397 - val_loss: 0.6792 - val_accuracy: 0.5683\n",
            "Epoch 2/10\n",
            "54/54 [==============================] - 1s 12ms/step - loss: 0.6803 - accuracy: 0.5835 - val_loss: 0.6783 - val_accuracy: 0.5683\n",
            "Epoch 3/10\n",
            "54/54 [==============================] - 1s 13ms/step - loss: 0.6613 - accuracy: 0.5985 - val_loss: 0.6773 - val_accuracy: 0.5700\n",
            "Epoch 4/10\n",
            "54/54 [==============================] - 1s 13ms/step - loss: 0.6620 - accuracy: 0.5994 - val_loss: 0.6802 - val_accuracy: 0.5883\n",
            "Epoch 5/10\n",
            "54/54 [==============================] - 1s 13ms/step - loss: 0.6559 - accuracy: 0.6074 - val_loss: 0.6649 - val_accuracy: 0.6017\n",
            "Epoch 6/10\n",
            "54/54 [==============================] - 1s 13ms/step - loss: 0.6447 - accuracy: 0.6218 - val_loss: 0.6515 - val_accuracy: 0.6067\n",
            "Epoch 7/10\n",
            "54/54 [==============================] - 1s 13ms/step - loss: 0.6495 - accuracy: 0.6191 - val_loss: 0.6560 - val_accuracy: 0.6117\n",
            "Epoch 8/10\n",
            "54/54 [==============================] - 1s 13ms/step - loss: 0.6365 - accuracy: 0.6353 - val_loss: 0.6456 - val_accuracy: 0.6317\n",
            "Epoch 9/10\n",
            "54/54 [==============================] - 1s 13ms/step - loss: 0.6302 - accuracy: 0.6394 - val_loss: 0.6565 - val_accuracy: 0.6017\n",
            "Epoch 10/10\n",
            "54/54 [==============================] - 1s 12ms/step - loss: 0.6304 - accuracy: 0.6374 - val_loss: 0.6430 - val_accuracy: 0.6217\n"
          ]
        },
        {
          "output_type": "stream",
          "name": "stderr",
          "text": [
            "\u001b[32m[I 2022-01-31 15:27:59,290]\u001b[0m Trial 0 finished with value: 0.621999979019165 and parameters: {'filters': 32, 'kernel_size': 5, 'strides': 1}. Best is trial 0 with value: 0.621999979019165.\u001b[0m\n"
          ]
        },
        {
          "output_type": "stream",
          "name": "stdout",
          "text": [
            "Epoch 1/10\n",
            "54/54 [==============================] - 2s 18ms/step - loss: 0.7223 - accuracy: 0.5306 - val_loss: 0.6867 - val_accuracy: 0.5683\n",
            "Epoch 2/10\n",
            "54/54 [==============================] - 1s 12ms/step - loss: 0.6939 - accuracy: 0.5553 - val_loss: 0.6790 - val_accuracy: 0.5700\n",
            "Epoch 3/10\n",
            "54/54 [==============================] - 1s 12ms/step - loss: 0.6770 - accuracy: 0.5862 - val_loss: 0.6729 - val_accuracy: 0.5733\n",
            "Epoch 4/10\n",
            "54/54 [==============================] - 1s 12ms/step - loss: 0.6639 - accuracy: 0.6109 - val_loss: 0.6671 - val_accuracy: 0.5983\n",
            "Epoch 5/10\n",
            "54/54 [==============================] - 1s 12ms/step - loss: 0.6593 - accuracy: 0.6124 - val_loss: 0.6701 - val_accuracy: 0.6000\n",
            "Epoch 6/10\n",
            "54/54 [==============================] - 1s 12ms/step - loss: 0.6525 - accuracy: 0.6103 - val_loss: 0.6746 - val_accuracy: 0.5867\n",
            "Epoch 7/10\n",
            "54/54 [==============================] - 1s 12ms/step - loss: 0.6499 - accuracy: 0.6212 - val_loss: 0.6599 - val_accuracy: 0.6117\n",
            "Epoch 8/10\n",
            "54/54 [==============================] - 1s 12ms/step - loss: 0.6341 - accuracy: 0.6359 - val_loss: 0.6616 - val_accuracy: 0.5917\n",
            "Epoch 9/10\n",
            "54/54 [==============================] - 1s 13ms/step - loss: 0.6315 - accuracy: 0.6365 - val_loss: 0.6657 - val_accuracy: 0.6000\n",
            "Epoch 10/10\n",
            "54/54 [==============================] - 1s 12ms/step - loss: 0.6253 - accuracy: 0.6435 - val_loss: 0.6654 - val_accuracy: 0.5983\n"
          ]
        },
        {
          "output_type": "stream",
          "name": "stderr",
          "text": [
            "\u001b[32m[I 2022-01-31 15:28:08,390]\u001b[0m Trial 1 finished with value: 0.593999981880188 and parameters: {'filters': 32, 'kernel_size': 5, 'strides': 2}. Best is trial 0 with value: 0.621999979019165.\u001b[0m\n"
          ]
        },
        {
          "output_type": "stream",
          "name": "stdout",
          "text": [
            "Epoch 1/10\n",
            "54/54 [==============================] - 3s 18ms/step - loss: 0.7291 - accuracy: 0.5344 - val_loss: 0.6822 - val_accuracy: 0.5683\n",
            "Epoch 2/10\n",
            "54/54 [==============================] - 1s 13ms/step - loss: 0.6963 - accuracy: 0.5565 - val_loss: 0.6757 - val_accuracy: 0.5833\n",
            "Epoch 3/10\n",
            "54/54 [==============================] - 1s 13ms/step - loss: 0.6761 - accuracy: 0.5882 - val_loss: 0.6720 - val_accuracy: 0.5883\n",
            "Epoch 4/10\n",
            "54/54 [==============================] - 1s 13ms/step - loss: 0.6668 - accuracy: 0.6009 - val_loss: 0.6810 - val_accuracy: 0.5733\n",
            "Epoch 5/10\n",
            "54/54 [==============================] - 1s 13ms/step - loss: 0.6630 - accuracy: 0.6085 - val_loss: 0.6701 - val_accuracy: 0.5983\n",
            "Epoch 6/10\n",
            "54/54 [==============================] - 1s 13ms/step - loss: 0.6612 - accuracy: 0.6094 - val_loss: 0.6817 - val_accuracy: 0.5833\n",
            "Epoch 7/10\n",
            "54/54 [==============================] - 1s 13ms/step - loss: 0.6534 - accuracy: 0.6129 - val_loss: 0.6540 - val_accuracy: 0.6317\n",
            "Epoch 8/10\n",
            "54/54 [==============================] - 1s 13ms/step - loss: 0.6433 - accuracy: 0.6215 - val_loss: 0.6767 - val_accuracy: 0.5867\n",
            "Epoch 9/10\n",
            "54/54 [==============================] - 1s 13ms/step - loss: 0.6432 - accuracy: 0.6271 - val_loss: 0.6538 - val_accuracy: 0.6017\n",
            "Epoch 10/10\n",
            "54/54 [==============================] - 1s 13ms/step - loss: 0.6282 - accuracy: 0.6521 - val_loss: 0.6835 - val_accuracy: 0.5900\n"
          ]
        },
        {
          "output_type": "stream",
          "name": "stderr",
          "text": [
            "\u001b[32m[I 2022-01-31 15:28:20,671]\u001b[0m Trial 2 finished with value: 0.5920000076293945 and parameters: {'filters': 32, 'kernel_size': 5, 'strides': 1}. Best is trial 0 with value: 0.621999979019165.\u001b[0m\n"
          ]
        },
        {
          "output_type": "stream",
          "name": "stdout",
          "text": [
            "Epoch 1/10\n",
            "54/54 [==============================] - 3s 21ms/step - loss: 0.7304 - accuracy: 0.5418 - val_loss: 0.6886 - val_accuracy: 0.5350\n",
            "Epoch 2/10\n",
            "54/54 [==============================] - 1s 15ms/step - loss: 0.6942 - accuracy: 0.5809 - val_loss: 0.6752 - val_accuracy: 0.5917\n",
            "Epoch 3/10\n",
            "54/54 [==============================] - 1s 15ms/step - loss: 0.6748 - accuracy: 0.5871 - val_loss: 0.6696 - val_accuracy: 0.5817\n",
            "Epoch 4/10\n",
            "54/54 [==============================] - 1s 14ms/step - loss: 0.6654 - accuracy: 0.5935 - val_loss: 0.6580 - val_accuracy: 0.6017\n",
            "Epoch 5/10\n",
            "54/54 [==============================] - 1s 15ms/step - loss: 0.6671 - accuracy: 0.6003 - val_loss: 0.6688 - val_accuracy: 0.5917\n",
            "Epoch 6/10\n",
            "54/54 [==============================] - 1s 15ms/step - loss: 0.6536 - accuracy: 0.6132 - val_loss: 0.6722 - val_accuracy: 0.5800\n",
            "Epoch 7/10\n",
            "54/54 [==============================] - 1s 15ms/step - loss: 0.6489 - accuracy: 0.6235 - val_loss: 0.6583 - val_accuracy: 0.5967\n",
            "Epoch 8/10\n",
            "54/54 [==============================] - 1s 15ms/step - loss: 0.6325 - accuracy: 0.6406 - val_loss: 0.6855 - val_accuracy: 0.5917\n",
            "Epoch 9/10\n",
            "54/54 [==============================] - 1s 15ms/step - loss: 0.6364 - accuracy: 0.6294 - val_loss: 0.6693 - val_accuracy: 0.6017\n",
            "Epoch 10/10\n",
            "54/54 [==============================] - 1s 15ms/step - loss: 0.6198 - accuracy: 0.6521 - val_loss: 0.6718 - val_accuracy: 0.6033\n"
          ]
        },
        {
          "output_type": "stream",
          "name": "stderr",
          "text": [
            "\u001b[32m[I 2022-01-31 15:28:31,166]\u001b[0m Trial 3 finished with value: 0.6359999775886536 and parameters: {'filters': 128, 'kernel_size': 5, 'strides': 1}. Best is trial 3 with value: 0.6359999775886536.\u001b[0m\n"
          ]
        },
        {
          "output_type": "stream",
          "name": "stdout",
          "text": [
            "Epoch 1/10\n",
            "54/54 [==============================] - 3s 19ms/step - loss: 0.7387 - accuracy: 0.5315 - val_loss: 0.6859 - val_accuracy: 0.5683\n",
            "Epoch 2/10\n",
            "54/54 [==============================] - 1s 13ms/step - loss: 0.6992 - accuracy: 0.5671 - val_loss: 0.6732 - val_accuracy: 0.5717\n",
            "Epoch 3/10\n",
            "54/54 [==============================] - 1s 14ms/step - loss: 0.6820 - accuracy: 0.5776 - val_loss: 0.6762 - val_accuracy: 0.5783\n",
            "Epoch 4/10\n",
            "54/54 [==============================] - 1s 13ms/step - loss: 0.6693 - accuracy: 0.6018 - val_loss: 0.7010 - val_accuracy: 0.5617\n",
            "Epoch 5/10\n",
            "54/54 [==============================] - 1s 13ms/step - loss: 0.6543 - accuracy: 0.6150 - val_loss: 0.6770 - val_accuracy: 0.5917\n",
            "Epoch 6/10\n",
            "54/54 [==============================] - 1s 13ms/step - loss: 0.6515 - accuracy: 0.6200 - val_loss: 0.6478 - val_accuracy: 0.6350\n",
            "Epoch 7/10\n",
            "54/54 [==============================] - 1s 13ms/step - loss: 0.6420 - accuracy: 0.6324 - val_loss: 0.6510 - val_accuracy: 0.6050\n",
            "Epoch 8/10\n",
            "54/54 [==============================] - 1s 14ms/step - loss: 0.6379 - accuracy: 0.6356 - val_loss: 0.6696 - val_accuracy: 0.5883\n",
            "Epoch 9/10\n",
            "54/54 [==============================] - 1s 13ms/step - loss: 0.6321 - accuracy: 0.6403 - val_loss: 0.6512 - val_accuracy: 0.6083\n",
            "Epoch 10/10\n",
            "54/54 [==============================] - 1s 13ms/step - loss: 0.6260 - accuracy: 0.6497 - val_loss: 0.6795 - val_accuracy: 0.5817\n"
          ]
        },
        {
          "output_type": "stream",
          "name": "stderr",
          "text": [
            "\u001b[32m[I 2022-01-31 15:28:40,840]\u001b[0m Trial 4 finished with value: 0.6019999980926514 and parameters: {'filters': 128, 'kernel_size': 5, 'strides': 2}. Best is trial 3 with value: 0.6359999775886536.\u001b[0m\n"
          ]
        },
        {
          "output_type": "stream",
          "name": "stdout",
          "text": [
            "Epoch 1/10\n",
            "54/54 [==============================] - 3s 20ms/step - loss: 0.7219 - accuracy: 0.5438 - val_loss: 0.6853 - val_accuracy: 0.5717\n",
            "Epoch 2/10\n",
            "54/54 [==============================] - 1s 13ms/step - loss: 0.6941 - accuracy: 0.5641 - val_loss: 0.6776 - val_accuracy: 0.5800\n",
            "Epoch 3/10\n",
            "54/54 [==============================] - 1s 14ms/step - loss: 0.6841 - accuracy: 0.5721 - val_loss: 0.6728 - val_accuracy: 0.5900\n",
            "Epoch 4/10\n",
            "54/54 [==============================] - 1s 14ms/step - loss: 0.6753 - accuracy: 0.5865 - val_loss: 0.6679 - val_accuracy: 0.6167\n",
            "Epoch 5/10\n",
            "54/54 [==============================] - 1s 14ms/step - loss: 0.6563 - accuracy: 0.6059 - val_loss: 0.6649 - val_accuracy: 0.6100\n",
            "Epoch 6/10\n",
            "54/54 [==============================] - 1s 14ms/step - loss: 0.6643 - accuracy: 0.5938 - val_loss: 0.6627 - val_accuracy: 0.5967\n",
            "Epoch 7/10\n",
            "54/54 [==============================] - 1s 13ms/step - loss: 0.6488 - accuracy: 0.6112 - val_loss: 0.6501 - val_accuracy: 0.6150\n",
            "Epoch 8/10\n",
            "54/54 [==============================] - 1s 14ms/step - loss: 0.6496 - accuracy: 0.6162 - val_loss: 0.6902 - val_accuracy: 0.5317\n",
            "Epoch 9/10\n",
            "54/54 [==============================] - 1s 14ms/step - loss: 0.6318 - accuracy: 0.6318 - val_loss: 0.6639 - val_accuracy: 0.6083\n",
            "Epoch 10/10\n",
            "54/54 [==============================] - 1s 14ms/step - loss: 0.6250 - accuracy: 0.6409 - val_loss: 0.6534 - val_accuracy: 0.6017\n"
          ]
        },
        {
          "output_type": "stream",
          "name": "stderr",
          "text": [
            "\u001b[32m[I 2022-01-31 15:28:50,649]\u001b[0m Trial 5 finished with value: 0.6140000224113464 and parameters: {'filters': 64, 'kernel_size': 5, 'strides': 1}. Best is trial 3 with value: 0.6359999775886536.\u001b[0m\n"
          ]
        },
        {
          "output_type": "stream",
          "name": "stdout",
          "text": [
            "Epoch 1/10\n",
            "54/54 [==============================] - 3s 21ms/step - loss: 0.8182 - accuracy: 0.5409 - val_loss: 0.6894 - val_accuracy: 0.5483\n",
            "Epoch 2/10\n",
            "54/54 [==============================] - 1s 15ms/step - loss: 0.7447 - accuracy: 0.5618 - val_loss: 0.7129 - val_accuracy: 0.5700\n",
            "Epoch 3/10\n",
            "54/54 [==============================] - 1s 15ms/step - loss: 0.7270 - accuracy: 0.5688 - val_loss: 0.6874 - val_accuracy: 0.5867\n",
            "Epoch 4/10\n",
            "54/54 [==============================] - 1s 14ms/step - loss: 0.7140 - accuracy: 0.5779 - val_loss: 0.6864 - val_accuracy: 0.5833\n",
            "Epoch 5/10\n",
            "54/54 [==============================] - 1s 14ms/step - loss: 0.6895 - accuracy: 0.5918 - val_loss: 0.6678 - val_accuracy: 0.6067\n",
            "Epoch 6/10\n",
            "54/54 [==============================] - 1s 15ms/step - loss: 0.6693 - accuracy: 0.6171 - val_loss: 0.6655 - val_accuracy: 0.5950\n",
            "Epoch 7/10\n",
            "54/54 [==============================] - 1s 17ms/step - loss: 0.6732 - accuracy: 0.6044 - val_loss: 0.6585 - val_accuracy: 0.6050\n",
            "Epoch 8/10\n",
            "54/54 [==============================] - 1s 16ms/step - loss: 0.6512 - accuracy: 0.6194 - val_loss: 0.6365 - val_accuracy: 0.6483\n",
            "Epoch 9/10\n",
            "54/54 [==============================] - 1s 15ms/step - loss: 0.6362 - accuracy: 0.6368 - val_loss: 0.6558 - val_accuracy: 0.6200\n",
            "Epoch 10/10\n",
            "54/54 [==============================] - 1s 15ms/step - loss: 0.6398 - accuracy: 0.6391 - val_loss: 0.6644 - val_accuracy: 0.5883\n"
          ]
        },
        {
          "output_type": "stream",
          "name": "stderr",
          "text": [
            "\u001b[32m[I 2022-01-31 15:29:01,792]\u001b[0m Trial 6 finished with value: 0.5740000009536743 and parameters: {'filters': 128, 'kernel_size': 3, 'strides': 1}. Best is trial 3 with value: 0.6359999775886536.\u001b[0m\n"
          ]
        },
        {
          "output_type": "stream",
          "name": "stdout",
          "text": [
            "Epoch 1/10\n",
            "54/54 [==============================] - 3s 21ms/step - loss: 0.7122 - accuracy: 0.5591 - val_loss: 0.6765 - val_accuracy: 0.5683\n",
            "Epoch 2/10\n",
            "54/54 [==============================] - 1s 15ms/step - loss: 0.6815 - accuracy: 0.5782 - val_loss: 0.6831 - val_accuracy: 0.5683\n",
            "Epoch 3/10\n",
            "54/54 [==============================] - 1s 15ms/step - loss: 0.6719 - accuracy: 0.5894 - val_loss: 0.6676 - val_accuracy: 0.5900\n",
            "Epoch 4/10\n",
            "54/54 [==============================] - 1s 15ms/step - loss: 0.6647 - accuracy: 0.5924 - val_loss: 0.6547 - val_accuracy: 0.6083\n",
            "Epoch 5/10\n",
            "54/54 [==============================] - 1s 15ms/step - loss: 0.6578 - accuracy: 0.6115 - val_loss: 0.6474 - val_accuracy: 0.5983\n",
            "Epoch 6/10\n",
            "54/54 [==============================] - 1s 15ms/step - loss: 0.6522 - accuracy: 0.6138 - val_loss: 0.6608 - val_accuracy: 0.5900\n",
            "Epoch 7/10\n",
            "54/54 [==============================] - 1s 15ms/step - loss: 0.6525 - accuracy: 0.6076 - val_loss: 0.6606 - val_accuracy: 0.6033\n",
            "Epoch 8/10\n",
            "54/54 [==============================] - 1s 15ms/step - loss: 0.6409 - accuracy: 0.6303 - val_loss: 0.6520 - val_accuracy: 0.6017\n",
            "Epoch 9/10\n",
            "54/54 [==============================] - 1s 15ms/step - loss: 0.6355 - accuracy: 0.6250 - val_loss: 0.6452 - val_accuracy: 0.6217\n",
            "Epoch 10/10\n",
            "54/54 [==============================] - 1s 15ms/step - loss: 0.6242 - accuracy: 0.6491 - val_loss: 0.6543 - val_accuracy: 0.6150\n"
          ]
        },
        {
          "output_type": "stream",
          "name": "stderr",
          "text": [
            "\u001b[32m[I 2022-01-31 15:29:12,262]\u001b[0m Trial 7 finished with value: 0.6179999709129333 and parameters: {'filters': 128, 'kernel_size': 5, 'strides': 1}. Best is trial 3 with value: 0.6359999775886536.\u001b[0m\n"
          ]
        },
        {
          "output_type": "stream",
          "name": "stdout",
          "text": [
            "Epoch 1/10\n",
            "54/54 [==============================] - 3s 19ms/step - loss: 0.7329 - accuracy: 0.5432 - val_loss: 0.6770 - val_accuracy: 0.5917\n",
            "Epoch 2/10\n",
            "54/54 [==============================] - 1s 13ms/step - loss: 0.6940 - accuracy: 0.5615 - val_loss: 0.6747 - val_accuracy: 0.5750\n",
            "Epoch 3/10\n",
            "54/54 [==============================] - 1s 13ms/step - loss: 0.6659 - accuracy: 0.6088 - val_loss: 0.6677 - val_accuracy: 0.5883\n",
            "Epoch 4/10\n",
            "54/54 [==============================] - 1s 13ms/step - loss: 0.6762 - accuracy: 0.5824 - val_loss: 0.6573 - val_accuracy: 0.6067\n",
            "Epoch 5/10\n",
            "54/54 [==============================] - 1s 13ms/step - loss: 0.6558 - accuracy: 0.6047 - val_loss: 0.6579 - val_accuracy: 0.5967\n",
            "Epoch 6/10\n",
            "54/54 [==============================] - 1s 13ms/step - loss: 0.6474 - accuracy: 0.6265 - val_loss: 0.6594 - val_accuracy: 0.5983\n",
            "Epoch 7/10\n",
            "54/54 [==============================] - 1s 13ms/step - loss: 0.6501 - accuracy: 0.6191 - val_loss: 0.6451 - val_accuracy: 0.6317\n",
            "Epoch 8/10\n",
            "54/54 [==============================] - 1s 14ms/step - loss: 0.6345 - accuracy: 0.6356 - val_loss: 0.6517 - val_accuracy: 0.6167\n",
            "Epoch 9/10\n",
            "54/54 [==============================] - 1s 13ms/step - loss: 0.6314 - accuracy: 0.6388 - val_loss: 0.6480 - val_accuracy: 0.6150\n",
            "Epoch 10/10\n",
            "54/54 [==============================] - 1s 13ms/step - loss: 0.6144 - accuracy: 0.6550 - val_loss: 0.6522 - val_accuracy: 0.6033\n"
          ]
        },
        {
          "output_type": "stream",
          "name": "stderr",
          "text": [
            "\u001b[32m[I 2022-01-31 15:29:24,521]\u001b[0m Trial 8 finished with value: 0.6039999723434448 and parameters: {'filters': 128, 'kernel_size': 5, 'strides': 2}. Best is trial 3 with value: 0.6359999775886536.\u001b[0m\n"
          ]
        },
        {
          "output_type": "stream",
          "name": "stdout",
          "text": [
            "Epoch 1/10\n",
            "54/54 [==============================] - 2s 19ms/step - loss: 0.7136 - accuracy: 0.5400 - val_loss: 0.6786 - val_accuracy: 0.5700\n",
            "Epoch 2/10\n",
            "54/54 [==============================] - 1s 12ms/step - loss: 0.6892 - accuracy: 0.5644 - val_loss: 0.6790 - val_accuracy: 0.5683\n",
            "Epoch 3/10\n",
            "54/54 [==============================] - 1s 12ms/step - loss: 0.6721 - accuracy: 0.5879 - val_loss: 0.6711 - val_accuracy: 0.5950\n",
            "Epoch 4/10\n",
            "54/54 [==============================] - 1s 12ms/step - loss: 0.6642 - accuracy: 0.6003 - val_loss: 0.6709 - val_accuracy: 0.5817\n",
            "Epoch 5/10\n",
            "54/54 [==============================] - 1s 12ms/step - loss: 0.6595 - accuracy: 0.6074 - val_loss: 0.6862 - val_accuracy: 0.5550\n",
            "Epoch 6/10\n",
            "54/54 [==============================] - 1s 12ms/step - loss: 0.6534 - accuracy: 0.6062 - val_loss: 0.6589 - val_accuracy: 0.6050\n",
            "Epoch 7/10\n",
            "54/54 [==============================] - 1s 12ms/step - loss: 0.6439 - accuracy: 0.6244 - val_loss: 0.6689 - val_accuracy: 0.6017\n",
            "Epoch 8/10\n",
            "54/54 [==============================] - 1s 12ms/step - loss: 0.6428 - accuracy: 0.6303 - val_loss: 0.6548 - val_accuracy: 0.6217\n",
            "Epoch 9/10\n",
            "54/54 [==============================] - 1s 13ms/step - loss: 0.6302 - accuracy: 0.6476 - val_loss: 0.6725 - val_accuracy: 0.5983\n",
            "Epoch 10/10\n",
            "54/54 [==============================] - 1s 12ms/step - loss: 0.6234 - accuracy: 0.6465 - val_loss: 0.6526 - val_accuracy: 0.6317\n"
          ]
        },
        {
          "output_type": "stream",
          "name": "stderr",
          "text": [
            "\u001b[32m[I 2022-01-31 15:29:33,591]\u001b[0m Trial 9 finished with value: 0.6359999775886536 and parameters: {'filters': 64, 'kernel_size': 3, 'strides': 2}. Best is trial 3 with value: 0.6359999775886536.\u001b[0m\n"
          ]
        },
        {
          "output_type": "stream",
          "name": "stdout",
          "text": [
            "Number of finished trials: 10\n",
            "Best trial:\n",
            "  Value: 0.6359999775886536\n",
            "  Params: \n",
            "    filters: 128\n",
            "    kernel_size: 5\n",
            "    strides: 1\n"
          ]
        }
      ],
      "source": [
        "def objective(trial):\n",
        "\n",
        "    model = CompactNet(trial)\n",
        "\n",
        "\n",
        "    model.fit(\n",
        "        X_train, Y_train,\n",
        "        validation_split=0.15,\n",
        "        shuffle=True,\n",
        "        batch_size=batch_size,\n",
        "        epochs=epochs,\n",
        "        verbose=1\n",
        "    )\n",
        "\n",
        "    # Evaluate the model accuracy on the Test set.\n",
        "    score = model.evaluate(X_test, Y_test, verbose=0)\n",
        "    return score[1]\n",
        "\n",
        "\n",
        "study = optuna.create_study(direction=\"maximize\", sampler=optuna.samplers.NSGAIISampler())\n",
        "# study = optuna.create_study(direction=\"maximize\")\n",
        "study.optimize(objective, n_trials=n_trials)\n",
        "# study.optimize(objective, n_trials=5)\n",
        "print(\"Number of finished trials: {}\".format(len(study.trials)))\n",
        "\n",
        "print(\"Best trial:\")\n",
        "trial = study.best_trial\n",
        "\n",
        "print(\"  Value: {}\".format(trial.value))\n",
        "\n",
        "print(\"  Params: \")\n",
        "for key, value in trial.params.items():\n",
        "    print(\"    {}: {}\".format(key, value))\n",
        "\n",
        "# print(\"Training model with best_params {}\".format(study.best_params))"
      ]
    },
    {
      "cell_type": "code",
      "execution_count": null,
      "metadata": {
        "colab": {
          "base_uri": "https://localhost:8080/",
          "height": 504
        },
        "outputId": "e4b8ec7c-9719-4a4c-a521-3b758f77eaa9",
        "id": "mLKk8SG7rth5"
      },
      "outputs": [
        {
          "output_type": "execute_result",
          "data": {
            "text/html": [
              "\n",
              "  <div id=\"df-2febcc7b-fd55-4b50-9e38-09118f14ce2c\">\n",
              "    <div class=\"colab-df-container\">\n",
              "      <div>\n",
              "<style scoped>\n",
              "    .dataframe tbody tr th:only-of-type {\n",
              "        vertical-align: middle;\n",
              "    }\n",
              "\n",
              "    .dataframe tbody tr th {\n",
              "        vertical-align: top;\n",
              "    }\n",
              "\n",
              "    .dataframe thead th {\n",
              "        text-align: right;\n",
              "    }\n",
              "</style>\n",
              "<table border=\"1\" class=\"dataframe\">\n",
              "  <thead>\n",
              "    <tr style=\"text-align: right;\">\n",
              "      <th></th>\n",
              "      <th>number</th>\n",
              "      <th>value</th>\n",
              "      <th>datetime_start</th>\n",
              "      <th>datetime_complete</th>\n",
              "      <th>duration</th>\n",
              "      <th>params_filters</th>\n",
              "      <th>params_kernel_size</th>\n",
              "      <th>params_strides</th>\n",
              "      <th>system_attrs_nsga2:generation</th>\n",
              "      <th>state</th>\n",
              "    </tr>\n",
              "  </thead>\n",
              "  <tbody>\n",
              "    <tr>\n",
              "      <th>0</th>\n",
              "      <td>0</td>\n",
              "      <td>0.622</td>\n",
              "      <td>2022-01-31 15:27:49.167252</td>\n",
              "      <td>2022-01-31 15:27:59.290263</td>\n",
              "      <td>0 days 00:00:10.123011</td>\n",
              "      <td>32</td>\n",
              "      <td>5</td>\n",
              "      <td>1</td>\n",
              "      <td>0</td>\n",
              "      <td>COMPLETE</td>\n",
              "    </tr>\n",
              "    <tr>\n",
              "      <th>1</th>\n",
              "      <td>1</td>\n",
              "      <td>0.594</td>\n",
              "      <td>2022-01-31 15:27:59.293192</td>\n",
              "      <td>2022-01-31 15:28:08.390089</td>\n",
              "      <td>0 days 00:00:09.096897</td>\n",
              "      <td>32</td>\n",
              "      <td>5</td>\n",
              "      <td>2</td>\n",
              "      <td>0</td>\n",
              "      <td>COMPLETE</td>\n",
              "    </tr>\n",
              "    <tr>\n",
              "      <th>2</th>\n",
              "      <td>2</td>\n",
              "      <td>0.592</td>\n",
              "      <td>2022-01-31 15:28:08.392082</td>\n",
              "      <td>2022-01-31 15:28:20.671043</td>\n",
              "      <td>0 days 00:00:12.278961</td>\n",
              "      <td>32</td>\n",
              "      <td>5</td>\n",
              "      <td>1</td>\n",
              "      <td>0</td>\n",
              "      <td>COMPLETE</td>\n",
              "    </tr>\n",
              "    <tr>\n",
              "      <th>3</th>\n",
              "      <td>3</td>\n",
              "      <td>0.636</td>\n",
              "      <td>2022-01-31 15:28:20.673299</td>\n",
              "      <td>2022-01-31 15:28:31.165562</td>\n",
              "      <td>0 days 00:00:10.492263</td>\n",
              "      <td>128</td>\n",
              "      <td>5</td>\n",
              "      <td>1</td>\n",
              "      <td>0</td>\n",
              "      <td>COMPLETE</td>\n",
              "    </tr>\n",
              "    <tr>\n",
              "      <th>4</th>\n",
              "      <td>4</td>\n",
              "      <td>0.602</td>\n",
              "      <td>2022-01-31 15:28:31.167509</td>\n",
              "      <td>2022-01-31 15:28:40.839635</td>\n",
              "      <td>0 days 00:00:09.672126</td>\n",
              "      <td>128</td>\n",
              "      <td>5</td>\n",
              "      <td>2</td>\n",
              "      <td>0</td>\n",
              "      <td>COMPLETE</td>\n",
              "    </tr>\n",
              "    <tr>\n",
              "      <th>5</th>\n",
              "      <td>5</td>\n",
              "      <td>0.614</td>\n",
              "      <td>2022-01-31 15:28:40.841637</td>\n",
              "      <td>2022-01-31 15:28:50.648688</td>\n",
              "      <td>0 days 00:00:09.807051</td>\n",
              "      <td>64</td>\n",
              "      <td>5</td>\n",
              "      <td>1</td>\n",
              "      <td>0</td>\n",
              "      <td>COMPLETE</td>\n",
              "    </tr>\n",
              "    <tr>\n",
              "      <th>6</th>\n",
              "      <td>6</td>\n",
              "      <td>0.574</td>\n",
              "      <td>2022-01-31 15:28:50.650648</td>\n",
              "      <td>2022-01-31 15:29:01.791999</td>\n",
              "      <td>0 days 00:00:11.141351</td>\n",
              "      <td>128</td>\n",
              "      <td>3</td>\n",
              "      <td>1</td>\n",
              "      <td>0</td>\n",
              "      <td>COMPLETE</td>\n",
              "    </tr>\n",
              "    <tr>\n",
              "      <th>7</th>\n",
              "      <td>7</td>\n",
              "      <td>0.618</td>\n",
              "      <td>2022-01-31 15:29:01.793844</td>\n",
              "      <td>2022-01-31 15:29:12.261677</td>\n",
              "      <td>0 days 00:00:10.467833</td>\n",
              "      <td>128</td>\n",
              "      <td>5</td>\n",
              "      <td>1</td>\n",
              "      <td>0</td>\n",
              "      <td>COMPLETE</td>\n",
              "    </tr>\n",
              "    <tr>\n",
              "      <th>8</th>\n",
              "      <td>8</td>\n",
              "      <td>0.604</td>\n",
              "      <td>2022-01-31 15:29:12.263728</td>\n",
              "      <td>2022-01-31 15:29:24.521509</td>\n",
              "      <td>0 days 00:00:12.257781</td>\n",
              "      <td>128</td>\n",
              "      <td>5</td>\n",
              "      <td>2</td>\n",
              "      <td>0</td>\n",
              "      <td>COMPLETE</td>\n",
              "    </tr>\n",
              "    <tr>\n",
              "      <th>9</th>\n",
              "      <td>9</td>\n",
              "      <td>0.636</td>\n",
              "      <td>2022-01-31 15:29:24.523499</td>\n",
              "      <td>2022-01-31 15:29:33.590696</td>\n",
              "      <td>0 days 00:00:09.067197</td>\n",
              "      <td>64</td>\n",
              "      <td>3</td>\n",
              "      <td>2</td>\n",
              "      <td>0</td>\n",
              "      <td>COMPLETE</td>\n",
              "    </tr>\n",
              "  </tbody>\n",
              "</table>\n",
              "</div>\n",
              "      <button class=\"colab-df-convert\" onclick=\"convertToInteractive('df-2febcc7b-fd55-4b50-9e38-09118f14ce2c')\"\n",
              "              title=\"Convert this dataframe to an interactive table.\"\n",
              "              style=\"display:none;\">\n",
              "        \n",
              "  <svg xmlns=\"http://www.w3.org/2000/svg\" height=\"24px\"viewBox=\"0 0 24 24\"\n",
              "       width=\"24px\">\n",
              "    <path d=\"M0 0h24v24H0V0z\" fill=\"none\"/>\n",
              "    <path d=\"M18.56 5.44l.94 2.06.94-2.06 2.06-.94-2.06-.94-.94-2.06-.94 2.06-2.06.94zm-11 1L8.5 8.5l.94-2.06 2.06-.94-2.06-.94L8.5 2.5l-.94 2.06-2.06.94zm10 10l.94 2.06.94-2.06 2.06-.94-2.06-.94-.94-2.06-.94 2.06-2.06.94z\"/><path d=\"M17.41 7.96l-1.37-1.37c-.4-.4-.92-.59-1.43-.59-.52 0-1.04.2-1.43.59L10.3 9.45l-7.72 7.72c-.78.78-.78 2.05 0 2.83L4 21.41c.39.39.9.59 1.41.59.51 0 1.02-.2 1.41-.59l7.78-7.78 2.81-2.81c.8-.78.8-2.07 0-2.86zM5.41 20L4 18.59l7.72-7.72 1.47 1.35L5.41 20z\"/>\n",
              "  </svg>\n",
              "      </button>\n",
              "      \n",
              "  <style>\n",
              "    .colab-df-container {\n",
              "      display:flex;\n",
              "      flex-wrap:wrap;\n",
              "      gap: 12px;\n",
              "    }\n",
              "\n",
              "    .colab-df-convert {\n",
              "      background-color: #E8F0FE;\n",
              "      border: none;\n",
              "      border-radius: 50%;\n",
              "      cursor: pointer;\n",
              "      display: none;\n",
              "      fill: #1967D2;\n",
              "      height: 32px;\n",
              "      padding: 0 0 0 0;\n",
              "      width: 32px;\n",
              "    }\n",
              "\n",
              "    .colab-df-convert:hover {\n",
              "      background-color: #E2EBFA;\n",
              "      box-shadow: 0px 1px 2px rgba(60, 64, 67, 0.3), 0px 1px 3px 1px rgba(60, 64, 67, 0.15);\n",
              "      fill: #174EA6;\n",
              "    }\n",
              "\n",
              "    [theme=dark] .colab-df-convert {\n",
              "      background-color: #3B4455;\n",
              "      fill: #D2E3FC;\n",
              "    }\n",
              "\n",
              "    [theme=dark] .colab-df-convert:hover {\n",
              "      background-color: #434B5C;\n",
              "      box-shadow: 0px 1px 3px 1px rgba(0, 0, 0, 0.15);\n",
              "      filter: drop-shadow(0px 1px 2px rgba(0, 0, 0, 0.3));\n",
              "      fill: #FFFFFF;\n",
              "    }\n",
              "  </style>\n",
              "\n",
              "      <script>\n",
              "        const buttonEl =\n",
              "          document.querySelector('#df-2febcc7b-fd55-4b50-9e38-09118f14ce2c button.colab-df-convert');\n",
              "        buttonEl.style.display =\n",
              "          google.colab.kernel.accessAllowed ? 'block' : 'none';\n",
              "\n",
              "        async function convertToInteractive(key) {\n",
              "          const element = document.querySelector('#df-2febcc7b-fd55-4b50-9e38-09118f14ce2c');\n",
              "          const dataTable =\n",
              "            await google.colab.kernel.invokeFunction('convertToInteractive',\n",
              "                                                     [key], {});\n",
              "          if (!dataTable) return;\n",
              "\n",
              "          const docLinkHtml = 'Like what you see? Visit the ' +\n",
              "            '<a target=\"_blank\" href=https://colab.research.google.com/notebooks/data_table.ipynb>data table notebook</a>'\n",
              "            + ' to learn more about interactive tables.';\n",
              "          element.innerHTML = '';\n",
              "          dataTable['output_type'] = 'display_data';\n",
              "          await google.colab.output.renderOutput(dataTable, element);\n",
              "          const docLink = document.createElement('div');\n",
              "          docLink.innerHTML = docLinkHtml;\n",
              "          element.appendChild(docLink);\n",
              "        }\n",
              "      </script>\n",
              "    </div>\n",
              "  </div>\n",
              "  "
            ],
            "text/plain": [
              "   number  value  ... system_attrs_nsga2:generation     state\n",
              "0       0  0.622  ...                             0  COMPLETE\n",
              "1       1  0.594  ...                             0  COMPLETE\n",
              "2       2  0.592  ...                             0  COMPLETE\n",
              "3       3  0.636  ...                             0  COMPLETE\n",
              "4       4  0.602  ...                             0  COMPLETE\n",
              "5       5  0.614  ...                             0  COMPLETE\n",
              "6       6  0.574  ...                             0  COMPLETE\n",
              "7       7  0.618  ...                             0  COMPLETE\n",
              "8       8  0.604  ...                             0  COMPLETE\n",
              "9       9  0.636  ...                             0  COMPLETE\n",
              "\n",
              "[10 rows x 10 columns]"
            ]
          },
          "metadata": {},
          "execution_count": 48
        }
      ],
      "source": [
        "trials_df = study.trials_dataframe()\n",
        "trials_df.to_csv('trials_history.csv')\n",
        "trials_df"
      ]
    },
    {
      "cell_type": "markdown",
      "source": [
        "###3rd Layer (i.e. C7) HPO"
      ],
      "metadata": {
        "id": "wJo5Q_3bw77E"
      }
    },
    {
      "cell_type": "code",
      "execution_count": null,
      "metadata": {
        "id": "h4hffdaew77F"
      },
      "outputs": [],
      "source": [
        "def CompactNet(trial):\n",
        "    \n",
        "    X_input = Input(shape = (window_size, channel_len))\n",
        "\n",
        "    x = Conv1D(32, kernel_size = 2, strides = 1, padding = 'same', activation='relu', name='C1')(X_input)\n",
        "\n",
        "    x = AveragePooling1D(\n",
        "        pool_size=2,\n",
        "        name='AP1')(x)\n",
        "\n",
        "    x = BatchNormalization(name='BN1')(x)\n",
        "\n",
        "    x = Conv1D(128, kernel_size = 5, strides = 1, padding = 'same', activation='relu', name='C3')(x)\n",
        "\n",
        "    x = AveragePooling1D(pool_size=2, name='AP2')(x)\n",
        "\n",
        "    x = BatchNormalization(name='BN2')(x)\n",
        "\n",
        "    x = Conv1D(\n",
        "        filters=trial.suggest_categorical('filters', [128, 192, 256]), \n",
        "        kernel_size=trial.suggest_categorical('kernel_size', [3, 5]), \n",
        "        strides=trial.suggest_categorical('strides', [1, 2]),\n",
        "        padding = 'same', \n",
        "        activation='relu', \n",
        "        name='C7')(x)\n",
        "\n",
        "\n",
        "    x = GlobalAveragePooling1D(name='GAP')(x)\n",
        "\n",
        "    x = BatchNormalization(name='BN4')(x)\n",
        "\n",
        "    x = Dropout(0.2)(x)\n",
        "\n",
        "\n",
        "    x = Dense(64)(x)\n",
        "    x = Activation('tanh')(x)\n",
        "\n",
        "    x = Dense(8)(x)\n",
        "    x = Activation('tanh')(x)\n",
        "\n",
        "    x = Dropout(0.1)(x)\n",
        "\n",
        "    x = Dense(classes)(x)\n",
        "    output = Activation('softmax')(x)\n",
        "\n",
        "    model=Model(inputs=X_input, outputs=output, name='CompactNet')\n",
        "\n",
        "    model.compile(loss='categorical_crossentropy',\n",
        "              optimizer=Adam(learning_rate=0.001, decay=1e-5),\n",
        "              metrics=['accuracy'])\n",
        "\n",
        "    return model"
      ]
    },
    {
      "cell_type": "code",
      "execution_count": null,
      "metadata": {
        "colab": {
          "base_uri": "https://localhost:8080/"
        },
        "outputId": "4fa7cec3-ff07-4913-83e3-3ab7b8055a31",
        "id": "ftqpQaCyw77J"
      },
      "outputs": [
        {
          "output_type": "stream",
          "name": "stderr",
          "text": [
            "\u001b[32m[I 2022-01-31 15:35:54,102]\u001b[0m A new study created in memory with name: no-name-b6016e5e-f2e9-492d-aba3-052521b21e79\u001b[0m\n"
          ]
        },
        {
          "output_type": "stream",
          "name": "stdout",
          "text": [
            "Epoch 1/10\n",
            "54/54 [==============================] - 3s 22ms/step - loss: 0.7598 - accuracy: 0.5318 - val_loss: 0.6983 - val_accuracy: 0.4733\n",
            "Epoch 2/10\n",
            "54/54 [==============================] - 1s 16ms/step - loss: 0.7109 - accuracy: 0.5615 - val_loss: 0.6790 - val_accuracy: 0.5667\n",
            "Epoch 3/10\n",
            "54/54 [==============================] - 1s 16ms/step - loss: 0.6907 - accuracy: 0.5776 - val_loss: 0.6812 - val_accuracy: 0.5483\n",
            "Epoch 4/10\n",
            "54/54 [==============================] - 1s 16ms/step - loss: 0.6873 - accuracy: 0.5897 - val_loss: 0.6535 - val_accuracy: 0.6350\n",
            "Epoch 5/10\n",
            "54/54 [==============================] - 1s 16ms/step - loss: 0.6829 - accuracy: 0.5800 - val_loss: 0.6565 - val_accuracy: 0.5900\n",
            "Epoch 6/10\n",
            "54/54 [==============================] - 1s 16ms/step - loss: 0.6596 - accuracy: 0.6147 - val_loss: 0.6838 - val_accuracy: 0.5717\n",
            "Epoch 7/10\n",
            "54/54 [==============================] - 1s 20ms/step - loss: 0.6611 - accuracy: 0.6071 - val_loss: 0.6707 - val_accuracy: 0.6017\n",
            "Epoch 8/10\n",
            "54/54 [==============================] - 1s 16ms/step - loss: 0.6555 - accuracy: 0.6118 - val_loss: 0.6539 - val_accuracy: 0.6133\n",
            "Epoch 9/10\n",
            "54/54 [==============================] - 1s 16ms/step - loss: 0.6529 - accuracy: 0.6085 - val_loss: 0.6689 - val_accuracy: 0.5850\n",
            "Epoch 10/10\n",
            "54/54 [==============================] - 1s 16ms/step - loss: 0.6395 - accuracy: 0.6326 - val_loss: 0.6586 - val_accuracy: 0.6133\n"
          ]
        },
        {
          "output_type": "stream",
          "name": "stderr",
          "text": [
            "\u001b[32m[I 2022-01-31 15:36:05,517]\u001b[0m Trial 0 finished with value: 0.5920000076293945 and parameters: {'filters': 192, 'kernel_size': 5, 'strides': 1}. Best is trial 0 with value: 0.5920000076293945.\u001b[0m\n"
          ]
        },
        {
          "output_type": "stream",
          "name": "stdout",
          "text": [
            "Epoch 1/10\n",
            "54/54 [==============================] - 3s 30ms/step - loss: 0.8100 - accuracy: 0.5347 - val_loss: 0.6793 - val_accuracy: 0.5800\n",
            "Epoch 2/10\n",
            "54/54 [==============================] - 1s 15ms/step - loss: 0.7325 - accuracy: 0.5744 - val_loss: 0.6741 - val_accuracy: 0.5767\n",
            "Epoch 3/10\n",
            "54/54 [==============================] - 1s 14ms/step - loss: 0.7218 - accuracy: 0.5824 - val_loss: 0.6602 - val_accuracy: 0.6050\n",
            "Epoch 4/10\n",
            "54/54 [==============================] - 1s 15ms/step - loss: 0.7031 - accuracy: 0.5756 - val_loss: 0.6594 - val_accuracy: 0.5967\n",
            "Epoch 5/10\n",
            "54/54 [==============================] - 1s 15ms/step - loss: 0.6890 - accuracy: 0.5935 - val_loss: 0.6690 - val_accuracy: 0.6033\n",
            "Epoch 6/10\n",
            "54/54 [==============================] - 1s 15ms/step - loss: 0.6763 - accuracy: 0.6015 - val_loss: 0.6669 - val_accuracy: 0.5867\n",
            "Epoch 7/10\n",
            "54/54 [==============================] - 1s 15ms/step - loss: 0.6585 - accuracy: 0.6276 - val_loss: 0.6565 - val_accuracy: 0.6133\n",
            "Epoch 8/10\n",
            "54/54 [==============================] - 1s 15ms/step - loss: 0.6454 - accuracy: 0.6353 - val_loss: 0.6617 - val_accuracy: 0.5950\n",
            "Epoch 9/10\n",
            "54/54 [==============================] - 1s 15ms/step - loss: 0.6594 - accuracy: 0.6285 - val_loss: 0.6515 - val_accuracy: 0.6050\n",
            "Epoch 10/10\n",
            "54/54 [==============================] - 1s 14ms/step - loss: 0.6221 - accuracy: 0.6576 - val_loss: 0.6484 - val_accuracy: 0.6383\n"
          ]
        },
        {
          "output_type": "stream",
          "name": "stderr",
          "text": [
            "\u001b[32m[I 2022-01-31 15:36:16,355]\u001b[0m Trial 1 finished with value: 0.6359999775886536 and parameters: {'filters': 192, 'kernel_size': 3, 'strides': 2}. Best is trial 1 with value: 0.6359999775886536.\u001b[0m\n"
          ]
        },
        {
          "output_type": "stream",
          "name": "stdout",
          "text": [
            "Epoch 1/10\n",
            "54/54 [==============================] - 3s 20ms/step - loss: 0.7382 - accuracy: 0.5353 - val_loss: 0.6769 - val_accuracy: 0.5683\n",
            "Epoch 2/10\n",
            "54/54 [==============================] - 1s 14ms/step - loss: 0.6988 - accuracy: 0.5659 - val_loss: 0.6844 - val_accuracy: 0.5733\n",
            "Epoch 3/10\n",
            "54/54 [==============================] - 1s 14ms/step - loss: 0.6888 - accuracy: 0.5697 - val_loss: 0.6838 - val_accuracy: 0.5817\n",
            "Epoch 4/10\n",
            "54/54 [==============================] - 1s 14ms/step - loss: 0.6708 - accuracy: 0.6015 - val_loss: 0.6739 - val_accuracy: 0.5767\n",
            "Epoch 5/10\n",
            "54/54 [==============================] - 1s 14ms/step - loss: 0.6645 - accuracy: 0.6115 - val_loss: 0.6625 - val_accuracy: 0.6050\n",
            "Epoch 6/10\n",
            "54/54 [==============================] - 1s 14ms/step - loss: 0.6671 - accuracy: 0.5979 - val_loss: 0.6747 - val_accuracy: 0.5483\n",
            "Epoch 7/10\n",
            "54/54 [==============================] - 1s 14ms/step - loss: 0.6528 - accuracy: 0.6150 - val_loss: 0.6495 - val_accuracy: 0.6000\n",
            "Epoch 8/10\n",
            "54/54 [==============================] - 1s 14ms/step - loss: 0.6483 - accuracy: 0.6229 - val_loss: 0.6778 - val_accuracy: 0.5833\n",
            "Epoch 9/10\n",
            "54/54 [==============================] - 1s 14ms/step - loss: 0.6371 - accuracy: 0.6400 - val_loss: 0.6516 - val_accuracy: 0.6133\n",
            "Epoch 10/10\n",
            "54/54 [==============================] - 1s 14ms/step - loss: 0.6339 - accuracy: 0.6324 - val_loss: 0.6784 - val_accuracy: 0.5750\n"
          ]
        },
        {
          "output_type": "stream",
          "name": "stderr",
          "text": [
            "\u001b[32m[I 2022-01-31 15:36:28,587]\u001b[0m Trial 2 finished with value: 0.6079999804496765 and parameters: {'filters': 128, 'kernel_size': 3, 'strides': 2}. Best is trial 1 with value: 0.6359999775886536.\u001b[0m\n"
          ]
        },
        {
          "output_type": "stream",
          "name": "stdout",
          "text": [
            "Epoch 1/10\n",
            "54/54 [==============================] - 3s 22ms/step - loss: 0.7665 - accuracy: 0.5265 - val_loss: 0.6827 - val_accuracy: 0.5700\n",
            "Epoch 2/10\n",
            "54/54 [==============================] - 1s 16ms/step - loss: 0.7048 - accuracy: 0.5674 - val_loss: 0.6752 - val_accuracy: 0.5950\n",
            "Epoch 3/10\n",
            "54/54 [==============================] - 1s 15ms/step - loss: 0.6969 - accuracy: 0.5700 - val_loss: 0.6652 - val_accuracy: 0.5900\n",
            "Epoch 4/10\n",
            "54/54 [==============================] - 1s 16ms/step - loss: 0.6820 - accuracy: 0.5832 - val_loss: 0.6617 - val_accuracy: 0.6050\n",
            "Epoch 5/10\n",
            "54/54 [==============================] - 1s 16ms/step - loss: 0.6639 - accuracy: 0.6015 - val_loss: 0.6636 - val_accuracy: 0.5967\n",
            "Epoch 6/10\n",
            "54/54 [==============================] - 1s 16ms/step - loss: 0.6682 - accuracy: 0.6026 - val_loss: 0.6559 - val_accuracy: 0.6167\n",
            "Epoch 7/10\n",
            "54/54 [==============================] - 1s 15ms/step - loss: 0.6476 - accuracy: 0.6129 - val_loss: 0.6615 - val_accuracy: 0.6183\n",
            "Epoch 8/10\n",
            "54/54 [==============================] - 1s 16ms/step - loss: 0.6440 - accuracy: 0.6232 - val_loss: 0.6481 - val_accuracy: 0.6317\n",
            "Epoch 9/10\n",
            "54/54 [==============================] - 1s 15ms/step - loss: 0.6496 - accuracy: 0.6282 - val_loss: 0.6712 - val_accuracy: 0.5983\n",
            "Epoch 10/10\n",
            "54/54 [==============================] - 1s 16ms/step - loss: 0.6326 - accuracy: 0.6362 - val_loss: 0.6584 - val_accuracy: 0.6150\n"
          ]
        },
        {
          "output_type": "stream",
          "name": "stderr",
          "text": [
            "\u001b[32m[I 2022-01-31 15:36:39,409]\u001b[0m Trial 3 finished with value: 0.5879999995231628 and parameters: {'filters': 256, 'kernel_size': 3, 'strides': 1}. Best is trial 1 with value: 0.6359999775886536.\u001b[0m\n"
          ]
        },
        {
          "output_type": "stream",
          "name": "stdout",
          "text": [
            "Epoch 1/10\n",
            "54/54 [==============================] - 3s 21ms/step - loss: 0.7259 - accuracy: 0.5279 - val_loss: 0.6846 - val_accuracy: 0.5550\n",
            "Epoch 2/10\n",
            "54/54 [==============================] - 1s 15ms/step - loss: 0.6787 - accuracy: 0.5853 - val_loss: 0.6808 - val_accuracy: 0.5800\n",
            "Epoch 3/10\n",
            "54/54 [==============================] - 1s 15ms/step - loss: 0.6704 - accuracy: 0.5876 - val_loss: 0.6708 - val_accuracy: 0.5917\n",
            "Epoch 4/10\n",
            "54/54 [==============================] - 1s 15ms/step - loss: 0.6610 - accuracy: 0.6041 - val_loss: 0.6618 - val_accuracy: 0.6150\n",
            "Epoch 5/10\n",
            "54/54 [==============================] - 1s 15ms/step - loss: 0.6578 - accuracy: 0.6076 - val_loss: 0.6679 - val_accuracy: 0.6100\n",
            "Epoch 6/10\n",
            "54/54 [==============================] - 1s 15ms/step - loss: 0.6411 - accuracy: 0.6321 - val_loss: 0.6679 - val_accuracy: 0.5800\n",
            "Epoch 7/10\n",
            "54/54 [==============================] - 1s 15ms/step - loss: 0.6454 - accuracy: 0.6212 - val_loss: 0.6603 - val_accuracy: 0.5933\n",
            "Epoch 8/10\n",
            "54/54 [==============================] - 1s 15ms/step - loss: 0.6389 - accuracy: 0.6297 - val_loss: 0.6510 - val_accuracy: 0.6167\n",
            "Epoch 9/10\n",
            "54/54 [==============================] - 1s 15ms/step - loss: 0.6221 - accuracy: 0.6447 - val_loss: 0.6543 - val_accuracy: 0.6050\n",
            "Epoch 10/10\n",
            "54/54 [==============================] - 1s 15ms/step - loss: 0.6212 - accuracy: 0.6529 - val_loss: 0.6688 - val_accuracy: 0.5900\n"
          ]
        },
        {
          "output_type": "stream",
          "name": "stderr",
          "text": [
            "\u001b[32m[I 2022-01-31 15:36:51,618]\u001b[0m Trial 4 finished with value: 0.6000000238418579 and parameters: {'filters': 192, 'kernel_size': 3, 'strides': 1}. Best is trial 1 with value: 0.6359999775886536.\u001b[0m\n"
          ]
        },
        {
          "output_type": "stream",
          "name": "stdout",
          "text": [
            "Epoch 1/10\n",
            "54/54 [==============================] - 3s 22ms/step - loss: 0.7519 - accuracy: 0.5288 - val_loss: 0.7058 - val_accuracy: 0.5267\n",
            "Epoch 2/10\n",
            "54/54 [==============================] - 1s 17ms/step - loss: 0.7169 - accuracy: 0.5544 - val_loss: 0.6913 - val_accuracy: 0.5267\n",
            "Epoch 3/10\n",
            "54/54 [==============================] - 1s 16ms/step - loss: 0.7054 - accuracy: 0.5659 - val_loss: 0.6704 - val_accuracy: 0.5883\n",
            "Epoch 4/10\n",
            "54/54 [==============================] - 1s 17ms/step - loss: 0.6900 - accuracy: 0.5874 - val_loss: 0.6626 - val_accuracy: 0.6183\n",
            "Epoch 5/10\n",
            "54/54 [==============================] - 1s 17ms/step - loss: 0.6815 - accuracy: 0.5994 - val_loss: 0.6730 - val_accuracy: 0.5983\n",
            "Epoch 6/10\n",
            "54/54 [==============================] - 1s 17ms/step - loss: 0.6785 - accuracy: 0.5921 - val_loss: 0.7028 - val_accuracy: 0.5383\n",
            "Epoch 7/10\n",
            "54/54 [==============================] - 1s 17ms/step - loss: 0.6742 - accuracy: 0.6082 - val_loss: 0.6691 - val_accuracy: 0.5767\n",
            "Epoch 8/10\n",
            "54/54 [==============================] - 1s 17ms/step - loss: 0.6588 - accuracy: 0.6100 - val_loss: 0.6435 - val_accuracy: 0.6283\n",
            "Epoch 9/10\n",
            "54/54 [==============================] - 1s 17ms/step - loss: 0.6424 - accuracy: 0.6312 - val_loss: 0.6555 - val_accuracy: 0.6100\n",
            "Epoch 10/10\n",
            "54/54 [==============================] - 1s 16ms/step - loss: 0.6486 - accuracy: 0.6215 - val_loss: 0.6390 - val_accuracy: 0.6550\n"
          ]
        },
        {
          "output_type": "stream",
          "name": "stderr",
          "text": [
            "\u001b[32m[I 2022-01-31 15:37:03,002]\u001b[0m Trial 5 finished with value: 0.6140000224113464 and parameters: {'filters': 256, 'kernel_size': 5, 'strides': 1}. Best is trial 1 with value: 0.6359999775886536.\u001b[0m\n"
          ]
        },
        {
          "output_type": "stream",
          "name": "stdout",
          "text": [
            "Epoch 1/10\n",
            "54/54 [==============================] - 3s 22ms/step - loss: 0.7560 - accuracy: 0.5424 - val_loss: 0.6843 - val_accuracy: 0.5700\n",
            "Epoch 2/10\n",
            "54/54 [==============================] - 1s 16ms/step - loss: 0.7086 - accuracy: 0.5641 - val_loss: 0.6925 - val_accuracy: 0.5133\n",
            "Epoch 3/10\n",
            "54/54 [==============================] - 1s 16ms/step - loss: 0.6939 - accuracy: 0.5762 - val_loss: 0.6745 - val_accuracy: 0.5833\n",
            "Epoch 4/10\n",
            "54/54 [==============================] - 1s 16ms/step - loss: 0.6871 - accuracy: 0.5821 - val_loss: 0.6694 - val_accuracy: 0.5983\n",
            "Epoch 5/10\n",
            "54/54 [==============================] - 1s 16ms/step - loss: 0.6669 - accuracy: 0.6059 - val_loss: 0.6538 - val_accuracy: 0.6250\n",
            "Epoch 6/10\n",
            "54/54 [==============================] - 1s 16ms/step - loss: 0.6693 - accuracy: 0.6029 - val_loss: 0.6783 - val_accuracy: 0.5917\n",
            "Epoch 7/10\n",
            "54/54 [==============================] - 1s 16ms/step - loss: 0.6650 - accuracy: 0.6150 - val_loss: 0.6631 - val_accuracy: 0.6033\n",
            "Epoch 8/10\n",
            "54/54 [==============================] - 1s 16ms/step - loss: 0.6691 - accuracy: 0.6097 - val_loss: 0.6438 - val_accuracy: 0.6317\n",
            "Epoch 9/10\n",
            "54/54 [==============================] - 1s 16ms/step - loss: 0.6516 - accuracy: 0.6200 - val_loss: 0.6723 - val_accuracy: 0.5833\n",
            "Epoch 10/10\n",
            "54/54 [==============================] - 1s 16ms/step - loss: 0.6465 - accuracy: 0.6250 - val_loss: 0.6452 - val_accuracy: 0.6250\n"
          ]
        },
        {
          "output_type": "stream",
          "name": "stderr",
          "text": [
            "\u001b[32m[I 2022-01-31 15:37:13,939]\u001b[0m Trial 6 finished with value: 0.6079999804496765 and parameters: {'filters': 256, 'kernel_size': 5, 'strides': 2}. Best is trial 1 with value: 0.6359999775886536.\u001b[0m\n"
          ]
        },
        {
          "output_type": "stream",
          "name": "stdout",
          "text": [
            "Epoch 1/10\n",
            "54/54 [==============================] - 3s 22ms/step - loss: 0.7646 - accuracy: 0.5262 - val_loss: 0.6863 - val_accuracy: 0.5683\n",
            "Epoch 2/10\n",
            "54/54 [==============================] - 1s 15ms/step - loss: 0.7155 - accuracy: 0.5574 - val_loss: 0.6819 - val_accuracy: 0.5800\n",
            "Epoch 3/10\n",
            "54/54 [==============================] - 1s 15ms/step - loss: 0.6914 - accuracy: 0.5776 - val_loss: 0.6864 - val_accuracy: 0.5650\n",
            "Epoch 4/10\n",
            "54/54 [==============================] - 1s 15ms/step - loss: 0.6810 - accuracy: 0.5912 - val_loss: 0.6667 - val_accuracy: 0.6000\n",
            "Epoch 5/10\n",
            "54/54 [==============================] - 1s 16ms/step - loss: 0.6770 - accuracy: 0.5921 - val_loss: 0.6641 - val_accuracy: 0.6117\n",
            "Epoch 6/10\n",
            "54/54 [==============================] - 1s 16ms/step - loss: 0.6580 - accuracy: 0.6065 - val_loss: 0.6465 - val_accuracy: 0.6150\n",
            "Epoch 7/10\n",
            "54/54 [==============================] - 1s 15ms/step - loss: 0.6548 - accuracy: 0.6129 - val_loss: 0.6562 - val_accuracy: 0.5950\n",
            "Epoch 8/10\n",
            "54/54 [==============================] - 1s 16ms/step - loss: 0.6497 - accuracy: 0.6159 - val_loss: 0.6543 - val_accuracy: 0.6350\n",
            "Epoch 9/10\n",
            "54/54 [==============================] - 1s 16ms/step - loss: 0.6441 - accuracy: 0.6232 - val_loss: 0.6547 - val_accuracy: 0.6217\n",
            "Epoch 10/10\n",
            "54/54 [==============================] - 1s 15ms/step - loss: 0.6329 - accuracy: 0.6391 - val_loss: 0.7022 - val_accuracy: 0.6017\n"
          ]
        },
        {
          "output_type": "stream",
          "name": "stderr",
          "text": [
            "\u001b[32m[I 2022-01-31 15:37:25,234]\u001b[0m Trial 7 finished with value: 0.5899999737739563 and parameters: {'filters': 128, 'kernel_size': 5, 'strides': 1}. Best is trial 1 with value: 0.6359999775886536.\u001b[0m\n"
          ]
        },
        {
          "output_type": "stream",
          "name": "stdout",
          "text": [
            "Epoch 1/10\n",
            "54/54 [==============================] - 3s 22ms/step - loss: 0.7399 - accuracy: 0.5376 - val_loss: 0.6825 - val_accuracy: 0.5883\n",
            "Epoch 2/10\n",
            "54/54 [==============================] - 1s 15ms/step - loss: 0.7056 - accuracy: 0.5491 - val_loss: 0.6829 - val_accuracy: 0.5617\n",
            "Epoch 3/10\n",
            "54/54 [==============================] - 1s 15ms/step - loss: 0.6956 - accuracy: 0.5656 - val_loss: 0.6719 - val_accuracy: 0.5867\n",
            "Epoch 4/10\n",
            "54/54 [==============================] - 1s 16ms/step - loss: 0.6805 - accuracy: 0.5782 - val_loss: 0.6640 - val_accuracy: 0.5783\n",
            "Epoch 5/10\n",
            "54/54 [==============================] - 1s 16ms/step - loss: 0.6757 - accuracy: 0.5894 - val_loss: 0.6667 - val_accuracy: 0.5850\n",
            "Epoch 6/10\n",
            "54/54 [==============================] - 1s 16ms/step - loss: 0.6666 - accuracy: 0.6044 - val_loss: 0.6782 - val_accuracy: 0.5700\n",
            "Epoch 7/10\n",
            "54/54 [==============================] - 1s 15ms/step - loss: 0.6412 - accuracy: 0.6209 - val_loss: 0.6590 - val_accuracy: 0.6133\n",
            "Epoch 8/10\n",
            "54/54 [==============================] - 1s 16ms/step - loss: 0.6485 - accuracy: 0.6256 - val_loss: 0.6773 - val_accuracy: 0.5667\n",
            "Epoch 9/10\n",
            "54/54 [==============================] - 1s 15ms/step - loss: 0.6463 - accuracy: 0.6235 - val_loss: 0.6802 - val_accuracy: 0.5733\n",
            "Epoch 10/10\n",
            "54/54 [==============================] - 1s 16ms/step - loss: 0.6402 - accuracy: 0.6265 - val_loss: 0.6575 - val_accuracy: 0.6083\n"
          ]
        },
        {
          "output_type": "stream",
          "name": "stderr",
          "text": [
            "\u001b[32m[I 2022-01-31 15:37:36,049]\u001b[0m Trial 8 finished with value: 0.5879999995231628 and parameters: {'filters': 192, 'kernel_size': 5, 'strides': 2}. Best is trial 1 with value: 0.6359999775886536.\u001b[0m\n"
          ]
        },
        {
          "output_type": "stream",
          "name": "stdout",
          "text": [
            "Epoch 1/10\n",
            "54/54 [==============================] - 3s 22ms/step - loss: 0.7514 - accuracy: 0.5306 - val_loss: 0.6829 - val_accuracy: 0.5717\n",
            "Epoch 2/10\n",
            "54/54 [==============================] - 1s 16ms/step - loss: 0.6996 - accuracy: 0.5671 - val_loss: 0.6845 - val_accuracy: 0.5683\n",
            "Epoch 3/10\n",
            "54/54 [==============================] - 1s 16ms/step - loss: 0.6781 - accuracy: 0.5829 - val_loss: 0.6782 - val_accuracy: 0.5683\n",
            "Epoch 4/10\n",
            "54/54 [==============================] - 1s 16ms/step - loss: 0.6753 - accuracy: 0.5874 - val_loss: 0.6697 - val_accuracy: 0.6000\n",
            "Epoch 5/10\n",
            "54/54 [==============================] - 1s 16ms/step - loss: 0.6675 - accuracy: 0.5888 - val_loss: 0.6595 - val_accuracy: 0.6217\n",
            "Epoch 6/10\n",
            "54/54 [==============================] - 1s 16ms/step - loss: 0.6473 - accuracy: 0.6209 - val_loss: 0.6563 - val_accuracy: 0.6067\n",
            "Epoch 7/10\n",
            "54/54 [==============================] - 1s 16ms/step - loss: 0.6431 - accuracy: 0.6226 - val_loss: 0.6620 - val_accuracy: 0.5967\n",
            "Epoch 8/10\n",
            "54/54 [==============================] - 1s 16ms/step - loss: 0.6363 - accuracy: 0.6403 - val_loss: 0.6558 - val_accuracy: 0.6000\n",
            "Epoch 9/10\n",
            "54/54 [==============================] - 1s 16ms/step - loss: 0.6306 - accuracy: 0.6371 - val_loss: 0.6677 - val_accuracy: 0.5800\n",
            "Epoch 10/10\n",
            "54/54 [==============================] - 1s 16ms/step - loss: 0.6193 - accuracy: 0.6538 - val_loss: 0.6541 - val_accuracy: 0.6067\n"
          ]
        },
        {
          "output_type": "stream",
          "name": "stderr",
          "text": [
            "\u001b[32m[I 2022-01-31 15:37:47,004]\u001b[0m Trial 9 finished with value: 0.5699999928474426 and parameters: {'filters': 256, 'kernel_size': 5, 'strides': 2}. Best is trial 1 with value: 0.6359999775886536.\u001b[0m\n"
          ]
        },
        {
          "output_type": "stream",
          "name": "stdout",
          "text": [
            "Number of finished trials: 10\n",
            "Best trial:\n",
            "  Value: 0.6359999775886536\n",
            "  Params: \n",
            "    filters: 192\n",
            "    kernel_size: 3\n",
            "    strides: 2\n"
          ]
        }
      ],
      "source": [
        "def objective(trial):\n",
        "\n",
        "    model = CompactNet(trial)\n",
        "\n",
        "\n",
        "    model.fit(\n",
        "        X_train, Y_train,\n",
        "        validation_split=0.15,\n",
        "        shuffle=True,\n",
        "        batch_size=batch_size,\n",
        "        epochs=epochs,\n",
        "        verbose=1\n",
        "    )\n",
        "\n",
        "    # Evaluate the model accuracy on the Test set.\n",
        "    score = model.evaluate(X_test, Y_test, verbose=0)\n",
        "    return score[1]\n",
        "\n",
        "\n",
        "study = optuna.create_study(direction=\"maximize\", sampler=optuna.samplers.NSGAIISampler())\n",
        "# study = optuna.create_study(direction=\"maximize\")\n",
        "study.optimize(objective, n_trials=n_trials)\n",
        "# study.optimize(objective, n_trials=5)\n",
        "print(\"Number of finished trials: {}\".format(len(study.trials)))\n",
        "\n",
        "print(\"Best trial:\")\n",
        "trial = study.best_trial\n",
        "\n",
        "print(\"  Value: {}\".format(trial.value))\n",
        "\n",
        "print(\"  Params: \")\n",
        "for key, value in trial.params.items():\n",
        "    print(\"    {}: {}\".format(key, value))\n",
        "\n",
        "# print(\"Training model with best_params {}\".format(study.best_params))"
      ]
    },
    {
      "cell_type": "code",
      "execution_count": null,
      "metadata": {
        "colab": {
          "base_uri": "https://localhost:8080/",
          "height": 504
        },
        "outputId": "bb96c2cd-1b8b-4be9-b1b5-a0a9fa1e8d97",
        "id": "xh2gKn6Tw77L"
      },
      "outputs": [
        {
          "output_type": "execute_result",
          "data": {
            "text/html": [
              "\n",
              "  <div id=\"df-215f50ad-7579-4ddb-bde8-b0bd4f9115f9\">\n",
              "    <div class=\"colab-df-container\">\n",
              "      <div>\n",
              "<style scoped>\n",
              "    .dataframe tbody tr th:only-of-type {\n",
              "        vertical-align: middle;\n",
              "    }\n",
              "\n",
              "    .dataframe tbody tr th {\n",
              "        vertical-align: top;\n",
              "    }\n",
              "\n",
              "    .dataframe thead th {\n",
              "        text-align: right;\n",
              "    }\n",
              "</style>\n",
              "<table border=\"1\" class=\"dataframe\">\n",
              "  <thead>\n",
              "    <tr style=\"text-align: right;\">\n",
              "      <th></th>\n",
              "      <th>number</th>\n",
              "      <th>value</th>\n",
              "      <th>datetime_start</th>\n",
              "      <th>datetime_complete</th>\n",
              "      <th>duration</th>\n",
              "      <th>params_filters</th>\n",
              "      <th>params_kernel_size</th>\n",
              "      <th>params_strides</th>\n",
              "      <th>system_attrs_nsga2:generation</th>\n",
              "      <th>state</th>\n",
              "    </tr>\n",
              "  </thead>\n",
              "  <tbody>\n",
              "    <tr>\n",
              "      <th>0</th>\n",
              "      <td>0</td>\n",
              "      <td>0.592</td>\n",
              "      <td>2022-01-31 15:35:54.105254</td>\n",
              "      <td>2022-01-31 15:36:05.516607</td>\n",
              "      <td>0 days 00:00:11.411353</td>\n",
              "      <td>192</td>\n",
              "      <td>5</td>\n",
              "      <td>1</td>\n",
              "      <td>0</td>\n",
              "      <td>COMPLETE</td>\n",
              "    </tr>\n",
              "    <tr>\n",
              "      <th>1</th>\n",
              "      <td>1</td>\n",
              "      <td>0.636</td>\n",
              "      <td>2022-01-31 15:36:05.518481</td>\n",
              "      <td>2022-01-31 15:36:16.355305</td>\n",
              "      <td>0 days 00:00:10.836824</td>\n",
              "      <td>192</td>\n",
              "      <td>3</td>\n",
              "      <td>2</td>\n",
              "      <td>0</td>\n",
              "      <td>COMPLETE</td>\n",
              "    </tr>\n",
              "    <tr>\n",
              "      <th>2</th>\n",
              "      <td>2</td>\n",
              "      <td>0.608</td>\n",
              "      <td>2022-01-31 15:36:16.357264</td>\n",
              "      <td>2022-01-31 15:36:28.587369</td>\n",
              "      <td>0 days 00:00:12.230105</td>\n",
              "      <td>128</td>\n",
              "      <td>3</td>\n",
              "      <td>2</td>\n",
              "      <td>0</td>\n",
              "      <td>COMPLETE</td>\n",
              "    </tr>\n",
              "    <tr>\n",
              "      <th>3</th>\n",
              "      <td>3</td>\n",
              "      <td>0.588</td>\n",
              "      <td>2022-01-31 15:36:28.589312</td>\n",
              "      <td>2022-01-31 15:36:39.409534</td>\n",
              "      <td>0 days 00:00:10.820222</td>\n",
              "      <td>256</td>\n",
              "      <td>3</td>\n",
              "      <td>1</td>\n",
              "      <td>0</td>\n",
              "      <td>COMPLETE</td>\n",
              "    </tr>\n",
              "    <tr>\n",
              "      <th>4</th>\n",
              "      <td>4</td>\n",
              "      <td>0.600</td>\n",
              "      <td>2022-01-31 15:36:39.411421</td>\n",
              "      <td>2022-01-31 15:36:51.618265</td>\n",
              "      <td>0 days 00:00:12.206844</td>\n",
              "      <td>192</td>\n",
              "      <td>3</td>\n",
              "      <td>1</td>\n",
              "      <td>0</td>\n",
              "      <td>COMPLETE</td>\n",
              "    </tr>\n",
              "    <tr>\n",
              "      <th>5</th>\n",
              "      <td>5</td>\n",
              "      <td>0.614</td>\n",
              "      <td>2022-01-31 15:36:51.620767</td>\n",
              "      <td>2022-01-31 15:37:03.002131</td>\n",
              "      <td>0 days 00:00:11.381364</td>\n",
              "      <td>256</td>\n",
              "      <td>5</td>\n",
              "      <td>1</td>\n",
              "      <td>0</td>\n",
              "      <td>COMPLETE</td>\n",
              "    </tr>\n",
              "    <tr>\n",
              "      <th>6</th>\n",
              "      <td>6</td>\n",
              "      <td>0.608</td>\n",
              "      <td>2022-01-31 15:37:03.003994</td>\n",
              "      <td>2022-01-31 15:37:13.939326</td>\n",
              "      <td>0 days 00:00:10.935332</td>\n",
              "      <td>256</td>\n",
              "      <td>5</td>\n",
              "      <td>2</td>\n",
              "      <td>0</td>\n",
              "      <td>COMPLETE</td>\n",
              "    </tr>\n",
              "    <tr>\n",
              "      <th>7</th>\n",
              "      <td>7</td>\n",
              "      <td>0.590</td>\n",
              "      <td>2022-01-31 15:37:13.941499</td>\n",
              "      <td>2022-01-31 15:37:25.233716</td>\n",
              "      <td>0 days 00:00:11.292217</td>\n",
              "      <td>128</td>\n",
              "      <td>5</td>\n",
              "      <td>1</td>\n",
              "      <td>0</td>\n",
              "      <td>COMPLETE</td>\n",
              "    </tr>\n",
              "    <tr>\n",
              "      <th>8</th>\n",
              "      <td>8</td>\n",
              "      <td>0.588</td>\n",
              "      <td>2022-01-31 15:37:25.235779</td>\n",
              "      <td>2022-01-31 15:37:36.048997</td>\n",
              "      <td>0 days 00:00:10.813218</td>\n",
              "      <td>192</td>\n",
              "      <td>5</td>\n",
              "      <td>2</td>\n",
              "      <td>0</td>\n",
              "      <td>COMPLETE</td>\n",
              "    </tr>\n",
              "    <tr>\n",
              "      <th>9</th>\n",
              "      <td>9</td>\n",
              "      <td>0.570</td>\n",
              "      <td>2022-01-31 15:37:36.050893</td>\n",
              "      <td>2022-01-31 15:37:47.004214</td>\n",
              "      <td>0 days 00:00:10.953321</td>\n",
              "      <td>256</td>\n",
              "      <td>5</td>\n",
              "      <td>2</td>\n",
              "      <td>0</td>\n",
              "      <td>COMPLETE</td>\n",
              "    </tr>\n",
              "  </tbody>\n",
              "</table>\n",
              "</div>\n",
              "      <button class=\"colab-df-convert\" onclick=\"convertToInteractive('df-215f50ad-7579-4ddb-bde8-b0bd4f9115f9')\"\n",
              "              title=\"Convert this dataframe to an interactive table.\"\n",
              "              style=\"display:none;\">\n",
              "        \n",
              "  <svg xmlns=\"http://www.w3.org/2000/svg\" height=\"24px\"viewBox=\"0 0 24 24\"\n",
              "       width=\"24px\">\n",
              "    <path d=\"M0 0h24v24H0V0z\" fill=\"none\"/>\n",
              "    <path d=\"M18.56 5.44l.94 2.06.94-2.06 2.06-.94-2.06-.94-.94-2.06-.94 2.06-2.06.94zm-11 1L8.5 8.5l.94-2.06 2.06-.94-2.06-.94L8.5 2.5l-.94 2.06-2.06.94zm10 10l.94 2.06.94-2.06 2.06-.94-2.06-.94-.94-2.06-.94 2.06-2.06.94z\"/><path d=\"M17.41 7.96l-1.37-1.37c-.4-.4-.92-.59-1.43-.59-.52 0-1.04.2-1.43.59L10.3 9.45l-7.72 7.72c-.78.78-.78 2.05 0 2.83L4 21.41c.39.39.9.59 1.41.59.51 0 1.02-.2 1.41-.59l7.78-7.78 2.81-2.81c.8-.78.8-2.07 0-2.86zM5.41 20L4 18.59l7.72-7.72 1.47 1.35L5.41 20z\"/>\n",
              "  </svg>\n",
              "      </button>\n",
              "      \n",
              "  <style>\n",
              "    .colab-df-container {\n",
              "      display:flex;\n",
              "      flex-wrap:wrap;\n",
              "      gap: 12px;\n",
              "    }\n",
              "\n",
              "    .colab-df-convert {\n",
              "      background-color: #E8F0FE;\n",
              "      border: none;\n",
              "      border-radius: 50%;\n",
              "      cursor: pointer;\n",
              "      display: none;\n",
              "      fill: #1967D2;\n",
              "      height: 32px;\n",
              "      padding: 0 0 0 0;\n",
              "      width: 32px;\n",
              "    }\n",
              "\n",
              "    .colab-df-convert:hover {\n",
              "      background-color: #E2EBFA;\n",
              "      box-shadow: 0px 1px 2px rgba(60, 64, 67, 0.3), 0px 1px 3px 1px rgba(60, 64, 67, 0.15);\n",
              "      fill: #174EA6;\n",
              "    }\n",
              "\n",
              "    [theme=dark] .colab-df-convert {\n",
              "      background-color: #3B4455;\n",
              "      fill: #D2E3FC;\n",
              "    }\n",
              "\n",
              "    [theme=dark] .colab-df-convert:hover {\n",
              "      background-color: #434B5C;\n",
              "      box-shadow: 0px 1px 3px 1px rgba(0, 0, 0, 0.15);\n",
              "      filter: drop-shadow(0px 1px 2px rgba(0, 0, 0, 0.3));\n",
              "      fill: #FFFFFF;\n",
              "    }\n",
              "  </style>\n",
              "\n",
              "      <script>\n",
              "        const buttonEl =\n",
              "          document.querySelector('#df-215f50ad-7579-4ddb-bde8-b0bd4f9115f9 button.colab-df-convert');\n",
              "        buttonEl.style.display =\n",
              "          google.colab.kernel.accessAllowed ? 'block' : 'none';\n",
              "\n",
              "        async function convertToInteractive(key) {\n",
              "          const element = document.querySelector('#df-215f50ad-7579-4ddb-bde8-b0bd4f9115f9');\n",
              "          const dataTable =\n",
              "            await google.colab.kernel.invokeFunction('convertToInteractive',\n",
              "                                                     [key], {});\n",
              "          if (!dataTable) return;\n",
              "\n",
              "          const docLinkHtml = 'Like what you see? Visit the ' +\n",
              "            '<a target=\"_blank\" href=https://colab.research.google.com/notebooks/data_table.ipynb>data table notebook</a>'\n",
              "            + ' to learn more about interactive tables.';\n",
              "          element.innerHTML = '';\n",
              "          dataTable['output_type'] = 'display_data';\n",
              "          await google.colab.output.renderOutput(dataTable, element);\n",
              "          const docLink = document.createElement('div');\n",
              "          docLink.innerHTML = docLinkHtml;\n",
              "          element.appendChild(docLink);\n",
              "        }\n",
              "      </script>\n",
              "    </div>\n",
              "  </div>\n",
              "  "
            ],
            "text/plain": [
              "   number  value  ... system_attrs_nsga2:generation     state\n",
              "0       0  0.592  ...                             0  COMPLETE\n",
              "1       1  0.636  ...                             0  COMPLETE\n",
              "2       2  0.608  ...                             0  COMPLETE\n",
              "3       3  0.588  ...                             0  COMPLETE\n",
              "4       4  0.600  ...                             0  COMPLETE\n",
              "5       5  0.614  ...                             0  COMPLETE\n",
              "6       6  0.608  ...                             0  COMPLETE\n",
              "7       7  0.590  ...                             0  COMPLETE\n",
              "8       8  0.588  ...                             0  COMPLETE\n",
              "9       9  0.570  ...                             0  COMPLETE\n",
              "\n",
              "[10 rows x 10 columns]"
            ]
          },
          "metadata": {},
          "execution_count": 51
        }
      ],
      "source": [
        "trials_df = study.trials_dataframe()\n",
        "trials_df.to_csv('trials_history.csv')\n",
        "trials_df"
      ]
    },
    {
      "cell_type": "markdown",
      "source": [
        "###4th Layer (i.e. Dense1) HPO"
      ],
      "metadata": {
        "id": "_6pMCZc-yzpc"
      }
    },
    {
      "cell_type": "code",
      "execution_count": null,
      "metadata": {
        "id": "-EnJ5Pn6yzpd"
      },
      "outputs": [],
      "source": [
        "def CompactNet(trial):\n",
        "    \n",
        "    X_input = Input(shape = (window_size, channel_len))\n",
        "\n",
        "    x = Conv1D(32, kernel_size = 2, strides = 1, padding = 'same', activation='relu', name='C1')(X_input)\n",
        "\n",
        "    x = AveragePooling1D(\n",
        "        pool_size=2,\n",
        "        name='AP1')(x)\n",
        "\n",
        "    x = BatchNormalization(name='BN1')(x)\n",
        "\n",
        "    x = Conv1D(128, kernel_size = 5, strides = 1, padding = 'same', activation='relu', name='C3')(x)\n",
        "\n",
        "    x = AveragePooling1D(pool_size=2, name='AP2')(x)\n",
        "\n",
        "    x = BatchNormalization(name='BN2')(x)\n",
        "\n",
        "    x = Conv1D(192, kernel_size = 3, strides = 2, padding = 'same', activation='relu', name='C7')(x)\n",
        "\n",
        "    x = GlobalAveragePooling1D(name='GAP')(x)\n",
        "\n",
        "    x = BatchNormalization(name='BN4')(x)\n",
        "\n",
        "    x = Dropout(0.2)(x)\n",
        "\n",
        "    x = Dense(\n",
        "        units=trial.suggest_int('units', 64, 128, 256),\n",
        "        activation=trial.suggest_categorical('activation', ['relu', 'linear', 'tanh'])\n",
        "        )(x)\n",
        "\n",
        "    x = Dense(8)(x)\n",
        "    x = Activation('tanh')(x)\n",
        "\n",
        "\n",
        "    x = Dropout(0.1)(x)\n",
        "\n",
        "    x = Dense(classes)(x)\n",
        "    output = Activation('softmax')(x)\n",
        "\n",
        "    model=Model(inputs=X_input, outputs=output, name='CompactNet')\n",
        "\n",
        "    model.compile(loss='categorical_crossentropy',\n",
        "              optimizer=Adam(learning_rate=0.001, decay=1e-5),\n",
        "              metrics=['accuracy'])\n",
        "\n",
        "    return model"
      ]
    },
    {
      "cell_type": "code",
      "execution_count": null,
      "metadata": {
        "colab": {
          "base_uri": "https://localhost:8080/"
        },
        "outputId": "28197772-ea1e-4824-c0d5-c7085916a4f8",
        "id": "Oi3QZhjRyzpf"
      },
      "outputs": [
        {
          "output_type": "stream",
          "name": "stderr",
          "text": [
            "\u001b[32m[I 2022-01-31 15:53:57,810]\u001b[0m A new study created in memory with name: no-name-50e5a3d8-2b5f-4bb1-97ab-c225d923b117\u001b[0m\n"
          ]
        },
        {
          "output_type": "stream",
          "name": "stdout",
          "text": [
            "Epoch 1/10\n",
            "54/54 [==============================] - 3s 21ms/step - loss: 0.7660 - accuracy: 0.5368 - val_loss: 0.6841 - val_accuracy: 0.5750\n",
            "Epoch 2/10\n",
            "54/54 [==============================] - 1s 15ms/step - loss: 0.7103 - accuracy: 0.5676 - val_loss: 0.6791 - val_accuracy: 0.5700\n",
            "Epoch 3/10\n",
            "54/54 [==============================] - 1s 15ms/step - loss: 0.7004 - accuracy: 0.5729 - val_loss: 0.6726 - val_accuracy: 0.5800\n",
            "Epoch 4/10\n",
            "54/54 [==============================] - 1s 15ms/step - loss: 0.6747 - accuracy: 0.6053 - val_loss: 0.6667 - val_accuracy: 0.6083\n",
            "Epoch 5/10\n",
            "54/54 [==============================] - 1s 15ms/step - loss: 0.6746 - accuracy: 0.6062 - val_loss: 0.6594 - val_accuracy: 0.5983\n",
            "Epoch 6/10\n",
            "54/54 [==============================] - 1s 15ms/step - loss: 0.6691 - accuracy: 0.6006 - val_loss: 0.6785 - val_accuracy: 0.5867\n",
            "Epoch 7/10\n",
            "54/54 [==============================] - 1s 15ms/step - loss: 0.6729 - accuracy: 0.5962 - val_loss: 0.6632 - val_accuracy: 0.6183\n",
            "Epoch 8/10\n",
            "54/54 [==============================] - 1s 15ms/step - loss: 0.6444 - accuracy: 0.6262 - val_loss: 0.6782 - val_accuracy: 0.5833\n",
            "Epoch 9/10\n",
            "54/54 [==============================] - 1s 15ms/step - loss: 0.6440 - accuracy: 0.6256 - val_loss: 0.6701 - val_accuracy: 0.6067\n",
            "Epoch 10/10\n",
            "54/54 [==============================] - 1s 15ms/step - loss: 0.6311 - accuracy: 0.6421 - val_loss: 0.6861 - val_accuracy: 0.5767\n"
          ]
        },
        {
          "output_type": "stream",
          "name": "stderr",
          "text": [
            "\u001b[32m[I 2022-01-31 15:54:08,999]\u001b[0m Trial 0 finished with value: 0.578000009059906 and parameters: {'units': 64, 'activation': 'relu'}. Best is trial 0 with value: 0.578000009059906.\u001b[0m\n"
          ]
        },
        {
          "output_type": "stream",
          "name": "stdout",
          "text": [
            "Epoch 1/10\n",
            "54/54 [==============================] - 3s 21ms/step - loss: 0.7504 - accuracy: 0.5262 - val_loss: 0.6864 - val_accuracy: 0.5617\n",
            "Epoch 2/10\n",
            "54/54 [==============================] - 1s 16ms/step - loss: 0.7045 - accuracy: 0.5618 - val_loss: 0.6738 - val_accuracy: 0.5983\n",
            "Epoch 3/10\n",
            "54/54 [==============================] - 1s 19ms/step - loss: 0.6880 - accuracy: 0.5726 - val_loss: 0.6724 - val_accuracy: 0.5800\n",
            "Epoch 4/10\n",
            "54/54 [==============================] - 1s 21ms/step - loss: 0.6661 - accuracy: 0.6129 - val_loss: 0.6635 - val_accuracy: 0.5850\n",
            "Epoch 5/10\n",
            "54/54 [==============================] - 1s 20ms/step - loss: 0.6679 - accuracy: 0.6000 - val_loss: 0.6575 - val_accuracy: 0.6050\n",
            "Epoch 6/10\n",
            "54/54 [==============================] - 1s 21ms/step - loss: 0.6557 - accuracy: 0.6035 - val_loss: 0.6623 - val_accuracy: 0.5883\n",
            "Epoch 7/10\n",
            "54/54 [==============================] - 1s 19ms/step - loss: 0.6341 - accuracy: 0.6391 - val_loss: 0.6701 - val_accuracy: 0.6067\n",
            "Epoch 8/10\n",
            "54/54 [==============================] - 1s 20ms/step - loss: 0.6408 - accuracy: 0.6288 - val_loss: 0.6750 - val_accuracy: 0.5767\n",
            "Epoch 9/10\n",
            "54/54 [==============================] - 1s 19ms/step - loss: 0.6303 - accuracy: 0.6497 - val_loss: 0.6769 - val_accuracy: 0.5800\n",
            "Epoch 10/10\n",
            "54/54 [==============================] - 1s 19ms/step - loss: 0.6316 - accuracy: 0.6385 - val_loss: 0.6344 - val_accuracy: 0.6183\n"
          ]
        },
        {
          "output_type": "stream",
          "name": "stderr",
          "text": [
            "\u001b[32m[I 2022-01-31 15:54:21,645]\u001b[0m Trial 1 finished with value: 0.6179999709129333 and parameters: {'units': 64, 'activation': 'tanh'}. Best is trial 1 with value: 0.6179999709129333.\u001b[0m\n"
          ]
        },
        {
          "output_type": "stream",
          "name": "stdout",
          "text": [
            "Epoch 1/10\n",
            "54/54 [==============================] - 3s 28ms/step - loss: 0.7882 - accuracy: 0.5382 - val_loss: 0.6926 - val_accuracy: 0.5217\n",
            "Epoch 2/10\n",
            "54/54 [==============================] - 1s 19ms/step - loss: 0.7378 - accuracy: 0.5524 - val_loss: 0.6818 - val_accuracy: 0.5850\n",
            "Epoch 3/10\n",
            "54/54 [==============================] - 1s 19ms/step - loss: 0.7110 - accuracy: 0.5785 - val_loss: 0.6737 - val_accuracy: 0.5800\n",
            "Epoch 4/10\n",
            "54/54 [==============================] - 1s 20ms/step - loss: 0.7003 - accuracy: 0.5785 - val_loss: 0.6726 - val_accuracy: 0.5800\n",
            "Epoch 5/10\n",
            "54/54 [==============================] - 1s 18ms/step - loss: 0.6829 - accuracy: 0.5950 - val_loss: 0.6638 - val_accuracy: 0.5850\n",
            "Epoch 6/10\n",
            "54/54 [==============================] - 1s 18ms/step - loss: 0.6775 - accuracy: 0.5871 - val_loss: 0.6775 - val_accuracy: 0.5950\n",
            "Epoch 7/10\n",
            "54/54 [==============================] - 1s 17ms/step - loss: 0.6809 - accuracy: 0.5897 - val_loss: 0.6615 - val_accuracy: 0.6000\n",
            "Epoch 8/10\n",
            "54/54 [==============================] - 1s 17ms/step - loss: 0.6612 - accuracy: 0.6215 - val_loss: 0.6494 - val_accuracy: 0.6250\n",
            "Epoch 9/10\n",
            "54/54 [==============================] - 1s 18ms/step - loss: 0.6502 - accuracy: 0.6274 - val_loss: 0.6473 - val_accuracy: 0.6100\n",
            "Epoch 10/10\n",
            "54/54 [==============================] - 1s 16ms/step - loss: 0.6410 - accuracy: 0.6418 - val_loss: 0.6399 - val_accuracy: 0.6233\n"
          ]
        },
        {
          "output_type": "stream",
          "name": "stderr",
          "text": [
            "\u001b[32m[I 2022-01-31 15:54:34,349]\u001b[0m Trial 2 finished with value: 0.593999981880188 and parameters: {'units': 64, 'activation': 'relu'}. Best is trial 1 with value: 0.6179999709129333.\u001b[0m\n"
          ]
        },
        {
          "output_type": "stream",
          "name": "stdout",
          "text": [
            "Epoch 1/10\n",
            "54/54 [==============================] - 3s 21ms/step - loss: 0.7302 - accuracy: 0.5388 - val_loss: 0.6789 - val_accuracy: 0.5683\n",
            "Epoch 2/10\n",
            "54/54 [==============================] - 1s 15ms/step - loss: 0.6812 - accuracy: 0.5847 - val_loss: 0.6787 - val_accuracy: 0.5700\n",
            "Epoch 3/10\n",
            "54/54 [==============================] - 1s 15ms/step - loss: 0.6677 - accuracy: 0.5935 - val_loss: 0.6759 - val_accuracy: 0.5817\n",
            "Epoch 4/10\n",
            "54/54 [==============================] - 1s 15ms/step - loss: 0.6663 - accuracy: 0.6006 - val_loss: 0.6765 - val_accuracy: 0.5800\n",
            "Epoch 5/10\n",
            "54/54 [==============================] - 1s 15ms/step - loss: 0.6528 - accuracy: 0.6076 - val_loss: 0.6716 - val_accuracy: 0.6017\n",
            "Epoch 6/10\n",
            "54/54 [==============================] - 1s 15ms/step - loss: 0.6511 - accuracy: 0.6171 - val_loss: 0.6564 - val_accuracy: 0.5933\n",
            "Epoch 7/10\n",
            "54/54 [==============================] - 1s 15ms/step - loss: 0.6412 - accuracy: 0.6306 - val_loss: 0.6545 - val_accuracy: 0.5983\n",
            "Epoch 8/10\n",
            "54/54 [==============================] - 1s 15ms/step - loss: 0.6338 - accuracy: 0.6382 - val_loss: 0.6651 - val_accuracy: 0.5833\n",
            "Epoch 9/10\n",
            "54/54 [==============================] - 1s 15ms/step - loss: 0.6324 - accuracy: 0.6391 - val_loss: 0.6632 - val_accuracy: 0.6183\n",
            "Epoch 10/10\n",
            "54/54 [==============================] - 1s 15ms/step - loss: 0.6238 - accuracy: 0.6556 - val_loss: 0.6504 - val_accuracy: 0.6250\n"
          ]
        },
        {
          "output_type": "stream",
          "name": "stderr",
          "text": [
            "\u001b[32m[I 2022-01-31 15:54:44,992]\u001b[0m Trial 3 finished with value: 0.5960000157356262 and parameters: {'units': 64, 'activation': 'tanh'}. Best is trial 1 with value: 0.6179999709129333.\u001b[0m\n"
          ]
        },
        {
          "output_type": "stream",
          "name": "stdout",
          "text": [
            "Epoch 1/10\n",
            "54/54 [==============================] - 3s 25ms/step - loss: 0.7995 - accuracy: 0.5388 - val_loss: 0.6987 - val_accuracy: 0.5100\n",
            "Epoch 2/10\n",
            "54/54 [==============================] - 1s 20ms/step - loss: 0.7316 - accuracy: 0.5638 - val_loss: 0.6782 - val_accuracy: 0.5650\n",
            "Epoch 3/10\n",
            "54/54 [==============================] - 1s 18ms/step - loss: 0.7081 - accuracy: 0.5776 - val_loss: 0.6673 - val_accuracy: 0.6117\n",
            "Epoch 4/10\n",
            "54/54 [==============================] - 1s 18ms/step - loss: 0.6978 - accuracy: 0.5900 - val_loss: 0.6689 - val_accuracy: 0.6000\n",
            "Epoch 5/10\n",
            "54/54 [==============================] - 1s 20ms/step - loss: 0.6994 - accuracy: 0.5788 - val_loss: 0.6594 - val_accuracy: 0.6200\n",
            "Epoch 6/10\n",
            "54/54 [==============================] - 1s 18ms/step - loss: 0.6729 - accuracy: 0.6047 - val_loss: 0.6514 - val_accuracy: 0.6150\n",
            "Epoch 7/10\n",
            "54/54 [==============================] - 1s 20ms/step - loss: 0.6648 - accuracy: 0.6047 - val_loss: 0.6665 - val_accuracy: 0.5950\n",
            "Epoch 8/10\n",
            "54/54 [==============================] - 1s 20ms/step - loss: 0.6566 - accuracy: 0.6191 - val_loss: 0.6606 - val_accuracy: 0.5800\n",
            "Epoch 9/10\n",
            "54/54 [==============================] - 1s 18ms/step - loss: 0.6444 - accuracy: 0.6318 - val_loss: 0.6626 - val_accuracy: 0.5950\n",
            "Epoch 10/10\n",
            "54/54 [==============================] - 1s 17ms/step - loss: 0.6367 - accuracy: 0.6388 - val_loss: 0.6814 - val_accuracy: 0.5850\n"
          ]
        },
        {
          "output_type": "stream",
          "name": "stderr",
          "text": [
            "\u001b[32m[I 2022-01-31 15:54:57,596]\u001b[0m Trial 4 finished with value: 0.550000011920929 and parameters: {'units': 64, 'activation': 'relu'}. Best is trial 1 with value: 0.6179999709129333.\u001b[0m\n"
          ]
        },
        {
          "output_type": "stream",
          "name": "stdout",
          "text": [
            "Epoch 1/10\n",
            "54/54 [==============================] - 3s 23ms/step - loss: 0.7594 - accuracy: 0.5368 - val_loss: 0.6818 - val_accuracy: 0.5833\n",
            "Epoch 2/10\n",
            "54/54 [==============================] - 1s 18ms/step - loss: 0.7268 - accuracy: 0.5429 - val_loss: 0.6809 - val_accuracy: 0.5933\n",
            "Epoch 3/10\n",
            "54/54 [==============================] - 1s 20ms/step - loss: 0.6957 - accuracy: 0.5715 - val_loss: 0.6765 - val_accuracy: 0.5817\n",
            "Epoch 4/10\n",
            "54/54 [==============================] - 1s 17ms/step - loss: 0.7036 - accuracy: 0.5688 - val_loss: 0.6807 - val_accuracy: 0.5750\n",
            "Epoch 5/10\n",
            "54/54 [==============================] - 1s 15ms/step - loss: 0.6952 - accuracy: 0.5579 - val_loss: 0.6865 - val_accuracy: 0.5517\n",
            "Epoch 6/10\n",
            "54/54 [==============================] - 1s 15ms/step - loss: 0.6843 - accuracy: 0.5756 - val_loss: 0.6705 - val_accuracy: 0.5900\n",
            "Epoch 7/10\n",
            "54/54 [==============================] - 1s 15ms/step - loss: 0.6767 - accuracy: 0.5841 - val_loss: 0.6712 - val_accuracy: 0.6033\n",
            "Epoch 8/10\n",
            "54/54 [==============================] - 1s 15ms/step - loss: 0.6786 - accuracy: 0.5756 - val_loss: 0.6757 - val_accuracy: 0.5917\n",
            "Epoch 9/10\n",
            "54/54 [==============================] - 1s 15ms/step - loss: 0.6660 - accuracy: 0.5997 - val_loss: 0.6675 - val_accuracy: 0.5733\n",
            "Epoch 10/10\n",
            "54/54 [==============================] - 1s 15ms/step - loss: 0.6686 - accuracy: 0.5935 - val_loss: 0.6651 - val_accuracy: 0.6050\n"
          ]
        },
        {
          "output_type": "stream",
          "name": "stderr",
          "text": [
            "\u001b[32m[I 2022-01-31 15:55:09,527]\u001b[0m Trial 5 finished with value: 0.5960000157356262 and parameters: {'units': 64, 'activation': 'linear'}. Best is trial 1 with value: 0.6179999709129333.\u001b[0m\n"
          ]
        },
        {
          "output_type": "stream",
          "name": "stdout",
          "text": [
            "Epoch 1/10\n",
            "54/54 [==============================] - 3s 21ms/step - loss: 0.7338 - accuracy: 0.5512 - val_loss: 0.6989 - val_accuracy: 0.4683\n",
            "Epoch 2/10\n",
            "54/54 [==============================] - 1s 15ms/step - loss: 0.7032 - accuracy: 0.5641 - val_loss: 0.6824 - val_accuracy: 0.5550\n",
            "Epoch 3/10\n",
            "54/54 [==============================] - 1s 15ms/step - loss: 0.6865 - accuracy: 0.5838 - val_loss: 0.6785 - val_accuracy: 0.5717\n",
            "Epoch 4/10\n",
            "54/54 [==============================] - 1s 15ms/step - loss: 0.6777 - accuracy: 0.5906 - val_loss: 0.6663 - val_accuracy: 0.5917\n",
            "Epoch 5/10\n",
            "54/54 [==============================] - 1s 15ms/step - loss: 0.6701 - accuracy: 0.6003 - val_loss: 0.6660 - val_accuracy: 0.5933\n",
            "Epoch 6/10\n",
            "54/54 [==============================] - 1s 15ms/step - loss: 0.6588 - accuracy: 0.6012 - val_loss: 0.6579 - val_accuracy: 0.5900\n",
            "Epoch 7/10\n",
            "54/54 [==============================] - 1s 15ms/step - loss: 0.6372 - accuracy: 0.6379 - val_loss: 0.6508 - val_accuracy: 0.6150\n",
            "Epoch 8/10\n",
            "54/54 [==============================] - 1s 15ms/step - loss: 0.6416 - accuracy: 0.6353 - val_loss: 0.6503 - val_accuracy: 0.6133\n",
            "Epoch 9/10\n",
            "54/54 [==============================] - 1s 15ms/step - loss: 0.6370 - accuracy: 0.6309 - val_loss: 0.6511 - val_accuracy: 0.5933\n",
            "Epoch 10/10\n",
            "54/54 [==============================] - 1s 15ms/step - loss: 0.6183 - accuracy: 0.6515 - val_loss: 0.6586 - val_accuracy: 0.6117\n"
          ]
        },
        {
          "output_type": "stream",
          "name": "stderr",
          "text": [
            "\u001b[32m[I 2022-01-31 15:55:21,689]\u001b[0m Trial 6 finished with value: 0.6159999966621399 and parameters: {'units': 64, 'activation': 'relu'}. Best is trial 1 with value: 0.6179999709129333.\u001b[0m\n"
          ]
        },
        {
          "output_type": "stream",
          "name": "stdout",
          "text": [
            "Epoch 1/10\n",
            "54/54 [==============================] - 3s 24ms/step - loss: 0.7727 - accuracy: 0.5238 - val_loss: 0.6791 - val_accuracy: 0.5667\n",
            "Epoch 2/10\n",
            "54/54 [==============================] - 1s 20ms/step - loss: 0.7232 - accuracy: 0.5394 - val_loss: 0.6876 - val_accuracy: 0.5517\n",
            "Epoch 3/10\n",
            "54/54 [==============================] - 1s 18ms/step - loss: 0.7160 - accuracy: 0.5565 - val_loss: 0.7023 - val_accuracy: 0.5617\n",
            "Epoch 4/10\n",
            "54/54 [==============================] - 1s 18ms/step - loss: 0.6997 - accuracy: 0.5547 - val_loss: 0.6636 - val_accuracy: 0.5833\n",
            "Epoch 5/10\n",
            "54/54 [==============================] - 1s 17ms/step - loss: 0.6968 - accuracy: 0.5597 - val_loss: 0.6750 - val_accuracy: 0.5783\n",
            "Epoch 6/10\n",
            "54/54 [==============================] - 1s 20ms/step - loss: 0.6850 - accuracy: 0.5688 - val_loss: 0.6789 - val_accuracy: 0.5817\n",
            "Epoch 7/10\n",
            "54/54 [==============================] - 1s 19ms/step - loss: 0.6703 - accuracy: 0.5791 - val_loss: 0.6669 - val_accuracy: 0.5700\n",
            "Epoch 8/10\n",
            "54/54 [==============================] - 1s 18ms/step - loss: 0.6779 - accuracy: 0.5721 - val_loss: 0.6966 - val_accuracy: 0.5583\n",
            "Epoch 9/10\n",
            "54/54 [==============================] - 1s 18ms/step - loss: 0.6595 - accuracy: 0.6079 - val_loss: 0.6842 - val_accuracy: 0.5567\n",
            "Epoch 10/10\n",
            "54/54 [==============================] - 1s 17ms/step - loss: 0.6491 - accuracy: 0.6165 - val_loss: 0.6671 - val_accuracy: 0.5800\n"
          ]
        },
        {
          "output_type": "stream",
          "name": "stderr",
          "text": [
            "\u001b[32m[I 2022-01-31 15:55:44,358]\u001b[0m Trial 7 finished with value: 0.6079999804496765 and parameters: {'units': 64, 'activation': 'linear'}. Best is trial 1 with value: 0.6179999709129333.\u001b[0m\n"
          ]
        },
        {
          "output_type": "stream",
          "name": "stdout",
          "text": [
            "Epoch 1/10\n",
            "54/54 [==============================] - 3s 21ms/step - loss: 0.7857 - accuracy: 0.5276 - val_loss: 0.6907 - val_accuracy: 0.5167\n",
            "Epoch 2/10\n",
            "54/54 [==============================] - 1s 15ms/step - loss: 0.7280 - accuracy: 0.5459 - val_loss: 0.6819 - val_accuracy: 0.5633\n",
            "Epoch 3/10\n",
            "54/54 [==============================] - 1s 15ms/step - loss: 0.7085 - accuracy: 0.5688 - val_loss: 0.6817 - val_accuracy: 0.5717\n",
            "Epoch 4/10\n",
            "54/54 [==============================] - 1s 15ms/step - loss: 0.6967 - accuracy: 0.5674 - val_loss: 0.6669 - val_accuracy: 0.5800\n",
            "Epoch 5/10\n",
            "54/54 [==============================] - 1s 15ms/step - loss: 0.6844 - accuracy: 0.5791 - val_loss: 0.6911 - val_accuracy: 0.5517\n",
            "Epoch 6/10\n",
            "54/54 [==============================] - 1s 15ms/step - loss: 0.6885 - accuracy: 0.5826 - val_loss: 0.6744 - val_accuracy: 0.5600\n",
            "Epoch 7/10\n",
            "54/54 [==============================] - 1s 15ms/step - loss: 0.6805 - accuracy: 0.5835 - val_loss: 0.6882 - val_accuracy: 0.5750\n",
            "Epoch 8/10\n",
            "54/54 [==============================] - 1s 15ms/step - loss: 0.6795 - accuracy: 0.5909 - val_loss: 0.6764 - val_accuracy: 0.5883\n",
            "Epoch 9/10\n",
            "54/54 [==============================] - 1s 15ms/step - loss: 0.6746 - accuracy: 0.5832 - val_loss: 0.6742 - val_accuracy: 0.5817\n",
            "Epoch 10/10\n",
            "54/54 [==============================] - 1s 15ms/step - loss: 0.6662 - accuracy: 0.6062 - val_loss: 0.6796 - val_accuracy: 0.5900\n"
          ]
        },
        {
          "output_type": "stream",
          "name": "stderr",
          "text": [
            "\u001b[32m[I 2022-01-31 15:55:54,787]\u001b[0m Trial 8 finished with value: 0.5920000076293945 and parameters: {'units': 64, 'activation': 'linear'}. Best is trial 1 with value: 0.6179999709129333.\u001b[0m\n"
          ]
        },
        {
          "output_type": "stream",
          "name": "stdout",
          "text": [
            "Epoch 1/10\n",
            "54/54 [==============================] - 3s 21ms/step - loss: 0.7247 - accuracy: 0.5368 - val_loss: 0.6789 - val_accuracy: 0.5683\n",
            "Epoch 2/10\n",
            "54/54 [==============================] - 1s 18ms/step - loss: 0.6902 - accuracy: 0.5635 - val_loss: 0.6830 - val_accuracy: 0.5467\n",
            "Epoch 3/10\n",
            "54/54 [==============================] - 1s 20ms/step - loss: 0.6760 - accuracy: 0.5856 - val_loss: 0.6761 - val_accuracy: 0.5617\n",
            "Epoch 4/10\n",
            "54/54 [==============================] - 1s 18ms/step - loss: 0.6652 - accuracy: 0.5997 - val_loss: 0.6664 - val_accuracy: 0.5933\n",
            "Epoch 5/10\n",
            "54/54 [==============================] - 1s 18ms/step - loss: 0.6516 - accuracy: 0.6150 - val_loss: 0.6719 - val_accuracy: 0.5867\n",
            "Epoch 6/10\n",
            "54/54 [==============================] - 1s 21ms/step - loss: 0.6435 - accuracy: 0.6276 - val_loss: 0.6590 - val_accuracy: 0.5933\n",
            "Epoch 7/10\n",
            "54/54 [==============================] - 1s 18ms/step - loss: 0.6397 - accuracy: 0.6297 - val_loss: 0.6456 - val_accuracy: 0.6267\n",
            "Epoch 8/10\n",
            "54/54 [==============================] - 1s 18ms/step - loss: 0.6375 - accuracy: 0.6385 - val_loss: 0.6792 - val_accuracy: 0.5800\n",
            "Epoch 9/10\n",
            "54/54 [==============================] - 1s 18ms/step - loss: 0.6256 - accuracy: 0.6421 - val_loss: 0.6759 - val_accuracy: 0.5967\n",
            "Epoch 10/10\n",
            "54/54 [==============================] - 1s 18ms/step - loss: 0.6240 - accuracy: 0.6447 - val_loss: 0.6657 - val_accuracy: 0.6267\n"
          ]
        },
        {
          "output_type": "stream",
          "name": "stderr",
          "text": [
            "\u001b[32m[I 2022-01-31 15:56:07,213]\u001b[0m Trial 9 finished with value: 0.5979999899864197 and parameters: {'units': 64, 'activation': 'tanh'}. Best is trial 1 with value: 0.6179999709129333.\u001b[0m\n"
          ]
        },
        {
          "output_type": "stream",
          "name": "stdout",
          "text": [
            "Number of finished trials: 10\n",
            "Best trial:\n",
            "  Value: 0.6179999709129333\n",
            "  Params: \n",
            "    units: 64\n",
            "    activation: tanh\n"
          ]
        }
      ],
      "source": [
        "def objective(trial):\n",
        "\n",
        "    model = CompactNet(trial)\n",
        "\n",
        "\n",
        "    model.fit(\n",
        "        X_train, Y_train,\n",
        "        validation_split=0.15,\n",
        "        shuffle=True,\n",
        "        batch_size=batch_size,\n",
        "        epochs=epochs,\n",
        "        verbose=1\n",
        "    )\n",
        "\n",
        "    # Evaluate the model accuracy on the Test set.\n",
        "    score = model.evaluate(X_test, Y_test, verbose=0)\n",
        "    return score[1]\n",
        "\n",
        "\n",
        "study = optuna.create_study(direction=\"maximize\", sampler=optuna.samplers.NSGAIISampler())\n",
        "\n",
        "study.optimize(objective, n_trials=n_trials)\n",
        "\n",
        "print(\"Number of finished trials: {}\".format(len(study.trials)))\n",
        "\n",
        "print(\"Best trial:\")\n",
        "trial = study.best_trial\n",
        "\n",
        "print(\"  Value: {}\".format(trial.value))\n",
        "\n",
        "print(\"  Params: \")\n",
        "for key, value in trial.params.items():\n",
        "    print(\"    {}: {}\".format(key, value))\n",
        "\n",
        "# print(\"Training model with best_params {}\".format(study.best_params))"
      ]
    },
    {
      "cell_type": "code",
      "execution_count": null,
      "metadata": {
        "colab": {
          "base_uri": "https://localhost:8080/",
          "height": 601
        },
        "outputId": "3d44c208-7b42-4af7-b95e-4716491c23e1",
        "id": "EHLq5SHiyzpg"
      },
      "outputs": [
        {
          "output_type": "execute_result",
          "data": {
            "text/html": [
              "\n",
              "  <div id=\"df-5e6dec4b-2201-40fb-b7a4-ef2658374c84\">\n",
              "    <div class=\"colab-df-container\">\n",
              "      <div>\n",
              "<style scoped>\n",
              "    .dataframe tbody tr th:only-of-type {\n",
              "        vertical-align: middle;\n",
              "    }\n",
              "\n",
              "    .dataframe tbody tr th {\n",
              "        vertical-align: top;\n",
              "    }\n",
              "\n",
              "    .dataframe thead th {\n",
              "        text-align: right;\n",
              "    }\n",
              "</style>\n",
              "<table border=\"1\" class=\"dataframe\">\n",
              "  <thead>\n",
              "    <tr style=\"text-align: right;\">\n",
              "      <th></th>\n",
              "      <th>number</th>\n",
              "      <th>value</th>\n",
              "      <th>datetime_start</th>\n",
              "      <th>datetime_complete</th>\n",
              "      <th>duration</th>\n",
              "      <th>params_activation</th>\n",
              "      <th>params_units</th>\n",
              "      <th>system_attrs_nsga2:generation</th>\n",
              "      <th>state</th>\n",
              "    </tr>\n",
              "  </thead>\n",
              "  <tbody>\n",
              "    <tr>\n",
              "      <th>0</th>\n",
              "      <td>0</td>\n",
              "      <td>0.578</td>\n",
              "      <td>2022-01-31 15:53:57.812575</td>\n",
              "      <td>2022-01-31 15:54:08.999073</td>\n",
              "      <td>0 days 00:00:11.186498</td>\n",
              "      <td>relu</td>\n",
              "      <td>64</td>\n",
              "      <td>0</td>\n",
              "      <td>COMPLETE</td>\n",
              "    </tr>\n",
              "    <tr>\n",
              "      <th>1</th>\n",
              "      <td>1</td>\n",
              "      <td>0.618</td>\n",
              "      <td>2022-01-31 15:54:09.000950</td>\n",
              "      <td>2022-01-31 15:54:21.645456</td>\n",
              "      <td>0 days 00:00:12.644506</td>\n",
              "      <td>tanh</td>\n",
              "      <td>64</td>\n",
              "      <td>0</td>\n",
              "      <td>COMPLETE</td>\n",
              "    </tr>\n",
              "    <tr>\n",
              "      <th>2</th>\n",
              "      <td>2</td>\n",
              "      <td>0.594</td>\n",
              "      <td>2022-01-31 15:54:21.647251</td>\n",
              "      <td>2022-01-31 15:54:34.348509</td>\n",
              "      <td>0 days 00:00:12.701258</td>\n",
              "      <td>relu</td>\n",
              "      <td>64</td>\n",
              "      <td>0</td>\n",
              "      <td>COMPLETE</td>\n",
              "    </tr>\n",
              "    <tr>\n",
              "      <th>3</th>\n",
              "      <td>3</td>\n",
              "      <td>0.596</td>\n",
              "      <td>2022-01-31 15:54:34.350645</td>\n",
              "      <td>2022-01-31 15:54:44.991525</td>\n",
              "      <td>0 days 00:00:10.640880</td>\n",
              "      <td>tanh</td>\n",
              "      <td>64</td>\n",
              "      <td>0</td>\n",
              "      <td>COMPLETE</td>\n",
              "    </tr>\n",
              "    <tr>\n",
              "      <th>4</th>\n",
              "      <td>4</td>\n",
              "      <td>0.550</td>\n",
              "      <td>2022-01-31 15:54:44.993730</td>\n",
              "      <td>2022-01-31 15:54:57.595559</td>\n",
              "      <td>0 days 00:00:12.601829</td>\n",
              "      <td>relu</td>\n",
              "      <td>64</td>\n",
              "      <td>0</td>\n",
              "      <td>COMPLETE</td>\n",
              "    </tr>\n",
              "    <tr>\n",
              "      <th>5</th>\n",
              "      <td>5</td>\n",
              "      <td>0.596</td>\n",
              "      <td>2022-01-31 15:54:57.598730</td>\n",
              "      <td>2022-01-31 15:55:09.526917</td>\n",
              "      <td>0 days 00:00:11.928187</td>\n",
              "      <td>linear</td>\n",
              "      <td>64</td>\n",
              "      <td>0</td>\n",
              "      <td>COMPLETE</td>\n",
              "    </tr>\n",
              "    <tr>\n",
              "      <th>6</th>\n",
              "      <td>6</td>\n",
              "      <td>0.616</td>\n",
              "      <td>2022-01-31 15:55:09.528674</td>\n",
              "      <td>2022-01-31 15:55:21.688604</td>\n",
              "      <td>0 days 00:00:12.159930</td>\n",
              "      <td>relu</td>\n",
              "      <td>64</td>\n",
              "      <td>0</td>\n",
              "      <td>COMPLETE</td>\n",
              "    </tr>\n",
              "    <tr>\n",
              "      <th>7</th>\n",
              "      <td>7</td>\n",
              "      <td>0.608</td>\n",
              "      <td>2022-01-31 15:55:21.690658</td>\n",
              "      <td>2022-01-31 15:55:44.357814</td>\n",
              "      <td>0 days 00:00:22.667156</td>\n",
              "      <td>linear</td>\n",
              "      <td>64</td>\n",
              "      <td>0</td>\n",
              "      <td>COMPLETE</td>\n",
              "    </tr>\n",
              "    <tr>\n",
              "      <th>8</th>\n",
              "      <td>8</td>\n",
              "      <td>0.592</td>\n",
              "      <td>2022-01-31 15:55:44.359911</td>\n",
              "      <td>2022-01-31 15:55:54.786730</td>\n",
              "      <td>0 days 00:00:10.426819</td>\n",
              "      <td>linear</td>\n",
              "      <td>64</td>\n",
              "      <td>0</td>\n",
              "      <td>COMPLETE</td>\n",
              "    </tr>\n",
              "    <tr>\n",
              "      <th>9</th>\n",
              "      <td>9</td>\n",
              "      <td>0.598</td>\n",
              "      <td>2022-01-31 15:55:54.788745</td>\n",
              "      <td>2022-01-31 15:56:07.212788</td>\n",
              "      <td>0 days 00:00:12.424043</td>\n",
              "      <td>tanh</td>\n",
              "      <td>64</td>\n",
              "      <td>0</td>\n",
              "      <td>COMPLETE</td>\n",
              "    </tr>\n",
              "  </tbody>\n",
              "</table>\n",
              "</div>\n",
              "      <button class=\"colab-df-convert\" onclick=\"convertToInteractive('df-5e6dec4b-2201-40fb-b7a4-ef2658374c84')\"\n",
              "              title=\"Convert this dataframe to an interactive table.\"\n",
              "              style=\"display:none;\">\n",
              "        \n",
              "  <svg xmlns=\"http://www.w3.org/2000/svg\" height=\"24px\"viewBox=\"0 0 24 24\"\n",
              "       width=\"24px\">\n",
              "    <path d=\"M0 0h24v24H0V0z\" fill=\"none\"/>\n",
              "    <path d=\"M18.56 5.44l.94 2.06.94-2.06 2.06-.94-2.06-.94-.94-2.06-.94 2.06-2.06.94zm-11 1L8.5 8.5l.94-2.06 2.06-.94-2.06-.94L8.5 2.5l-.94 2.06-2.06.94zm10 10l.94 2.06.94-2.06 2.06-.94-2.06-.94-.94-2.06-.94 2.06-2.06.94z\"/><path d=\"M17.41 7.96l-1.37-1.37c-.4-.4-.92-.59-1.43-.59-.52 0-1.04.2-1.43.59L10.3 9.45l-7.72 7.72c-.78.78-.78 2.05 0 2.83L4 21.41c.39.39.9.59 1.41.59.51 0 1.02-.2 1.41-.59l7.78-7.78 2.81-2.81c.8-.78.8-2.07 0-2.86zM5.41 20L4 18.59l7.72-7.72 1.47 1.35L5.41 20z\"/>\n",
              "  </svg>\n",
              "      </button>\n",
              "      \n",
              "  <style>\n",
              "    .colab-df-container {\n",
              "      display:flex;\n",
              "      flex-wrap:wrap;\n",
              "      gap: 12px;\n",
              "    }\n",
              "\n",
              "    .colab-df-convert {\n",
              "      background-color: #E8F0FE;\n",
              "      border: none;\n",
              "      border-radius: 50%;\n",
              "      cursor: pointer;\n",
              "      display: none;\n",
              "      fill: #1967D2;\n",
              "      height: 32px;\n",
              "      padding: 0 0 0 0;\n",
              "      width: 32px;\n",
              "    }\n",
              "\n",
              "    .colab-df-convert:hover {\n",
              "      background-color: #E2EBFA;\n",
              "      box-shadow: 0px 1px 2px rgba(60, 64, 67, 0.3), 0px 1px 3px 1px rgba(60, 64, 67, 0.15);\n",
              "      fill: #174EA6;\n",
              "    }\n",
              "\n",
              "    [theme=dark] .colab-df-convert {\n",
              "      background-color: #3B4455;\n",
              "      fill: #D2E3FC;\n",
              "    }\n",
              "\n",
              "    [theme=dark] .colab-df-convert:hover {\n",
              "      background-color: #434B5C;\n",
              "      box-shadow: 0px 1px 3px 1px rgba(0, 0, 0, 0.15);\n",
              "      filter: drop-shadow(0px 1px 2px rgba(0, 0, 0, 0.3));\n",
              "      fill: #FFFFFF;\n",
              "    }\n",
              "  </style>\n",
              "\n",
              "      <script>\n",
              "        const buttonEl =\n",
              "          document.querySelector('#df-5e6dec4b-2201-40fb-b7a4-ef2658374c84 button.colab-df-convert');\n",
              "        buttonEl.style.display =\n",
              "          google.colab.kernel.accessAllowed ? 'block' : 'none';\n",
              "\n",
              "        async function convertToInteractive(key) {\n",
              "          const element = document.querySelector('#df-5e6dec4b-2201-40fb-b7a4-ef2658374c84');\n",
              "          const dataTable =\n",
              "            await google.colab.kernel.invokeFunction('convertToInteractive',\n",
              "                                                     [key], {});\n",
              "          if (!dataTable) return;\n",
              "\n",
              "          const docLinkHtml = 'Like what you see? Visit the ' +\n",
              "            '<a target=\"_blank\" href=https://colab.research.google.com/notebooks/data_table.ipynb>data table notebook</a>'\n",
              "            + ' to learn more about interactive tables.';\n",
              "          element.innerHTML = '';\n",
              "          dataTable['output_type'] = 'display_data';\n",
              "          await google.colab.output.renderOutput(dataTable, element);\n",
              "          const docLink = document.createElement('div');\n",
              "          docLink.innerHTML = docLinkHtml;\n",
              "          element.appendChild(docLink);\n",
              "        }\n",
              "      </script>\n",
              "    </div>\n",
              "  </div>\n",
              "  "
            ],
            "text/plain": [
              "   number  value  ... system_attrs_nsga2:generation     state\n",
              "0       0  0.578  ...                             0  COMPLETE\n",
              "1       1  0.618  ...                             0  COMPLETE\n",
              "2       2  0.594  ...                             0  COMPLETE\n",
              "3       3  0.596  ...                             0  COMPLETE\n",
              "4       4  0.550  ...                             0  COMPLETE\n",
              "5       5  0.596  ...                             0  COMPLETE\n",
              "6       6  0.616  ...                             0  COMPLETE\n",
              "7       7  0.608  ...                             0  COMPLETE\n",
              "8       8  0.592  ...                             0  COMPLETE\n",
              "9       9  0.598  ...                             0  COMPLETE\n",
              "\n",
              "[10 rows x 9 columns]"
            ]
          },
          "metadata": {},
          "execution_count": 62
        }
      ],
      "source": [
        "trials_df = study.trials_dataframe()\n",
        "trials_df.to_csv('trials_history.csv')\n",
        "trials_df"
      ]
    },
    {
      "cell_type": "markdown",
      "source": [
        "###5th Layer (i.e. Dense2) HPO"
      ],
      "metadata": {
        "id": "BfMMlhcm0L6L"
      }
    },
    {
      "cell_type": "code",
      "execution_count": null,
      "metadata": {
        "id": "Vpz9x2yr0L6N"
      },
      "outputs": [],
      "source": [
        "def CompactNet(trial):\n",
        "    \n",
        "    X_input = Input(shape = (window_size, channel_len))\n",
        "\n",
        "    x = Conv1D(32, kernel_size = 2, strides = 1, padding = 'same', activation='relu', name='C1')(X_input)\n",
        "\n",
        "    x = AveragePooling1D(\n",
        "        pool_size=2,\n",
        "        name='AP1')(x)\n",
        "\n",
        "    x = BatchNormalization(name='BN1')(x)\n",
        "\n",
        "\n",
        "    x = Conv1D(128, kernel_size = 5, strides = 1, padding = 'same', activation='relu', name='C3')(x)\n",
        "\n",
        "    x = AveragePooling1D(pool_size=2, name='AP2')(x)\n",
        "\n",
        "    x = BatchNormalization(name='BN2')(x)\n",
        "\n",
        "    x = Conv1D(192, kernel_size = 3, strides = 2, padding = 'same', activation='relu', name='C7')(x)\n",
        "\n",
        "    x = GlobalAveragePooling1D(name='GAP')(x)\n",
        "\n",
        "    x = BatchNormalization(name='BN4')(x)\n",
        "\n",
        "    x = Dropout(0.2)(x)\n",
        "\n",
        "\n",
        "    x = Dense(64)(x)\n",
        "    x = Activation('tanh')(x)\n",
        "\n",
        "\n",
        "    x = Dense(\n",
        "        units=trial.suggest_int('units', 8, 16, 32),\n",
        "        activation=trial.suggest_categorical('activation', ['relu', 'linear', 'tanh'])\n",
        "        )(x)\n",
        "\n",
        "    x = Dropout(0.1)(x)\n",
        "\n",
        "    x = Dense(classes)(x)\n",
        "    output = Activation('softmax')(x)\n",
        "\n",
        "    model=Model(inputs=X_input, outputs=output, name='CompactNet')\n",
        "\n",
        "    model.compile(loss='categorical_crossentropy',\n",
        "              optimizer=Adam(learning_rate=0.001, decay=1e-5),\n",
        "              metrics=['accuracy'])\n",
        "\n",
        "    return model"
      ]
    },
    {
      "cell_type": "code",
      "execution_count": null,
      "metadata": {
        "colab": {
          "base_uri": "https://localhost:8080/"
        },
        "outputId": "85ef14be-4dc2-4ae0-b947-6697dc06c8ce",
        "id": "XCE7aX600L6Q"
      },
      "outputs": [
        {
          "output_type": "stream",
          "name": "stderr",
          "text": [
            "\u001b[32m[I 2022-01-31 15:50:04,337]\u001b[0m A new study created in memory with name: no-name-97796480-2aee-4f44-91dd-c32f977fec1a\u001b[0m\n"
          ]
        },
        {
          "output_type": "stream",
          "name": "stdout",
          "text": [
            "Epoch 1/10\n",
            "54/54 [==============================] - 3s 21ms/step - loss: 0.8869 - accuracy: 0.5365 - val_loss: 0.6901 - val_accuracy: 0.5250\n",
            "Epoch 2/10\n",
            "54/54 [==============================] - 1s 15ms/step - loss: 0.7169 - accuracy: 0.5750 - val_loss: 0.6877 - val_accuracy: 0.5433\n",
            "Epoch 3/10\n",
            "54/54 [==============================] - 1s 16ms/step - loss: 0.7039 - accuracy: 0.5753 - val_loss: 0.6852 - val_accuracy: 0.5383\n",
            "Epoch 4/10\n",
            "54/54 [==============================] - 1s 15ms/step - loss: 0.6834 - accuracy: 0.5968 - val_loss: 0.6741 - val_accuracy: 0.5717\n",
            "Epoch 5/10\n",
            "54/54 [==============================] - 1s 15ms/step - loss: 0.6735 - accuracy: 0.6085 - val_loss: 0.6657 - val_accuracy: 0.5850\n",
            "Epoch 6/10\n",
            "54/54 [==============================] - 1s 16ms/step - loss: 0.6620 - accuracy: 0.6147 - val_loss: 0.6661 - val_accuracy: 0.6033\n",
            "Epoch 7/10\n",
            "54/54 [==============================] - 1s 18ms/step - loss: 0.6515 - accuracy: 0.6276 - val_loss: 0.6611 - val_accuracy: 0.6217\n",
            "Epoch 8/10\n",
            "54/54 [==============================] - 1s 17ms/step - loss: 0.6370 - accuracy: 0.6488 - val_loss: 0.6511 - val_accuracy: 0.6067\n",
            "Epoch 9/10\n",
            "54/54 [==============================] - 1s 17ms/step - loss: 0.6293 - accuracy: 0.6526 - val_loss: 0.6481 - val_accuracy: 0.6217\n",
            "Epoch 10/10\n",
            "54/54 [==============================] - 1s 18ms/step - loss: 0.6226 - accuracy: 0.6468 - val_loss: 0.6657 - val_accuracy: 0.6083\n"
          ]
        },
        {
          "output_type": "stream",
          "name": "stderr",
          "text": [
            "\u001b[32m[I 2022-01-31 15:50:16,651]\u001b[0m Trial 0 finished with value: 0.5879999995231628 and parameters: {'units': 8, 'activation': 'linear'}. Best is trial 0 with value: 0.5879999995231628.\u001b[0m\n"
          ]
        },
        {
          "output_type": "stream",
          "name": "stdout",
          "text": [
            "Epoch 1/10\n",
            "54/54 [==============================] - 3s 24ms/step - loss: 0.8440 - accuracy: 0.5426 - val_loss: 0.6994 - val_accuracy: 0.4817\n",
            "Epoch 2/10\n",
            "54/54 [==============================] - 1s 17ms/step - loss: 0.7210 - accuracy: 0.5706 - val_loss: 0.6814 - val_accuracy: 0.5633\n",
            "Epoch 3/10\n",
            "54/54 [==============================] - 1s 17ms/step - loss: 0.7018 - accuracy: 0.5794 - val_loss: 0.6786 - val_accuracy: 0.5333\n",
            "Epoch 4/10\n",
            "54/54 [==============================] - 1s 17ms/step - loss: 0.6753 - accuracy: 0.6029 - val_loss: 0.6663 - val_accuracy: 0.6017\n",
            "Epoch 5/10\n",
            "54/54 [==============================] - 1s 17ms/step - loss: 0.6547 - accuracy: 0.6124 - val_loss: 0.6583 - val_accuracy: 0.6217\n",
            "Epoch 6/10\n",
            "54/54 [==============================] - 1s 18ms/step - loss: 0.6516 - accuracy: 0.6309 - val_loss: 0.6591 - val_accuracy: 0.6167\n",
            "Epoch 7/10\n",
            "54/54 [==============================] - 1s 16ms/step - loss: 0.6437 - accuracy: 0.6415 - val_loss: 0.6752 - val_accuracy: 0.5917\n",
            "Epoch 8/10\n",
            "54/54 [==============================] - 1s 15ms/step - loss: 0.6296 - accuracy: 0.6497 - val_loss: 0.6506 - val_accuracy: 0.5950\n",
            "Epoch 9/10\n",
            "54/54 [==============================] - 1s 15ms/step - loss: 0.6295 - accuracy: 0.6468 - val_loss: 0.6655 - val_accuracy: 0.6050\n",
            "Epoch 10/10\n",
            "54/54 [==============================] - 1s 15ms/step - loss: 0.6184 - accuracy: 0.6506 - val_loss: 0.6347 - val_accuracy: 0.6317\n"
          ]
        },
        {
          "output_type": "stream",
          "name": "stderr",
          "text": [
            "\u001b[32m[I 2022-01-31 15:50:27,973]\u001b[0m Trial 1 finished with value: 0.6140000224113464 and parameters: {'units': 8, 'activation': 'linear'}. Best is trial 1 with value: 0.6140000224113464.\u001b[0m\n"
          ]
        },
        {
          "output_type": "stream",
          "name": "stdout",
          "text": [
            "Epoch 1/10\n",
            "54/54 [==============================] - 3s 20ms/step - loss: 0.7714 - accuracy: 0.5321 - val_loss: 0.6848 - val_accuracy: 0.5667\n",
            "Epoch 2/10\n",
            "54/54 [==============================] - 1s 15ms/step - loss: 0.7171 - accuracy: 0.5700 - val_loss: 0.6822 - val_accuracy: 0.5617\n",
            "Epoch 3/10\n",
            "54/54 [==============================] - 1s 15ms/step - loss: 0.7062 - accuracy: 0.5685 - val_loss: 0.6715 - val_accuracy: 0.6067\n",
            "Epoch 4/10\n",
            "54/54 [==============================] - 1s 15ms/step - loss: 0.6799 - accuracy: 0.5900 - val_loss: 0.6737 - val_accuracy: 0.5883\n",
            "Epoch 5/10\n",
            "54/54 [==============================] - 1s 15ms/step - loss: 0.6728 - accuracy: 0.6047 - val_loss: 0.6707 - val_accuracy: 0.5800\n",
            "Epoch 6/10\n",
            "54/54 [==============================] - 1s 15ms/step - loss: 0.6763 - accuracy: 0.6065 - val_loss: 0.6711 - val_accuracy: 0.5733\n",
            "Epoch 7/10\n",
            "54/54 [==============================] - 1s 15ms/step - loss: 0.6674 - accuracy: 0.6197 - val_loss: 0.6543 - val_accuracy: 0.6150\n",
            "Epoch 8/10\n",
            "54/54 [==============================] - 1s 15ms/step - loss: 0.6657 - accuracy: 0.6132 - val_loss: 0.6496 - val_accuracy: 0.5867\n",
            "Epoch 9/10\n",
            "54/54 [==============================] - 1s 15ms/step - loss: 0.6421 - accuracy: 0.6256 - val_loss: 0.6625 - val_accuracy: 0.6233\n",
            "Epoch 10/10\n",
            "54/54 [==============================] - 1s 15ms/step - loss: 0.6312 - accuracy: 0.6338 - val_loss: 0.6847 - val_accuracy: 0.5750\n"
          ]
        },
        {
          "output_type": "stream",
          "name": "stderr",
          "text": [
            "\u001b[32m[I 2022-01-31 15:50:40,222]\u001b[0m Trial 2 finished with value: 0.5839999914169312 and parameters: {'units': 8, 'activation': 'tanh'}. Best is trial 1 with value: 0.6140000224113464.\u001b[0m\n"
          ]
        },
        {
          "output_type": "stream",
          "name": "stdout",
          "text": [
            "Epoch 1/10\n",
            "54/54 [==============================] - 3s 29ms/step - loss: 0.8408 - accuracy: 0.5494 - val_loss: 0.6868 - val_accuracy: 0.5883\n",
            "Epoch 2/10\n",
            "54/54 [==============================] - 1s 15ms/step - loss: 0.7210 - accuracy: 0.5747 - val_loss: 0.6839 - val_accuracy: 0.5867\n",
            "Epoch 3/10\n",
            "54/54 [==============================] - 1s 15ms/step - loss: 0.6909 - accuracy: 0.5838 - val_loss: 0.6772 - val_accuracy: 0.5833\n",
            "Epoch 4/10\n",
            "54/54 [==============================] - 1s 15ms/step - loss: 0.6768 - accuracy: 0.6109 - val_loss: 0.6703 - val_accuracy: 0.5983\n",
            "Epoch 5/10\n",
            "54/54 [==============================] - 1s 15ms/step - loss: 0.6560 - accuracy: 0.6232 - val_loss: 0.6648 - val_accuracy: 0.5917\n",
            "Epoch 6/10\n",
            "54/54 [==============================] - 1s 17ms/step - loss: 0.6464 - accuracy: 0.6335 - val_loss: 0.6595 - val_accuracy: 0.6067\n",
            "Epoch 7/10\n",
            "54/54 [==============================] - 1s 19ms/step - loss: 0.6455 - accuracy: 0.6353 - val_loss: 0.6567 - val_accuracy: 0.6067\n",
            "Epoch 8/10\n",
            "54/54 [==============================] - 1s 17ms/step - loss: 0.6366 - accuracy: 0.6324 - val_loss: 0.6545 - val_accuracy: 0.6133\n",
            "Epoch 9/10\n",
            "54/54 [==============================] - 1s 18ms/step - loss: 0.6263 - accuracy: 0.6482 - val_loss: 0.6689 - val_accuracy: 0.6133\n",
            "Epoch 10/10\n",
            "54/54 [==============================] - 1s 18ms/step - loss: 0.6098 - accuracy: 0.6726 - val_loss: 0.6541 - val_accuracy: 0.6167\n"
          ]
        },
        {
          "output_type": "stream",
          "name": "stderr",
          "text": [
            "\u001b[32m[I 2022-01-31 15:50:51,946]\u001b[0m Trial 3 finished with value: 0.6000000238418579 and parameters: {'units': 8, 'activation': 'linear'}. Best is trial 1 with value: 0.6140000224113464.\u001b[0m\n"
          ]
        },
        {
          "output_type": "stream",
          "name": "stdout",
          "text": [
            "Epoch 1/10\n",
            "54/54 [==============================] - 3s 25ms/step - loss: 0.7783 - accuracy: 0.5553 - val_loss: 0.6849 - val_accuracy: 0.5567\n",
            "Epoch 2/10\n",
            "54/54 [==============================] - 1s 18ms/step - loss: 0.7321 - accuracy: 0.5653 - val_loss: 0.6759 - val_accuracy: 0.5917\n",
            "Epoch 3/10\n",
            "54/54 [==============================] - 1s 18ms/step - loss: 0.7112 - accuracy: 0.5668 - val_loss: 0.6766 - val_accuracy: 0.5783\n",
            "Epoch 4/10\n",
            "54/54 [==============================] - 1s 17ms/step - loss: 0.6903 - accuracy: 0.5935 - val_loss: 0.6599 - val_accuracy: 0.5850\n",
            "Epoch 5/10\n",
            "54/54 [==============================] - 1s 17ms/step - loss: 0.6823 - accuracy: 0.5965 - val_loss: 0.6701 - val_accuracy: 0.5967\n",
            "Epoch 6/10\n",
            "54/54 [==============================] - 1s 17ms/step - loss: 0.6765 - accuracy: 0.5991 - val_loss: 0.6705 - val_accuracy: 0.5950\n",
            "Epoch 7/10\n",
            "54/54 [==============================] - 1s 17ms/step - loss: 0.6699 - accuracy: 0.6050 - val_loss: 0.6599 - val_accuracy: 0.6167\n",
            "Epoch 8/10\n",
            "54/54 [==============================] - 1s 15ms/step - loss: 0.6528 - accuracy: 0.6259 - val_loss: 0.6826 - val_accuracy: 0.5633\n",
            "Epoch 9/10\n",
            "54/54 [==============================] - 1s 15ms/step - loss: 0.6463 - accuracy: 0.6256 - val_loss: 0.6721 - val_accuracy: 0.5800\n",
            "Epoch 10/10\n",
            "54/54 [==============================] - 1s 15ms/step - loss: 0.6323 - accuracy: 0.6403 - val_loss: 0.6674 - val_accuracy: 0.5767\n"
          ]
        },
        {
          "output_type": "stream",
          "name": "stderr",
          "text": [
            "\u001b[32m[I 2022-01-31 15:51:03,621]\u001b[0m Trial 4 finished with value: 0.6159999966621399 and parameters: {'units': 8, 'activation': 'tanh'}. Best is trial 4 with value: 0.6159999966621399.\u001b[0m\n"
          ]
        },
        {
          "output_type": "stream",
          "name": "stdout",
          "text": [
            "Epoch 1/10\n",
            "54/54 [==============================] - 3s 20ms/step - loss: 0.7527 - accuracy: 0.5371 - val_loss: 0.6892 - val_accuracy: 0.5550\n",
            "Epoch 2/10\n",
            "54/54 [==============================] - 1s 15ms/step - loss: 0.7079 - accuracy: 0.5591 - val_loss: 0.6838 - val_accuracy: 0.5650\n",
            "Epoch 3/10\n",
            "54/54 [==============================] - 1s 15ms/step - loss: 0.6942 - accuracy: 0.5756 - val_loss: 0.6808 - val_accuracy: 0.5733\n",
            "Epoch 4/10\n",
            "54/54 [==============================] - 1s 15ms/step - loss: 0.6966 - accuracy: 0.5791 - val_loss: 0.6696 - val_accuracy: 0.6033\n",
            "Epoch 5/10\n",
            "54/54 [==============================] - 1s 15ms/step - loss: 0.6688 - accuracy: 0.5962 - val_loss: 0.6737 - val_accuracy: 0.5617\n",
            "Epoch 6/10\n",
            "54/54 [==============================] - 1s 15ms/step - loss: 0.6614 - accuracy: 0.6118 - val_loss: 0.6919 - val_accuracy: 0.5450\n",
            "Epoch 7/10\n",
            "54/54 [==============================] - 1s 15ms/step - loss: 0.6660 - accuracy: 0.6029 - val_loss: 0.6624 - val_accuracy: 0.5983\n",
            "Epoch 8/10\n",
            "54/54 [==============================] - 1s 14ms/step - loss: 0.6616 - accuracy: 0.6153 - val_loss: 0.6709 - val_accuracy: 0.5933\n",
            "Epoch 9/10\n",
            "54/54 [==============================] - 1s 15ms/step - loss: 0.6499 - accuracy: 0.6212 - val_loss: 0.6809 - val_accuracy: 0.5700\n",
            "Epoch 10/10\n",
            "54/54 [==============================] - 1s 15ms/step - loss: 0.6341 - accuracy: 0.6353 - val_loss: 0.6648 - val_accuracy: 0.5950\n"
          ]
        },
        {
          "output_type": "stream",
          "name": "stderr",
          "text": [
            "\u001b[32m[I 2022-01-31 15:51:13,951]\u001b[0m Trial 5 finished with value: 0.5879999995231628 and parameters: {'units': 8, 'activation': 'tanh'}. Best is trial 4 with value: 0.6159999966621399.\u001b[0m\n"
          ]
        },
        {
          "output_type": "stream",
          "name": "stdout",
          "text": [
            "Epoch 1/10\n",
            "54/54 [==============================] - 3s 20ms/step - loss: 0.7714 - accuracy: 0.5259 - val_loss: 0.6862 - val_accuracy: 0.5467\n",
            "Epoch 2/10\n",
            "54/54 [==============================] - 1s 15ms/step - loss: 0.7094 - accuracy: 0.5562 - val_loss: 0.6844 - val_accuracy: 0.5650\n",
            "Epoch 3/10\n",
            "54/54 [==============================] - 1s 15ms/step - loss: 0.6917 - accuracy: 0.5771 - val_loss: 0.6726 - val_accuracy: 0.5850\n",
            "Epoch 4/10\n",
            "54/54 [==============================] - 1s 15ms/step - loss: 0.6945 - accuracy: 0.5718 - val_loss: 0.6590 - val_accuracy: 0.6283\n",
            "Epoch 5/10\n",
            "54/54 [==============================] - 1s 15ms/step - loss: 0.6807 - accuracy: 0.5853 - val_loss: 0.6512 - val_accuracy: 0.6217\n",
            "Epoch 6/10\n",
            "54/54 [==============================] - 1s 15ms/step - loss: 0.6666 - accuracy: 0.6021 - val_loss: 0.6473 - val_accuracy: 0.6167\n",
            "Epoch 7/10\n",
            "54/54 [==============================] - 1s 15ms/step - loss: 0.6681 - accuracy: 0.5979 - val_loss: 0.6568 - val_accuracy: 0.5817\n",
            "Epoch 8/10\n",
            "54/54 [==============================] - 1s 20ms/step - loss: 0.6604 - accuracy: 0.6129 - val_loss: 0.6489 - val_accuracy: 0.6117\n",
            "Epoch 9/10\n",
            "54/54 [==============================] - 1s 18ms/step - loss: 0.6389 - accuracy: 0.6303 - val_loss: 0.6613 - val_accuracy: 0.6117\n",
            "Epoch 10/10\n",
            "54/54 [==============================] - 1s 17ms/step - loss: 0.6277 - accuracy: 0.6500 - val_loss: 0.6327 - val_accuracy: 0.6467\n"
          ]
        },
        {
          "output_type": "stream",
          "name": "stderr",
          "text": [
            "\u001b[32m[I 2022-01-31 15:51:25,028]\u001b[0m Trial 6 finished with value: 0.5799999833106995 and parameters: {'units': 8, 'activation': 'tanh'}. Best is trial 4 with value: 0.6159999966621399.\u001b[0m\n"
          ]
        },
        {
          "output_type": "stream",
          "name": "stdout",
          "text": [
            "Epoch 1/10\n",
            "54/54 [==============================] - 3s 23ms/step - loss: 0.9207 - accuracy: 0.5385 - val_loss: 0.6909 - val_accuracy: 0.5500\n",
            "Epoch 2/10\n",
            "54/54 [==============================] - 1s 19ms/step - loss: 0.7697 - accuracy: 0.5656 - val_loss: 0.7001 - val_accuracy: 0.4667\n",
            "Epoch 3/10\n",
            "54/54 [==============================] - 1s 19ms/step - loss: 0.7193 - accuracy: 0.5882 - val_loss: 0.6967 - val_accuracy: 0.5067\n",
            "Epoch 4/10\n",
            "54/54 [==============================] - 1s 17ms/step - loss: 0.7005 - accuracy: 0.5815 - val_loss: 0.6785 - val_accuracy: 0.5917\n",
            "Epoch 5/10\n",
            "54/54 [==============================] - 1s 17ms/step - loss: 0.6778 - accuracy: 0.6118 - val_loss: 0.6634 - val_accuracy: 0.5883\n",
            "Epoch 6/10\n",
            "54/54 [==============================] - 1s 17ms/step - loss: 0.6764 - accuracy: 0.5991 - val_loss: 0.6661 - val_accuracy: 0.6000\n",
            "Epoch 7/10\n",
            "54/54 [==============================] - 1s 18ms/step - loss: 0.6607 - accuracy: 0.6221 - val_loss: 0.6609 - val_accuracy: 0.6200\n",
            "Epoch 8/10\n",
            "54/54 [==============================] - 1s 17ms/step - loss: 0.6576 - accuracy: 0.6229 - val_loss: 0.6587 - val_accuracy: 0.5983\n",
            "Epoch 9/10\n",
            "54/54 [==============================] - 1s 17ms/step - loss: 0.6404 - accuracy: 0.6397 - val_loss: 0.7040 - val_accuracy: 0.5450\n",
            "Epoch 10/10\n",
            "54/54 [==============================] - 1s 15ms/step - loss: 0.6409 - accuracy: 0.6379 - val_loss: 0.6827 - val_accuracy: 0.5650\n"
          ]
        },
        {
          "output_type": "stream",
          "name": "stderr",
          "text": [
            "\u001b[32m[I 2022-01-31 15:51:37,469]\u001b[0m Trial 7 finished with value: 0.5479999780654907 and parameters: {'units': 8, 'activation': 'linear'}. Best is trial 4 with value: 0.6159999966621399.\u001b[0m\n"
          ]
        },
        {
          "output_type": "stream",
          "name": "stdout",
          "text": [
            "Epoch 1/10\n",
            "54/54 [==============================] - 3s 21ms/step - loss: 0.7820 - accuracy: 0.5291 - val_loss: 0.6916 - val_accuracy: 0.5600\n",
            "Epoch 2/10\n",
            "54/54 [==============================] - 1s 15ms/step - loss: 0.6923 - accuracy: 0.5612 - val_loss: 0.6891 - val_accuracy: 0.5600\n",
            "Epoch 3/10\n",
            "54/54 [==============================] - 1s 15ms/step - loss: 0.6818 - accuracy: 0.5809 - val_loss: 0.6867 - val_accuracy: 0.5650\n",
            "Epoch 4/10\n",
            "54/54 [==============================] - 1s 15ms/step - loss: 0.6767 - accuracy: 0.5818 - val_loss: 0.6830 - val_accuracy: 0.5850\n",
            "Epoch 5/10\n",
            "54/54 [==============================] - 1s 15ms/step - loss: 0.6689 - accuracy: 0.5803 - val_loss: 0.6764 - val_accuracy: 0.5950\n",
            "Epoch 6/10\n",
            "54/54 [==============================] - 1s 15ms/step - loss: 0.6602 - accuracy: 0.5853 - val_loss: 0.6681 - val_accuracy: 0.5983\n",
            "Epoch 7/10\n",
            "54/54 [==============================] - 1s 15ms/step - loss: 0.6642 - accuracy: 0.5806 - val_loss: 0.6711 - val_accuracy: 0.5850\n",
            "Epoch 8/10\n",
            "54/54 [==============================] - 1s 15ms/step - loss: 0.6565 - accuracy: 0.5991 - val_loss: 0.6670 - val_accuracy: 0.5850\n",
            "Epoch 9/10\n",
            "54/54 [==============================] - 1s 15ms/step - loss: 0.6505 - accuracy: 0.6009 - val_loss: 0.6703 - val_accuracy: 0.5850\n",
            "Epoch 10/10\n",
            "54/54 [==============================] - 1s 15ms/step - loss: 0.6498 - accuracy: 0.6100 - val_loss: 0.6810 - val_accuracy: 0.5800\n"
          ]
        },
        {
          "output_type": "stream",
          "name": "stderr",
          "text": [
            "\u001b[32m[I 2022-01-31 15:51:47,901]\u001b[0m Trial 8 finished with value: 0.5640000104904175 and parameters: {'units': 8, 'activation': 'relu'}. Best is trial 4 with value: 0.6159999966621399.\u001b[0m\n"
          ]
        },
        {
          "output_type": "stream",
          "name": "stdout",
          "text": [
            "Epoch 1/10\n",
            "54/54 [==============================] - 3s 21ms/step - loss: 0.7411 - accuracy: 0.5247 - val_loss: 0.6852 - val_accuracy: 0.5683\n",
            "Epoch 2/10\n",
            "54/54 [==============================] - 1s 15ms/step - loss: 0.6928 - accuracy: 0.5644 - val_loss: 0.6751 - val_accuracy: 0.5667\n",
            "Epoch 3/10\n",
            "54/54 [==============================] - 1s 15ms/step - loss: 0.6820 - accuracy: 0.5662 - val_loss: 0.6924 - val_accuracy: 0.5783\n",
            "Epoch 4/10\n",
            "54/54 [==============================] - 1s 15ms/step - loss: 0.6808 - accuracy: 0.5847 - val_loss: 0.6818 - val_accuracy: 0.5683\n",
            "Epoch 5/10\n",
            "54/54 [==============================] - 1s 15ms/step - loss: 0.6620 - accuracy: 0.5947 - val_loss: 0.6626 - val_accuracy: 0.5917\n",
            "Epoch 6/10\n",
            "54/54 [==============================] - 1s 15ms/step - loss: 0.6541 - accuracy: 0.6118 - val_loss: 0.6553 - val_accuracy: 0.6183\n",
            "Epoch 7/10\n",
            "54/54 [==============================] - 1s 15ms/step - loss: 0.6507 - accuracy: 0.6238 - val_loss: 0.6607 - val_accuracy: 0.6100\n",
            "Epoch 8/10\n",
            "54/54 [==============================] - 1s 17ms/step - loss: 0.6412 - accuracy: 0.6326 - val_loss: 0.6965 - val_accuracy: 0.5633\n",
            "Epoch 9/10\n",
            "54/54 [==============================] - 1s 17ms/step - loss: 0.6325 - accuracy: 0.6441 - val_loss: 0.6491 - val_accuracy: 0.6250\n",
            "Epoch 10/10\n",
            "54/54 [==============================] - 1s 18ms/step - loss: 0.6372 - accuracy: 0.6350 - val_loss: 0.6645 - val_accuracy: 0.5967\n"
          ]
        },
        {
          "output_type": "stream",
          "name": "stderr",
          "text": [
            "\u001b[32m[I 2022-01-31 15:51:59,436]\u001b[0m Trial 9 finished with value: 0.6079999804496765 and parameters: {'units': 8, 'activation': 'tanh'}. Best is trial 4 with value: 0.6159999966621399.\u001b[0m\n"
          ]
        },
        {
          "output_type": "stream",
          "name": "stdout",
          "text": [
            "Number of finished trials: 10\n",
            "Best trial:\n",
            "  Value: 0.6159999966621399\n",
            "  Params: \n",
            "    units: 8\n",
            "    activation: tanh\n"
          ]
        }
      ],
      "source": [
        "def objective(trial):\n",
        "\n",
        "    model = CompactNet(trial)\n",
        "\n",
        "\n",
        "    model.fit(\n",
        "        X_train, Y_train,\n",
        "        validation_split=0.15,\n",
        "        shuffle=True,\n",
        "        batch_size=batch_size,\n",
        "        epochs=epochs,\n",
        "        verbose=1\n",
        "    )\n",
        "\n",
        "    # Evaluate the model accuracy on the Test set.\n",
        "    score = model.evaluate(X_test, Y_test, verbose=0)\n",
        "    return score[1]\n",
        "\n",
        "\n",
        "study = optuna.create_study(direction=\"maximize\", sampler=optuna.samplers.NSGAIISampler())\n",
        "# study = optuna.create_study(direction=\"maximize\")\n",
        "study.optimize(objective, n_trials=n_trials)\n",
        "# study.optimize(objective, n_trials=5)\n",
        "print(\"Number of finished trials: {}\".format(len(study.trials)))\n",
        "\n",
        "print(\"Best trial:\")\n",
        "trial = study.best_trial\n",
        "\n",
        "print(\"  Value: {}\".format(trial.value))\n",
        "\n",
        "print(\"  Params: \")\n",
        "for key, value in trial.params.items():\n",
        "    print(\"    {}: {}\".format(key, value))\n",
        "\n",
        "# print(\"Training model with best_params {}\".format(study.best_params))"
      ]
    },
    {
      "cell_type": "code",
      "execution_count": null,
      "metadata": {
        "colab": {
          "base_uri": "https://localhost:8080/",
          "height": 601
        },
        "outputId": "7d41d709-0ff4-4c5c-e50b-e3da1bc8dfea",
        "id": "AT683O1c0L6S"
      },
      "outputs": [
        {
          "output_type": "execute_result",
          "data": {
            "text/html": [
              "\n",
              "  <div id=\"df-141412d1-c86a-4efa-8a02-7e6fad84b54b\">\n",
              "    <div class=\"colab-df-container\">\n",
              "      <div>\n",
              "<style scoped>\n",
              "    .dataframe tbody tr th:only-of-type {\n",
              "        vertical-align: middle;\n",
              "    }\n",
              "\n",
              "    .dataframe tbody tr th {\n",
              "        vertical-align: top;\n",
              "    }\n",
              "\n",
              "    .dataframe thead th {\n",
              "        text-align: right;\n",
              "    }\n",
              "</style>\n",
              "<table border=\"1\" class=\"dataframe\">\n",
              "  <thead>\n",
              "    <tr style=\"text-align: right;\">\n",
              "      <th></th>\n",
              "      <th>number</th>\n",
              "      <th>value</th>\n",
              "      <th>datetime_start</th>\n",
              "      <th>datetime_complete</th>\n",
              "      <th>duration</th>\n",
              "      <th>params_activation</th>\n",
              "      <th>params_units</th>\n",
              "      <th>system_attrs_nsga2:generation</th>\n",
              "      <th>state</th>\n",
              "    </tr>\n",
              "  </thead>\n",
              "  <tbody>\n",
              "    <tr>\n",
              "      <th>0</th>\n",
              "      <td>0</td>\n",
              "      <td>0.588</td>\n",
              "      <td>2022-01-31 15:50:04.339547</td>\n",
              "      <td>2022-01-31 15:50:16.651361</td>\n",
              "      <td>0 days 00:00:12.311814</td>\n",
              "      <td>linear</td>\n",
              "      <td>8</td>\n",
              "      <td>0</td>\n",
              "      <td>COMPLETE</td>\n",
              "    </tr>\n",
              "    <tr>\n",
              "      <th>1</th>\n",
              "      <td>1</td>\n",
              "      <td>0.614</td>\n",
              "      <td>2022-01-31 15:50:16.653572</td>\n",
              "      <td>2022-01-31 15:50:27.972943</td>\n",
              "      <td>0 days 00:00:11.319371</td>\n",
              "      <td>linear</td>\n",
              "      <td>8</td>\n",
              "      <td>0</td>\n",
              "      <td>COMPLETE</td>\n",
              "    </tr>\n",
              "    <tr>\n",
              "      <th>2</th>\n",
              "      <td>2</td>\n",
              "      <td>0.584</td>\n",
              "      <td>2022-01-31 15:50:27.974928</td>\n",
              "      <td>2022-01-31 15:50:40.221937</td>\n",
              "      <td>0 days 00:00:12.247009</td>\n",
              "      <td>tanh</td>\n",
              "      <td>8</td>\n",
              "      <td>0</td>\n",
              "      <td>COMPLETE</td>\n",
              "    </tr>\n",
              "    <tr>\n",
              "      <th>3</th>\n",
              "      <td>3</td>\n",
              "      <td>0.600</td>\n",
              "      <td>2022-01-31 15:50:40.224343</td>\n",
              "      <td>2022-01-31 15:50:51.946096</td>\n",
              "      <td>0 days 00:00:11.721753</td>\n",
              "      <td>linear</td>\n",
              "      <td>8</td>\n",
              "      <td>0</td>\n",
              "      <td>COMPLETE</td>\n",
              "    </tr>\n",
              "    <tr>\n",
              "      <th>4</th>\n",
              "      <td>4</td>\n",
              "      <td>0.616</td>\n",
              "      <td>2022-01-31 15:50:51.947902</td>\n",
              "      <td>2022-01-31 15:51:03.620737</td>\n",
              "      <td>0 days 00:00:11.672835</td>\n",
              "      <td>tanh</td>\n",
              "      <td>8</td>\n",
              "      <td>0</td>\n",
              "      <td>COMPLETE</td>\n",
              "    </tr>\n",
              "    <tr>\n",
              "      <th>5</th>\n",
              "      <td>5</td>\n",
              "      <td>0.588</td>\n",
              "      <td>2022-01-31 15:51:03.623064</td>\n",
              "      <td>2022-01-31 15:51:13.950829</td>\n",
              "      <td>0 days 00:00:10.327765</td>\n",
              "      <td>tanh</td>\n",
              "      <td>8</td>\n",
              "      <td>0</td>\n",
              "      <td>COMPLETE</td>\n",
              "    </tr>\n",
              "    <tr>\n",
              "      <th>6</th>\n",
              "      <td>6</td>\n",
              "      <td>0.580</td>\n",
              "      <td>2022-01-31 15:51:13.952726</td>\n",
              "      <td>2022-01-31 15:51:25.027849</td>\n",
              "      <td>0 days 00:00:11.075123</td>\n",
              "      <td>tanh</td>\n",
              "      <td>8</td>\n",
              "      <td>0</td>\n",
              "      <td>COMPLETE</td>\n",
              "    </tr>\n",
              "    <tr>\n",
              "      <th>7</th>\n",
              "      <td>7</td>\n",
              "      <td>0.548</td>\n",
              "      <td>2022-01-31 15:51:25.030935</td>\n",
              "      <td>2022-01-31 15:51:37.469230</td>\n",
              "      <td>0 days 00:00:12.438295</td>\n",
              "      <td>linear</td>\n",
              "      <td>8</td>\n",
              "      <td>0</td>\n",
              "      <td>COMPLETE</td>\n",
              "    </tr>\n",
              "    <tr>\n",
              "      <th>8</th>\n",
              "      <td>8</td>\n",
              "      <td>0.564</td>\n",
              "      <td>2022-01-31 15:51:37.471146</td>\n",
              "      <td>2022-01-31 15:51:47.901408</td>\n",
              "      <td>0 days 00:00:10.430262</td>\n",
              "      <td>relu</td>\n",
              "      <td>8</td>\n",
              "      <td>0</td>\n",
              "      <td>COMPLETE</td>\n",
              "    </tr>\n",
              "    <tr>\n",
              "      <th>9</th>\n",
              "      <td>9</td>\n",
              "      <td>0.608</td>\n",
              "      <td>2022-01-31 15:51:47.903409</td>\n",
              "      <td>2022-01-31 15:51:59.436229</td>\n",
              "      <td>0 days 00:00:11.532820</td>\n",
              "      <td>tanh</td>\n",
              "      <td>8</td>\n",
              "      <td>0</td>\n",
              "      <td>COMPLETE</td>\n",
              "    </tr>\n",
              "  </tbody>\n",
              "</table>\n",
              "</div>\n",
              "      <button class=\"colab-df-convert\" onclick=\"convertToInteractive('df-141412d1-c86a-4efa-8a02-7e6fad84b54b')\"\n",
              "              title=\"Convert this dataframe to an interactive table.\"\n",
              "              style=\"display:none;\">\n",
              "        \n",
              "  <svg xmlns=\"http://www.w3.org/2000/svg\" height=\"24px\"viewBox=\"0 0 24 24\"\n",
              "       width=\"24px\">\n",
              "    <path d=\"M0 0h24v24H0V0z\" fill=\"none\"/>\n",
              "    <path d=\"M18.56 5.44l.94 2.06.94-2.06 2.06-.94-2.06-.94-.94-2.06-.94 2.06-2.06.94zm-11 1L8.5 8.5l.94-2.06 2.06-.94-2.06-.94L8.5 2.5l-.94 2.06-2.06.94zm10 10l.94 2.06.94-2.06 2.06-.94-2.06-.94-.94-2.06-.94 2.06-2.06.94z\"/><path d=\"M17.41 7.96l-1.37-1.37c-.4-.4-.92-.59-1.43-.59-.52 0-1.04.2-1.43.59L10.3 9.45l-7.72 7.72c-.78.78-.78 2.05 0 2.83L4 21.41c.39.39.9.59 1.41.59.51 0 1.02-.2 1.41-.59l7.78-7.78 2.81-2.81c.8-.78.8-2.07 0-2.86zM5.41 20L4 18.59l7.72-7.72 1.47 1.35L5.41 20z\"/>\n",
              "  </svg>\n",
              "      </button>\n",
              "      \n",
              "  <style>\n",
              "    .colab-df-container {\n",
              "      display:flex;\n",
              "      flex-wrap:wrap;\n",
              "      gap: 12px;\n",
              "    }\n",
              "\n",
              "    .colab-df-convert {\n",
              "      background-color: #E8F0FE;\n",
              "      border: none;\n",
              "      border-radius: 50%;\n",
              "      cursor: pointer;\n",
              "      display: none;\n",
              "      fill: #1967D2;\n",
              "      height: 32px;\n",
              "      padding: 0 0 0 0;\n",
              "      width: 32px;\n",
              "    }\n",
              "\n",
              "    .colab-df-convert:hover {\n",
              "      background-color: #E2EBFA;\n",
              "      box-shadow: 0px 1px 2px rgba(60, 64, 67, 0.3), 0px 1px 3px 1px rgba(60, 64, 67, 0.15);\n",
              "      fill: #174EA6;\n",
              "    }\n",
              "\n",
              "    [theme=dark] .colab-df-convert {\n",
              "      background-color: #3B4455;\n",
              "      fill: #D2E3FC;\n",
              "    }\n",
              "\n",
              "    [theme=dark] .colab-df-convert:hover {\n",
              "      background-color: #434B5C;\n",
              "      box-shadow: 0px 1px 3px 1px rgba(0, 0, 0, 0.15);\n",
              "      filter: drop-shadow(0px 1px 2px rgba(0, 0, 0, 0.3));\n",
              "      fill: #FFFFFF;\n",
              "    }\n",
              "  </style>\n",
              "\n",
              "      <script>\n",
              "        const buttonEl =\n",
              "          document.querySelector('#df-141412d1-c86a-4efa-8a02-7e6fad84b54b button.colab-df-convert');\n",
              "        buttonEl.style.display =\n",
              "          google.colab.kernel.accessAllowed ? 'block' : 'none';\n",
              "\n",
              "        async function convertToInteractive(key) {\n",
              "          const element = document.querySelector('#df-141412d1-c86a-4efa-8a02-7e6fad84b54b');\n",
              "          const dataTable =\n",
              "            await google.colab.kernel.invokeFunction('convertToInteractive',\n",
              "                                                     [key], {});\n",
              "          if (!dataTable) return;\n",
              "\n",
              "          const docLinkHtml = 'Like what you see? Visit the ' +\n",
              "            '<a target=\"_blank\" href=https://colab.research.google.com/notebooks/data_table.ipynb>data table notebook</a>'\n",
              "            + ' to learn more about interactive tables.';\n",
              "          element.innerHTML = '';\n",
              "          dataTable['output_type'] = 'display_data';\n",
              "          await google.colab.output.renderOutput(dataTable, element);\n",
              "          const docLink = document.createElement('div');\n",
              "          docLink.innerHTML = docLinkHtml;\n",
              "          element.appendChild(docLink);\n",
              "        }\n",
              "      </script>\n",
              "    </div>\n",
              "  </div>\n",
              "  "
            ],
            "text/plain": [
              "   number  value  ... system_attrs_nsga2:generation     state\n",
              "0       0  0.588  ...                             0  COMPLETE\n",
              "1       1  0.614  ...                             0  COMPLETE\n",
              "2       2  0.584  ...                             0  COMPLETE\n",
              "3       3  0.600  ...                             0  COMPLETE\n",
              "4       4  0.616  ...                             0  COMPLETE\n",
              "5       5  0.588  ...                             0  COMPLETE\n",
              "6       6  0.580  ...                             0  COMPLETE\n",
              "7       7  0.548  ...                             0  COMPLETE\n",
              "8       8  0.564  ...                             0  COMPLETE\n",
              "9       9  0.608  ...                             0  COMPLETE\n",
              "\n",
              "[10 rows x 9 columns]"
            ]
          },
          "metadata": {},
          "execution_count": 59
        }
      ],
      "source": [
        "trials_df = study.trials_dataframe()\n",
        "trials_df.to_csv('trials_history.csv')\n",
        "trials_df"
      ]
    },
    {
      "cell_type": "markdown",
      "metadata": {
        "id": "h6eQPk9hN5RG"
      },
      "source": [
        "##CNN Model"
      ]
    },
    {
      "cell_type": "code",
      "execution_count": 6,
      "metadata": {
        "colab": {
          "base_uri": "https://localhost:8080/"
        },
        "outputId": "ba96883b-20b6-41d4-fb18-d684b590317c",
        "id": "WQalnZmgN5RK"
      },
      "outputs": [
        {
          "output_type": "stream",
          "name": "stdout",
          "text": [
            "Model: \"CompactNet\"\n",
            "_________________________________________________________________\n",
            " Layer (type)                Output Shape              Param #   \n",
            "=================================================================\n",
            " input_2 (InputLayer)        [(None, 1280, 32)]        0         \n",
            "                                                                 \n",
            " C1 (Conv1D)                 (None, 1280, 32)          2080      \n",
            "                                                                 \n",
            " AP1 (AveragePooling1D)      (None, 640, 32)           0         \n",
            "                                                                 \n",
            " BN1 (BatchNormalization)    (None, 640, 32)           128       \n",
            "                                                                 \n",
            " C3 (Conv1D)                 (None, 640, 128)          20608     \n",
            "                                                                 \n",
            " AP2 (AveragePooling1D)      (None, 320, 128)          0         \n",
            "                                                                 \n",
            " BN2 (BatchNormalization)    (None, 320, 128)          512       \n",
            "                                                                 \n",
            " C7 (Conv1D)                 (None, 160, 192)          73920     \n",
            "                                                                 \n",
            " GAP (GlobalAveragePooling1D  (None, 192)              0         \n",
            " )                                                               \n",
            "                                                                 \n",
            " BN4 (BatchNormalization)    (None, 192)               768       \n",
            "                                                                 \n",
            " dropout_2 (Dropout)         (None, 192)               0         \n",
            "                                                                 \n",
            " dense_3 (Dense)             (None, 64)                12352     \n",
            "                                                                 \n",
            " activation_3 (Activation)   (None, 64)                0         \n",
            "                                                                 \n",
            " dense_4 (Dense)             (None, 8)                 520       \n",
            "                                                                 \n",
            " activation_4 (Activation)   (None, 8)                 0         \n",
            "                                                                 \n",
            " dropout_3 (Dropout)         (None, 8)                 0         \n",
            "                                                                 \n",
            " dense_5 (Dense)             (None, 2)                 18        \n",
            "                                                                 \n",
            " activation_5 (Activation)   (None, 2)                 0         \n",
            "                                                                 \n",
            "=================================================================\n",
            "Total params: 110,906\n",
            "Trainable params: 110,202\n",
            "Non-trainable params: 704\n",
            "_________________________________________________________________\n"
          ]
        }
      ],
      "source": [
        "def CompactNet(input_shape, weightsPath=None):\n",
        "    \n",
        "    X_input = Input(input_shape)\n",
        "    x = Conv1D(32, kernel_size = 2, strides = 1, padding = 'same', activation='relu', name='C1')(X_input)\n",
        "    x = AveragePooling1D(pool_size=2, name='AP1')(x)\n",
        "    x = BatchNormalization(name='BN1')(x)\n",
        "\n",
        "    x = Conv1D(128, kernel_size = 5, strides = 1, padding = 'same', activation='relu', name='C3')(x)\n",
        "    x = AveragePooling1D(pool_size=2, name='AP2')(x)\n",
        "    x = BatchNormalization(name='BN2')(x)\n",
        "\n",
        "    x = Conv1D(192, kernel_size = 3, strides = 2, padding = 'same', activation='relu', name='C7')(x)\n",
        "    x = GlobalAveragePooling1D(name='GAP')(x)\n",
        "    x = BatchNormalization(name='BN4')(x)\n",
        "\n",
        "    x = Dropout(0.2)(x)\n",
        "    x = Dense(64)(x)\n",
        "    x = Activation('tanh')(x)\n",
        "    x = Dense(8)(x)\n",
        "    x = Activation('tanh')(x)\n",
        "    x = Dropout(0.1)(x)\n",
        "    x = Dense(classes)(x)\n",
        "    output = Activation('softmax')(x)\n",
        "\n",
        "    model=Model(inputs=X_input, outputs=output, name='CompactNet')\n",
        "\n",
        "    if weightsPath is not None:\n",
        "        model.load_weights(weightsPath)\n",
        "\n",
        "    return model\n",
        "\n",
        "model = CompactNet(input_shape = (window_size, channel_len))\n",
        "model.summary()\n",
        "\n",
        "model.compile(loss='categorical_crossentropy',\n",
        "              optimizer=Adam(learning_rate=0.001, decay=1e-5),\n",
        "              metrics=['accuracy'])"
      ]
    },
    {
      "cell_type": "code",
      "execution_count": 8,
      "metadata": {
        "id": "2iuvXd3WN5RP",
        "colab": {
          "base_uri": "https://localhost:8080/",
          "height": 1000
        },
        "outputId": "1fd8bf33-e385-42c9-dd97-8c5511235c9c"
      },
      "outputs": [
        {
          "output_type": "execute_result",
          "data": {
            "image/png": "[encoded data removed]",
            "text/plain": [
              "<IPython.core.display.Image object>"
            ]
          },
          "metadata": {},
          "execution_count": 8
        }
      ],
      "source": [
        "plot_model(model, to_file='DEAP_model.png', show_shapes=True, dpi=100)"
      ]
    },
    {
      "cell_type": "markdown",
      "metadata": {
        "id": "ELFpIRMfCvyO"
      },
      "source": [
        "## Training and Evaluation"
      ]
    },
    {
      "cell_type": "markdown",
      "metadata": {
        "id": "piGRHTRSOP1B"
      },
      "source": [
        "### Valence"
      ]
    },
    {
      "cell_type": "markdown",
      "metadata": {
        "id": "5x6k_0wxOP1G"
      },
      "source": [
        "####Data Split by using K-fold (here k is 10) Method"
      ]
    },
    {
      "cell_type": "code",
      "execution_count": null,
      "metadata": {
        "id": "OncrJfMiOP1I"
      },
      "outputs": [],
      "source": [
        "k = 10\n",
        "nb_samples = data.shape[0] # Number of samples\n",
        "factor = nb_samples//k # Kth fold by this factor\n",
        "\n",
        "for i in range(k):\n",
        "  print('Fold: '+str(i))\n",
        "\n",
        "  X_train = np.concatenate((data[0 : i*factor], data[(i+1)*factor : nb_samples])) # Training data\n",
        "  X_test = data[i*factor : (i+1)*factor] # Testing data\n",
        "  val_train = np.concatenate((valence[0 : i*factor], valence[(i+1)*factor : nb_samples])) # Valence training labels\n",
        "  val_test = valence[i*factor : (i+1)*factor] # Valence testing labels\n",
        "\n",
        "  # model = get_model()\n",
        "  # model = CompactNet(input_shape = (window_size, channel_len))\n",
        "  # model.compile(loss='categorical_crossentropy',\n",
        "  #             optimizer=Adam(learning_rate=0.001, decay=1e-5),\n",
        "  #             metrics=['accuracy'])\n",
        "  model.fit(X_train, val_train, epochs = 5, batch_size = 256, shuffle = True)\n",
        "\n",
        "  scores = model.evaluate(X_test, val_test)\n",
        "  print(\"Test Accuracy: \", str(scores[1]*100))\n",
        "  \n",
        "  del X_train, X_test, val_train, val_test\n",
        "\n",
        "\n",
        "  # yhat = model.predict(X_test)\n",
        "  # yhatFlat= np.argmax(yhat, axis=1)\n",
        "  # yFlat = np.argmax(val_test, axis=1)\n",
        "  \n",
        "  # actual_cm = confusion_matrix(yhatFlat, yFlat)\n",
        "  # print('Confusion Matrix:\\n',actual_cm)"
      ]
    },
    {
      "cell_type": "markdown",
      "metadata": {
        "id": "7WZfRWRYOP1M"
      },
      "source": [
        "####Data Split by using Holdout Method"
      ]
    },
    {
      "cell_type": "code",
      "execution_count": null,
      "metadata": {
        "colab": {
          "base_uri": "https://localhost:8080/"
        },
        "outputId": "f4e115fb-2c1f-40cf-8029-3e92952d8441",
        "id": "F6bHmdYgOP1O"
      },
      "outputs": [
        {
          "output_type": "stream",
          "name": "stdout",
          "text": [
            "X Training:  (27648, 1280, 32)\n",
            "Y Training:  (27648, 2)\n",
            "X Test:  (6912, 1280, 32)\n",
            "Y Test:  (6912, 2)\n",
            "<class 'numpy.ndarray'>\n"
          ]
        }
      ],
      "source": [
        "X_train, X_test, Y_train, Y_test = train_test_split(data, valence, test_size=0.2, random_state=random_state)\n",
        "print('X Training: ',X_train.shape)\n",
        "print('Y Training: ',Y_train.shape)\n",
        "print('X Test: ',X_test.shape)\n",
        "print('Y Test: ',Y_test.shape)\n",
        "print(type(X_train))\n",
        "\n",
        "# del data, valence"
      ]
    },
    {
      "cell_type": "markdown",
      "metadata": {
        "id": "jb2DvSkgOP1R"
      },
      "source": [
        "####Training and Evaluation"
      ]
    },
    {
      "cell_type": "code",
      "execution_count": null,
      "metadata": {
        "colab": {
          "base_uri": "https://localhost:8080/"
        },
        "outputId": "62467512-3ed5-439f-c443-fd98f9e5ecb9",
        "id": "M87LwLwIOP1T"
      },
      "outputs": [
        {
          "output_type": "stream",
          "name": "stdout",
          "text": [
            "Epoch 1/100\n",
            "46/46 [==============================] - 7s 73ms/step - loss: 0.7219 - accuracy: 0.5560 - val_loss: 0.7110 - val_accuracy: 0.5499\n",
            "Epoch 2/100\n",
            "46/46 [==============================] - 2s 42ms/step - loss: 0.6713 - accuracy: 0.5943 - val_loss: 0.6862 - val_accuracy: 0.5501\n",
            "Epoch 3/100\n",
            "46/46 [==============================] - 2s 41ms/step - loss: 0.6523 - accuracy: 0.6150 - val_loss: 0.7011 - val_accuracy: 0.5499\n",
            "Epoch 4/100\n",
            "46/46 [==============================] - 2s 42ms/step - loss: 0.6332 - accuracy: 0.6401 - val_loss: 0.7186 - val_accuracy: 0.5504\n",
            "Epoch 5/100\n",
            "46/46 [==============================] - 2s 42ms/step - loss: 0.6107 - accuracy: 0.6587 - val_loss: 0.7194 - val_accuracy: 0.5545\n",
            "Epoch 6/100\n",
            "46/46 [==============================] - 2s 42ms/step - loss: 0.5962 - accuracy: 0.6763 - val_loss: 0.7034 - val_accuracy: 0.5689\n",
            "Epoch 7/100\n",
            "46/46 [==============================] - 2s 42ms/step - loss: 0.5715 - accuracy: 0.6986 - val_loss: 0.6923 - val_accuracy: 0.5781\n",
            "Epoch 8/100\n",
            "46/46 [==============================] - 2s 41ms/step - loss: 0.5497 - accuracy: 0.7180 - val_loss: 0.6666 - val_accuracy: 0.6138\n",
            "Epoch 9/100\n",
            "46/46 [==============================] - 2s 43ms/step - loss: 0.5151 - accuracy: 0.7442 - val_loss: 0.6079 - val_accuracy: 0.6603\n",
            "Epoch 10/100\n",
            "46/46 [==============================] - 2s 42ms/step - loss: 0.4872 - accuracy: 0.7613 - val_loss: 0.5436 - val_accuracy: 0.7107\n",
            "Epoch 11/100\n",
            "46/46 [==============================] - 2s 41ms/step - loss: 0.4564 - accuracy: 0.7840 - val_loss: 0.5460 - val_accuracy: 0.7240\n",
            "Epoch 12/100\n",
            "46/46 [==============================] - 2s 41ms/step - loss: 0.4286 - accuracy: 0.7960 - val_loss: 0.4919 - val_accuracy: 0.7676\n",
            "Epoch 13/100\n",
            "46/46 [==============================] - 2s 41ms/step - loss: 0.3982 - accuracy: 0.8197 - val_loss: 0.4659 - val_accuracy: 0.7743\n",
            "Epoch 14/100\n",
            "46/46 [==============================] - 2s 41ms/step - loss: 0.3634 - accuracy: 0.8377 - val_loss: 0.4472 - val_accuracy: 0.7871\n",
            "Epoch 15/100\n",
            "46/46 [==============================] - 2s 42ms/step - loss: 0.3386 - accuracy: 0.8506 - val_loss: 0.4494 - val_accuracy: 0.7910\n",
            "Epoch 16/100\n",
            "46/46 [==============================] - 2s 42ms/step - loss: 0.3026 - accuracy: 0.8700 - val_loss: 0.4062 - val_accuracy: 0.8146\n",
            "Epoch 17/100\n",
            "46/46 [==============================] - 2s 42ms/step - loss: 0.2870 - accuracy: 0.8789 - val_loss: 0.3589 - val_accuracy: 0.8402\n",
            "Epoch 18/100\n",
            "46/46 [==============================] - 2s 42ms/step - loss: 0.2598 - accuracy: 0.8932 - val_loss: 0.3266 - val_accuracy: 0.8568\n",
            "Epoch 19/100\n",
            "46/46 [==============================] - 2s 42ms/step - loss: 0.2531 - accuracy: 0.8949 - val_loss: 0.3440 - val_accuracy: 0.8534\n",
            "Epoch 20/100\n",
            "46/46 [==============================] - 2s 42ms/step - loss: 0.2343 - accuracy: 0.9042 - val_loss: 0.2921 - val_accuracy: 0.8773\n",
            "Epoch 21/100\n",
            "46/46 [==============================] - 2s 41ms/step - loss: 0.2015 - accuracy: 0.9206 - val_loss: 0.3122 - val_accuracy: 0.8691\n",
            "Epoch 22/100\n",
            "46/46 [==============================] - 2s 43ms/step - loss: 0.1859 - accuracy: 0.9238 - val_loss: 0.3816 - val_accuracy: 0.8496\n",
            "Epoch 23/100\n",
            "46/46 [==============================] - 2s 42ms/step - loss: 0.1854 - accuracy: 0.9266 - val_loss: 0.2617 - val_accuracy: 0.8971\n",
            "Epoch 24/100\n",
            "46/46 [==============================] - 2s 41ms/step - loss: 0.1702 - accuracy: 0.9340 - val_loss: 0.2377 - val_accuracy: 0.9000\n",
            "Epoch 25/100\n",
            "46/46 [==============================] - 2s 42ms/step - loss: 0.1610 - accuracy: 0.9357 - val_loss: 0.2180 - val_accuracy: 0.9103\n",
            "Epoch 26/100\n",
            "46/46 [==============================] - 2s 42ms/step - loss: 0.1386 - accuracy: 0.9456 - val_loss: 0.2148 - val_accuracy: 0.9156\n",
            "Epoch 27/100\n",
            "46/46 [==============================] - 2s 42ms/step - loss: 0.1401 - accuracy: 0.9457 - val_loss: 0.2425 - val_accuracy: 0.9079\n",
            "Epoch 28/100\n",
            "46/46 [==============================] - 2s 40ms/step - loss: 0.1323 - accuracy: 0.9496 - val_loss: 0.2019 - val_accuracy: 0.9221\n",
            "Epoch 29/100\n",
            "46/46 [==============================] - 2s 42ms/step - loss: 0.1220 - accuracy: 0.9534 - val_loss: 0.2042 - val_accuracy: 0.9209\n",
            "Epoch 30/100\n",
            "46/46 [==============================] - 2s 42ms/step - loss: 0.1135 - accuracy: 0.9569 - val_loss: 0.1956 - val_accuracy: 0.9282\n",
            "Epoch 31/100\n",
            "46/46 [==============================] - 2s 43ms/step - loss: 0.1167 - accuracy: 0.9551 - val_loss: 0.2225 - val_accuracy: 0.9188\n",
            "Epoch 32/100\n",
            "46/46 [==============================] - 2s 42ms/step - loss: 0.1107 - accuracy: 0.9587 - val_loss: 0.1763 - val_accuracy: 0.9337\n",
            "Epoch 33/100\n",
            "46/46 [==============================] - 2s 42ms/step - loss: 0.0994 - accuracy: 0.9605 - val_loss: 0.1841 - val_accuracy: 0.9318\n",
            "Epoch 34/100\n",
            "46/46 [==============================] - 2s 41ms/step - loss: 0.0930 - accuracy: 0.9658 - val_loss: 0.2733 - val_accuracy: 0.9033\n",
            "Epoch 35/100\n",
            "46/46 [==============================] - 2s 41ms/step - loss: 0.0962 - accuracy: 0.9641 - val_loss: 0.1735 - val_accuracy: 0.9347\n",
            "Epoch 36/100\n",
            "46/46 [==============================] - 2s 41ms/step - loss: 0.0936 - accuracy: 0.9657 - val_loss: 0.1816 - val_accuracy: 0.9342\n",
            "Epoch 37/100\n",
            "46/46 [==============================] - 2s 43ms/step - loss: 0.0836 - accuracy: 0.9694 - val_loss: 0.2154 - val_accuracy: 0.9245\n",
            "Epoch 38/100\n",
            "46/46 [==============================] - 2s 42ms/step - loss: 0.0844 - accuracy: 0.9685 - val_loss: 0.1653 - val_accuracy: 0.9424\n",
            "Epoch 39/100\n",
            "46/46 [==============================] - 2s 42ms/step - loss: 0.0803 - accuracy: 0.9705 - val_loss: 0.1736 - val_accuracy: 0.9378\n",
            "Epoch 40/100\n",
            "46/46 [==============================] - 2s 42ms/step - loss: 0.0752 - accuracy: 0.9722 - val_loss: 0.1799 - val_accuracy: 0.9412\n",
            "Epoch 41/100\n",
            "46/46 [==============================] - 2s 43ms/step - loss: 0.0748 - accuracy: 0.9714 - val_loss: 0.1601 - val_accuracy: 0.9421\n",
            "Epoch 42/100\n",
            "46/46 [==============================] - 2s 42ms/step - loss: 0.0687 - accuracy: 0.9758 - val_loss: 0.1759 - val_accuracy: 0.9431\n",
            "Epoch 43/100\n",
            "46/46 [==============================] - 2s 42ms/step - loss: 0.0668 - accuracy: 0.9754 - val_loss: 0.1640 - val_accuracy: 0.9421\n",
            "Epoch 44/100\n",
            "46/46 [==============================] - 2s 42ms/step - loss: 0.0698 - accuracy: 0.9734 - val_loss: 0.1450 - val_accuracy: 0.9518\n",
            "Epoch 45/100\n",
            "46/46 [==============================] - 2s 41ms/step - loss: 0.0773 - accuracy: 0.9700 - val_loss: 0.1721 - val_accuracy: 0.9438\n",
            "Epoch 46/100\n",
            "46/46 [==============================] - 2s 43ms/step - loss: 0.0730 - accuracy: 0.9730 - val_loss: 0.1707 - val_accuracy: 0.9407\n",
            "Epoch 47/100\n",
            "46/46 [==============================] - 2s 43ms/step - loss: 0.0656 - accuracy: 0.9759 - val_loss: 0.1555 - val_accuracy: 0.9479\n",
            "Epoch 48/100\n",
            "46/46 [==============================] - 2s 42ms/step - loss: 0.0528 - accuracy: 0.9815 - val_loss: 0.1497 - val_accuracy: 0.9484\n",
            "Epoch 49/100\n",
            "46/46 [==============================] - 2s 42ms/step - loss: 0.0591 - accuracy: 0.9779 - val_loss: 0.1736 - val_accuracy: 0.9443\n",
            "Epoch 50/100\n",
            "46/46 [==============================] - 2s 42ms/step - loss: 0.0540 - accuracy: 0.9802 - val_loss: 0.1460 - val_accuracy: 0.9467\n",
            "Epoch 51/100\n",
            "46/46 [==============================] - 2s 43ms/step - loss: 0.0534 - accuracy: 0.9799 - val_loss: 0.1561 - val_accuracy: 0.9489\n",
            "Epoch 52/100\n",
            "46/46 [==============================] - 2s 42ms/step - loss: 0.0547 - accuracy: 0.9801 - val_loss: 0.1374 - val_accuracy: 0.9566\n",
            "Epoch 53/100\n",
            "46/46 [==============================] - 2s 42ms/step - loss: 0.0586 - accuracy: 0.9794 - val_loss: 0.1466 - val_accuracy: 0.9547\n",
            "Epoch 54/100\n",
            "46/46 [==============================] - 2s 42ms/step - loss: 0.0549 - accuracy: 0.9807 - val_loss: 0.1616 - val_accuracy: 0.9453\n",
            "Epoch 55/100\n",
            "46/46 [==============================] - 2s 43ms/step - loss: 0.0522 - accuracy: 0.9807 - val_loss: 0.1547 - val_accuracy: 0.9458\n",
            "Epoch 56/100\n",
            "46/46 [==============================] - 2s 42ms/step - loss: 0.0498 - accuracy: 0.9823 - val_loss: 0.1779 - val_accuracy: 0.9433\n",
            "Epoch 57/100\n",
            "46/46 [==============================] - 2s 42ms/step - loss: 0.0470 - accuracy: 0.9824 - val_loss: 0.2299 - val_accuracy: 0.9277\n",
            "Epoch 58/100\n",
            "46/46 [==============================] - 2s 41ms/step - loss: 0.0534 - accuracy: 0.9811 - val_loss: 0.1251 - val_accuracy: 0.9614\n",
            "Epoch 59/100\n",
            "46/46 [==============================] - 2s 41ms/step - loss: 0.0536 - accuracy: 0.9807 - val_loss: 0.1334 - val_accuracy: 0.9578\n",
            "Epoch 60/100\n",
            "46/46 [==============================] - 2s 43ms/step - loss: 0.0407 - accuracy: 0.9858 - val_loss: 0.1355 - val_accuracy: 0.9593\n",
            "Epoch 61/100\n",
            "46/46 [==============================] - 2s 42ms/step - loss: 0.0478 - accuracy: 0.9828 - val_loss: 0.1650 - val_accuracy: 0.9460\n",
            "Epoch 62/100\n",
            "46/46 [==============================] - 2s 41ms/step - loss: 0.0477 - accuracy: 0.9836 - val_loss: 0.1479 - val_accuracy: 0.9547\n",
            "Epoch 63/100\n",
            "46/46 [==============================] - 2s 42ms/step - loss: 0.0437 - accuracy: 0.9847 - val_loss: 0.1413 - val_accuracy: 0.9552\n",
            "Epoch 64/100\n",
            "46/46 [==============================] - 2s 42ms/step - loss: 0.0378 - accuracy: 0.9870 - val_loss: 0.1457 - val_accuracy: 0.9515\n",
            "Epoch 65/100\n",
            "46/46 [==============================] - 2s 41ms/step - loss: 0.0426 - accuracy: 0.9845 - val_loss: 0.1758 - val_accuracy: 0.9438\n",
            "Epoch 66/100\n",
            "46/46 [==============================] - 2s 41ms/step - loss: 0.0438 - accuracy: 0.9846 - val_loss: 0.1561 - val_accuracy: 0.9506\n",
            "Epoch 67/100\n",
            "46/46 [==============================] - 2s 42ms/step - loss: 0.0420 - accuracy: 0.9853 - val_loss: 0.1486 - val_accuracy: 0.9530\n",
            "Epoch 68/100\n",
            "46/46 [==============================] - 2s 41ms/step - loss: 0.0452 - accuracy: 0.9840 - val_loss: 0.1542 - val_accuracy: 0.9527\n",
            "Epoch 69/100\n",
            "46/46 [==============================] - 2s 42ms/step - loss: 0.0451 - accuracy: 0.9834 - val_loss: 0.1335 - val_accuracy: 0.9581\n",
            "Epoch 70/100\n",
            "46/46 [==============================] - 2s 42ms/step - loss: 0.0381 - accuracy: 0.9860 - val_loss: 0.2071 - val_accuracy: 0.9373\n",
            "Epoch 71/100\n",
            "46/46 [==============================] - 2s 41ms/step - loss: 0.0379 - accuracy: 0.9866 - val_loss: 0.1379 - val_accuracy: 0.9588\n",
            "Epoch 72/100\n",
            "46/46 [==============================] - 2s 41ms/step - loss: 0.0369 - accuracy: 0.9869 - val_loss: 0.1338 - val_accuracy: 0.9540\n",
            "Epoch 73/100\n",
            "46/46 [==============================] - 2s 41ms/step - loss: 0.0368 - accuracy: 0.9869 - val_loss: 0.1515 - val_accuracy: 0.9554\n",
            "Epoch 74/100\n",
            "46/46 [==============================] - 2s 42ms/step - loss: 0.0369 - accuracy: 0.9864 - val_loss: 0.1380 - val_accuracy: 0.9566\n",
            "Epoch 75/100\n",
            "46/46 [==============================] - 2s 43ms/step - loss: 0.0422 - accuracy: 0.9854 - val_loss: 0.1612 - val_accuracy: 0.9503\n",
            "Epoch 76/100\n",
            "46/46 [==============================] - 2s 41ms/step - loss: 0.0398 - accuracy: 0.9856 - val_loss: 0.1294 - val_accuracy: 0.9609\n",
            "Epoch 77/100\n",
            "46/46 [==============================] - 2s 42ms/step - loss: 0.0379 - accuracy: 0.9870 - val_loss: 0.1513 - val_accuracy: 0.9508\n",
            "Epoch 78/100\n",
            "46/46 [==============================] - 2s 41ms/step - loss: 0.0344 - accuracy: 0.9881 - val_loss: 0.1410 - val_accuracy: 0.9583\n",
            "Epoch 79/100\n",
            "46/46 [==============================] - 2s 42ms/step - loss: 0.0364 - accuracy: 0.9873 - val_loss: 0.1723 - val_accuracy: 0.9499\n",
            "Epoch 80/100\n",
            "46/46 [==============================] - 2s 41ms/step - loss: 0.0418 - accuracy: 0.9854 - val_loss: 0.1780 - val_accuracy: 0.9460\n",
            "Epoch 81/100\n",
            "46/46 [==============================] - 2s 42ms/step - loss: 0.0358 - accuracy: 0.9876 - val_loss: 0.1304 - val_accuracy: 0.9581\n",
            "Epoch 82/100\n",
            "46/46 [==============================] - 2s 41ms/step - loss: 0.0322 - accuracy: 0.9883 - val_loss: 0.1352 - val_accuracy: 0.9593\n",
            "Epoch 83/100\n",
            "46/46 [==============================] - 2s 42ms/step - loss: 0.0325 - accuracy: 0.9884 - val_loss: 0.1207 - val_accuracy: 0.9636\n",
            "Epoch 84/100\n",
            "46/46 [==============================] - 2s 41ms/step - loss: 0.0396 - accuracy: 0.9858 - val_loss: 0.1532 - val_accuracy: 0.9503\n",
            "Epoch 85/100\n",
            "46/46 [==============================] - 2s 41ms/step - loss: 0.0309 - accuracy: 0.9897 - val_loss: 0.1204 - val_accuracy: 0.9634\n",
            "Epoch 86/100\n",
            "46/46 [==============================] - 2s 42ms/step - loss: 0.0344 - accuracy: 0.9875 - val_loss: 0.1378 - val_accuracy: 0.9578\n",
            "Epoch 87/100\n",
            "46/46 [==============================] - 2s 43ms/step - loss: 0.0338 - accuracy: 0.9885 - val_loss: 0.1204 - val_accuracy: 0.9622\n",
            "Epoch 88/100\n",
            "46/46 [==============================] - 2s 40ms/step - loss: 0.0318 - accuracy: 0.9890 - val_loss: 0.1332 - val_accuracy: 0.9564\n",
            "Epoch 89/100\n",
            "46/46 [==============================] - 2s 43ms/step - loss: 0.0318 - accuracy: 0.9883 - val_loss: 0.1389 - val_accuracy: 0.9566\n",
            "Epoch 90/100\n",
            "46/46 [==============================] - 2s 42ms/step - loss: 0.0275 - accuracy: 0.9910 - val_loss: 0.1212 - val_accuracy: 0.9679\n",
            "Epoch 91/100\n",
            "46/46 [==============================] - 2s 43ms/step - loss: 0.0299 - accuracy: 0.9892 - val_loss: 0.1296 - val_accuracy: 0.9624\n",
            "Epoch 92/100\n",
            "46/46 [==============================] - 2s 42ms/step - loss: 0.0316 - accuracy: 0.9876 - val_loss: 0.1221 - val_accuracy: 0.9643\n",
            "Epoch 93/100\n",
            "46/46 [==============================] - 2s 41ms/step - loss: 0.0323 - accuracy: 0.9881 - val_loss: 0.1622 - val_accuracy: 0.9549\n",
            "Epoch 94/100\n",
            "46/46 [==============================] - 2s 41ms/step - loss: 0.0278 - accuracy: 0.9903 - val_loss: 0.1829 - val_accuracy: 0.9489\n",
            "Epoch 95/100\n",
            "46/46 [==============================] - 2s 41ms/step - loss: 0.0342 - accuracy: 0.9878 - val_loss: 0.1392 - val_accuracy: 0.9561\n",
            "Epoch 96/100\n",
            "46/46 [==============================] - 2s 41ms/step - loss: 0.0334 - accuracy: 0.9882 - val_loss: 0.1388 - val_accuracy: 0.9583\n",
            "Epoch 97/100\n",
            "46/46 [==============================] - 2s 43ms/step - loss: 0.0278 - accuracy: 0.9902 - val_loss: 0.1135 - val_accuracy: 0.9687\n",
            "Epoch 98/100\n",
            "46/46 [==============================] - 2s 41ms/step - loss: 0.0247 - accuracy: 0.9908 - val_loss: 0.1148 - val_accuracy: 0.9650\n",
            "Epoch 99/100\n",
            "46/46 [==============================] - 2s 42ms/step - loss: 0.0266 - accuracy: 0.9909 - val_loss: 0.1203 - val_accuracy: 0.9609\n",
            "Epoch 100/100\n",
            "46/46 [==============================] - 2s 41ms/step - loss: 0.0290 - accuracy: 0.9899 - val_loss: 0.1171 - val_accuracy: 0.9631\n"
          ]
        }
      ],
      "source": [
        "batch_size = 512\n",
        "epochs = 100\n",
        "lr_reducer = ReduceLROnPlateau(monitor='val_loss',\n",
        "                               cooldown=0, patience=10, min_lr=1e-4,\n",
        "                               factor=0.1, verbose=1)\n",
        "\n",
        "history = model.fit(X_train, Y_train, epochs=epochs,\n",
        "          validation_split=0.15,\n",
        "          batch_size=batch_size,\n",
        "          shuffle = True,\n",
        "          verbose=1) #,\n",
        "          # callbacks=[lr_reducer])"
      ]
    },
    {
      "cell_type": "code",
      "execution_count": null,
      "metadata": {
        "colab": {
          "base_uri": "https://localhost:8080/",
          "height": 472
        },
        "outputId": "95946235-7bec-427c-992c-ff298a3fee70",
        "id": "Kc5flnVjOP1W"
      },
      "outputs": [
        {
          "output_type": "display_data",
          "data": {
            "image/png": "[encoded data removed]",
            "text/plain": [
              "<Figure size 640x480 with 1 Axes>"
            ]
          },
          "metadata": {}
        }
      ],
      "source": [
        "plt.plot(history.history['accuracy'], 'b', label='Training')\n",
        "plt.plot(history.history['val_accuracy'], 'g', label='Validation')\n",
        "plt.title('Accuracy')\n",
        "plt.ylabel('accuracy')\n",
        "plt.xlabel('epoch')\n",
        "plt.legend(loc='lower right')\n",
        "plt.savefig('acc_plot',dpi=100)\n",
        "plt.show()"
      ]
    },
    {
      "cell_type": "code",
      "execution_count": null,
      "metadata": {
        "colab": {
          "base_uri": "https://localhost:8080/",
          "height": 472
        },
        "outputId": "94b4c2b9-86fa-4a8a-a97a-481d3ed852cc",
        "id": "2yolnJuqOP1Y"
      },
      "outputs": [
        {
          "output_type": "display_data",
          "data": {
            "image/png": "[encoded data removed]",
            "text/plain": [
              "<Figure size 640x480 with 1 Axes>"
            ]
          },
          "metadata": {}
        }
      ],
      "source": [
        "plt.plot(history.history['loss'], 'b', label='Training')\n",
        "plt.plot(history.history['val_loss'], 'g', label='Validation')\n",
        "plt.title('Model Loss')\n",
        "plt.ylabel('loss')\n",
        "plt.xlabel('epoch')\n",
        "plt.legend(loc='upper right')\n",
        "plt.savefig('loss_plot',dpi=100)\n",
        "plt.show()"
      ]
    },
    {
      "cell_type": "code",
      "execution_count": null,
      "metadata": {
        "colab": {
          "base_uri": "https://localhost:8080/"
        },
        "outputId": "45737038-77e4-4821-b939-0a45ace198b8",
        "id": "NXLtp2TROP1Z"
      },
      "outputs": [
        {
          "output_type": "stream",
          "name": "stdout",
          "text": [
            "216/216 [==============================] - 1s 5ms/step - loss: 0.1226 - accuracy: 0.9647\n",
            "Test Loss: 0.12255529314279556\n",
            "Test Accuracy: 96.46990895271301\n"
          ]
        }
      ],
      "source": [
        "# Evaluate the model accuracy on the Test set.\n",
        "scores = model.evaluate(X_test, Y_test, batch_size=32)\n",
        "print(\"Test Loss: \" + str(scores[0]))\n",
        "print(\"Test Accuracy: \" + str(scores[1]*100))"
      ]
    },
    {
      "cell_type": "code",
      "execution_count": null,
      "metadata": {
        "colab": {
          "base_uri": "https://localhost:8080/"
        },
        "outputId": "01cd2eba-013f-4db0-97ca-fd54939b0372",
        "id": "21WmuG0BOP1b"
      },
      "outputs": [
        {
          "output_type": "stream",
          "name": "stdout",
          "text": [
            "              precision    recall  f1-score   support\n",
            "\n",
            "         Low     0.9656    0.9697    0.9676      3758\n",
            "        High     0.9637    0.9588    0.9612      3154\n",
            "\n",
            "    accuracy                         0.9647      6912\n",
            "   macro avg     0.9646    0.9642    0.9644      6912\n",
            "weighted avg     0.9647    0.9647    0.9647      6912\n",
            "\n"
          ]
        }
      ],
      "source": [
        "yFlat = np.argmax(Y_test, axis=1)\n",
        "yhat = model.predict(X_test)\n",
        "yhatFlat= np.argmax(yhat, axis=1)\n",
        "print(classification_report(yFlat, yhatFlat, target_names=labels, digits=4))"
      ]
    },
    {
      "cell_type": "code",
      "execution_count": null,
      "metadata": {
        "colab": {
          "base_uri": "https://localhost:8080/",
          "height": 561
        },
        "outputId": "c55ef97b-f285-4bc7-ae6a-2a1e33299856",
        "id": "46FOkke0OP1d"
      },
      "outputs": [
        {
          "output_type": "stream",
          "name": "stdout",
          "text": [
            "Confusion matrix, without normalization\n",
            "[[3644  130]\n",
            " [ 114 3024]]\n"
          ]
        },
        {
          "output_type": "display_data",
          "data": {
            "image/png": "[encoded data removed]",
            "text/plain": [
              "<Figure size 640x480 with 2 Axes>"
            ]
          },
          "metadata": {}
        }
      ],
      "source": [
        "actual_cm = confusion_matrix(yhatFlat, yFlat)\n",
        "plot_confusion_matrix(actual_cm, labels, normalize=False)"
      ]
    },
    {
      "cell_type": "code",
      "source": [
        "actual_cm = confusion_matrix(yhatFlat, yFlat)\n",
        "plot_confusion_matrix(actual_cm, labels, normalize=True)"
      ],
      "metadata": {
        "colab": {
          "base_uri": "https://localhost:8080/",
          "height": 561
        },
        "outputId": "b0d5f1b1-12e7-46ac-d7f7-798aba82b280",
        "id": "_0USK8tDOP1e"
      },
      "execution_count": null,
      "outputs": [
        {
          "output_type": "stream",
          "name": "stdout",
          "text": [
            "Normalized confusion matrix\n",
            "[[0.96555379 0.03444621]\n",
            " [0.03632887 0.96367113]]\n"
          ]
        },
        {
          "output_type": "display_data",
          "data": {
            "image/png": "[encoded data removed]",
            "text/plain": [
              "<Figure size 640x480 with 2 Axes>"
            ]
          },
          "metadata": {}
        }
      ]
    },
    {
      "cell_type": "markdown",
      "metadata": {
        "id": "nGkjjFR9YWTA"
      },
      "source": [
        "### Arousal"
      ]
    },
    {
      "cell_type": "markdown",
      "metadata": {
        "id": "JJNspvXLCbZ0"
      },
      "source": [
        "####Data Split by using K-fold (here k is 10) Method"
      ]
    },
    {
      "cell_type": "code",
      "execution_count": null,
      "metadata": {
        "id": "5-gkAm2bCbZ3"
      },
      "outputs": [],
      "source": [
        "k = 10\n",
        "nb_samples = data.shape[0] # Number of samples\n",
        "factor = nb_samples//k # Kth fold by this factor\n",
        "\n",
        "for i in range(k):\n",
        "  print('Fold: '+str(i))\n",
        "\n",
        "  X_train = np.concatenate((data[0 : i*factor], data[(i+1)*factor : nb_samples])) # Training data\n",
        "  X_test = data[i*factor : (i+1)*factor] # Testing data\n",
        "  val_train = np.concatenate((arousal[0 : i*factor], arousal[(i+1)*factor : nb_samples])) # arousal training labels\n",
        "  val_test = arousal[i*factor : (i+1)*factor] # arousal testing labels\n",
        "\n",
        "  model.fit(X_train, val_train, epochs = 5, batch_size = 256, shuffle = True)\n",
        "\n",
        "  scores = model.evaluate(X_test, val_test)\n",
        "  print(\"Test Accuracy: \", str(scores[1]*100))\n",
        "  \n",
        "  del X_train, X_test, val_train, val_test\n",
        "\n",
        "\n",
        "  # yhat = model.predict(X_test)\n",
        "  # yhatFlat= np.argmax(yhat, axis=1)\n",
        "  # yFlat = np.argmax(val_test, axis=1)\n",
        "  \n",
        "  # actual_cm = confusion_matrix(yhatFlat, yFlat)\n",
        "  # print('Confusion Matrix:\\n',actual_cm)"
      ]
    },
    {
      "cell_type": "markdown",
      "metadata": {
        "id": "AmhNkaQOCbZ6"
      },
      "source": [
        "####Data Split by using Holdout Method"
      ]
    },
    {
      "cell_type": "code",
      "execution_count": null,
      "metadata": {
        "id": "NgtsbewuCbZ7"
      },
      "outputs": [],
      "source": [
        "X_train, X_test, Y_train, Y_test = train_test_split(data, arousal, test_size=0.2, random_state=random_state)\n",
        "print('X Training: ',X_train.shape)\n",
        "print('Y Training: ',Y_train.shape)\n",
        "print('X Test: ',X_test.shape)\n",
        "print('Y Test: ',Y_test.shape)\n",
        "print(type(X_train))"
      ]
    },
    {
      "cell_type": "markdown",
      "metadata": {
        "id": "fyM-Km49CbZ8"
      },
      "source": [
        "####Training and Evaluation"
      ]
    },
    {
      "cell_type": "code",
      "execution_count": null,
      "metadata": {
        "id": "D86v8gegCbZ9"
      },
      "outputs": [],
      "source": [
        "batch_size = 1024\n",
        "epochs = 100\n",
        "# lr_reducer = ReduceLROnPlateau(monitor='val_loss',\n",
        "#                                cooldown=0, patience=10, min_lr=1e-4,\n",
        "#                                factor=0.1, verbose=1)\n",
        "history = model.fit(X_train, Y_train, epochs=epochs,\n",
        "          validation_split=0.15,\n",
        "          batch_size=batch_size,\n",
        "          shuffle = True,\n",
        "          verbose=1) #,\n",
        "          # callbacks=[lr_reducer])"
      ]
    },
    {
      "cell_type": "code",
      "execution_count": null,
      "metadata": {
        "id": "_6gIpEuzCbZ_"
      },
      "outputs": [],
      "source": [
        "plt.plot(history.history['accuracy'], 'b', label='Training')\n",
        "plt.plot(history.history['val_accuracy'], 'g', label='Validation')\n",
        "plt.title('Accuracy')\n",
        "plt.ylabel('accuracy')\n",
        "plt.xlabel('epoch')\n",
        "plt.legend(loc='lower right')\n",
        "plt.savefig('acc_plot',dpi=100)\n",
        "plt.show()"
      ]
    },
    {
      "cell_type": "code",
      "execution_count": null,
      "metadata": {
        "id": "1zxL4i4uCbaB"
      },
      "outputs": [],
      "source": [
        "plt.plot(history.history['loss'], 'b', label='Training')\n",
        "plt.plot(history.history['val_loss'], 'g', label='Validation')\n",
        "plt.title('Model Loss')\n",
        "plt.ylabel('loss')\n",
        "plt.xlabel('epoch')\n",
        "plt.legend(loc='upper right')\n",
        "plt.savefig('loss_plot',dpi=100)\n",
        "plt.show()"
      ]
    },
    {
      "cell_type": "code",
      "execution_count": null,
      "metadata": {
        "id": "kwZ6wgKbCbaC"
      },
      "outputs": [],
      "source": [
        "# Evaluate the model accuracy on the Test set.\n",
        "scores = model.evaluate(X_test, Y_test, batch_size=32)\n",
        "print(\"Test Loss: \" + str(scores[0]))\n",
        "print(\"Test Accuracy: \" + str(scores[1]*100))"
      ]
    },
    {
      "cell_type": "code",
      "execution_count": null,
      "metadata": {
        "id": "-Y8usG42CbaD"
      },
      "outputs": [],
      "source": [
        "yFlat = np.argmax(Y_test, axis=1)\n",
        "yhat = model.predict(X_test)\n",
        "yhatFlat= np.argmax(yhat, axis=1)\n",
        "print(classification_report(yFlat, yhatFlat, target_names=labels, digits=4))"
      ]
    },
    {
      "cell_type": "code",
      "execution_count": null,
      "metadata": {
        "id": "09hiRcMxCbaF"
      },
      "outputs": [],
      "source": [
        "actual_cm = confusion_matrix(yhatFlat, yFlat)\n",
        "plot_confusion_matrix(actual_cm, labels, normalize=False)"
      ]
    },
    {
      "cell_type": "code",
      "execution_count": null,
      "metadata": {
        "id": "22o3Y_xP8xDo"
      },
      "outputs": [],
      "source": [
        "actual_cm = confusion_matrix(yhatFlat, yFlat)\n",
        "plot_confusion_matrix(actual_cm, labels, normalize=True)"
      ]
    },
    {
      "cell_type": "markdown",
      "metadata": {
        "id": "X8vfY24fYWTG"
      },
      "source": [
        "### Dominance"
      ]
    },
    {
      "cell_type": "markdown",
      "metadata": {
        "id": "wnX9WOrsDWDo"
      },
      "source": [
        "####Data Split by using K-fold (here k is 10) Method"
      ]
    },
    {
      "cell_type": "code",
      "execution_count": null,
      "metadata": {
        "id": "wwlm381cDWDq"
      },
      "outputs": [],
      "source": [
        "k = 10\n",
        "nb_samples = data.shape[0] # Number of samples\n",
        "factor = nb_samples//k # Kth fold by this factor\n",
        "\n",
        "for i in range(k):\n",
        "  print('Fold: '+str(i))\n",
        "\n",
        "  X_train = np.concatenate((data[0 : i*factor], data[(i+1)*factor : nb_samples])) # Training data\n",
        "  X_test = data[i*factor : (i+1)*factor] # Testing data\n",
        "  val_train = np.concatenate((dominance[0 : i*factor], dominance[(i+1)*factor : nb_samples])) # dominance training labels\n",
        "  val_test = dominance[i*factor : (i+1)*factor] # dominance testing labels\n",
        "\n",
        "  model.fit(X_train, val_train, epochs = 5, batch_size = 256, shuffle = True)\n",
        "\n",
        "  scores = model.evaluate(X_test, val_test)\n",
        "  print(\"Test Accuracy: \", str(scores[1]*100))\n",
        "  \n",
        "  del X_train, X_test, val_train, val_test\n",
        "\n",
        "\n",
        "  # yhat = model.predict(X_test)\n",
        "  # yhatFlat= np.argmax(yhat, axis=1)\n",
        "  # yFlat = np.argmax(val_test, axis=1)\n",
        "  \n",
        "  # actual_cm = confusion_matrix(yhatFlat, yFlat)\n",
        "  # print('Confusion Matrix:\\n',actual_cm)"
      ]
    },
    {
      "cell_type": "markdown",
      "metadata": {
        "id": "C7fLAfu9DWDr"
      },
      "source": [
        "####Data Split by using Holdout Method"
      ]
    },
    {
      "cell_type": "code",
      "execution_count": null,
      "metadata": {
        "id": "PSTnlHw5DWDt"
      },
      "outputs": [],
      "source": [
        "X_train, X_test, Y_train, Y_test = train_test_split(data, dominance, test_size=0.2, random_state=random_state)\n",
        "print('X Training: ',X_train.shape)\n",
        "print('Y Training: ',Y_train.shape)\n",
        "print('X Test: ',X_test.shape)\n",
        "print('Y Test: ',Y_test.shape)\n",
        "print(type(X_train))"
      ]
    },
    {
      "cell_type": "markdown",
      "metadata": {
        "id": "MKBAon4jDWDt"
      },
      "source": [
        "####Training and Evaluation"
      ]
    },
    {
      "cell_type": "code",
      "execution_count": null,
      "metadata": {
        "id": "BJX-H7KoDWDu"
      },
      "outputs": [],
      "source": [
        "batch_size = 1024\n",
        "epochs = 100\n",
        "# lr_reducer = ReduceLROnPlateau(monitor='val_loss',\n",
        "#                                cooldown=0, patience=10, min_lr=1e-4,\n",
        "#                                factor=0.1, verbose=1)\n",
        "history = model.fit(X_train, Y_train, epochs=epochs,\n",
        "          validation_split=0.15,\n",
        "          batch_size=batch_size,\n",
        "          shuffle = True,\n",
        "          verbose=1) #,\n",
        "          # callbacks=[lr_reducer])"
      ]
    },
    {
      "cell_type": "code",
      "execution_count": null,
      "metadata": {
        "id": "erq6af4nDWDu"
      },
      "outputs": [],
      "source": [
        "plt.plot(history.history['accuracy'], 'b', label='Training')\n",
        "plt.plot(history.history['val_accuracy'], 'g', label='Validation')\n",
        "plt.title('Accuracy')\n",
        "plt.ylabel('accuracy')\n",
        "plt.xlabel('epoch')\n",
        "plt.legend(loc='lower right')\n",
        "plt.savefig('acc_plot',dpi=100)\n",
        "plt.show()"
      ]
    },
    {
      "cell_type": "code",
      "execution_count": null,
      "metadata": {
        "id": "ieIdd78hDWDv"
      },
      "outputs": [],
      "source": [
        "plt.plot(history.history['loss'], 'b', label='Training')\n",
        "plt.plot(history.history['val_loss'], 'g', label='Validation')\n",
        "plt.title('Model Loss')\n",
        "plt.ylabel('loss')\n",
        "plt.xlabel('epoch')\n",
        "plt.legend(loc='upper right')\n",
        "plt.savefig('loss_plot',dpi=100)\n",
        "plt.show()"
      ]
    },
    {
      "cell_type": "code",
      "execution_count": null,
      "metadata": {
        "id": "-p4Ge8D2DWDv"
      },
      "outputs": [],
      "source": [
        "# Evaluate the model accuracy on the Test set.\n",
        "scores = model.evaluate(X_test, Y_test, batch_size=32)\n",
        "print(\"Test Loss: \" + str(scores[0]))\n",
        "print(\"Test Accuracy: \" + str(scores[1]*100))"
      ]
    },
    {
      "cell_type": "code",
      "execution_count": null,
      "metadata": {
        "id": "HsLhG3apDWDw"
      },
      "outputs": [],
      "source": [
        "yFlat = np.argmax(Y_test, axis=1)\n",
        "yhat = model.predict(X_test)\n",
        "yhatFlat= np.argmax(yhat, axis=1)\n",
        "print(classification_report(yFlat, yhatFlat, target_names=labels, digits=4))"
      ]
    },
    {
      "cell_type": "code",
      "execution_count": null,
      "metadata": {
        "id": "zTzSRY9mDWDy"
      },
      "outputs": [],
      "source": [
        "actual_cm = confusion_matrix(yhatFlat, yFlat)\n",
        "plot_confusion_matrix(actual_cm, labels, normalize=False)"
      ]
    },
    {
      "cell_type": "code",
      "execution_count": null,
      "metadata": {
        "id": "QrlEUmq19O0g"
      },
      "outputs": [],
      "source": [
        "actual_cm = confusion_matrix(yhatFlat, yFlat)\n",
        "plot_confusion_matrix(actual_cm, labels, normalize=True)"
      ]
    },
    {
      "cell_type": "markdown",
      "metadata": {
        "id": "OFOWA0ZaDnPL"
      },
      "source": [
        "### Liking"
      ]
    },
    {
      "cell_type": "markdown",
      "metadata": {
        "id": "ZrPHmnAADnPO"
      },
      "source": [
        "####Data Split by using K-fold (here k is 10) Method"
      ]
    },
    {
      "cell_type": "code",
      "execution_count": null,
      "metadata": {
        "id": "X3_njoGiDnPR"
      },
      "outputs": [],
      "source": [
        "k = 10\n",
        "nb_samples = data.shape[0] # Number of samples\n",
        "factor = nb_samples//k # Kth fold by this factor\n",
        "\n",
        "for i in range(k):\n",
        "  print('Fold: '+str(i))\n",
        "\n",
        "  X_train = np.concatenate((data[0 : i*factor], data[(i+1)*factor : nb_samples])) # Training data\n",
        "  X_test = data[i*factor : (i+1)*factor] # Testing data\n",
        "  val_train = np.concatenate((liking[0 : i*factor], liking[(i+1)*factor : nb_samples])) # liking training labels\n",
        "  val_test = liking[i*factor : (i+1)*factor] # liking testing labels\n",
        "\n",
        "  model.fit(X_train, val_train, epochs = 5, batch_size = 256, shuffle = True)\n",
        "\n",
        "  scores = model.evaluate(X_test, val_test)\n",
        "  print(\"Test Accuracy: \", str(scores[1]*100))\n",
        "  \n",
        "  del X_train, X_test, val_train, val_test\n",
        "\n",
        "\n",
        "  # yhat = model.predict(X_test)\n",
        "  # yhatFlat= np.argmax(yhat, axis=1)\n",
        "  # yFlat = np.argmax(val_test, axis=1)\n",
        "  \n",
        "  # actual_cm = confusion_matrix(yhatFlat, yFlat)\n",
        "  # print('Confusion Matrix:\\n',actual_cm)"
      ]
    },
    {
      "cell_type": "markdown",
      "metadata": {
        "id": "cFWaveccDnPT"
      },
      "source": [
        "####Data Split by using Holdout Method"
      ]
    },
    {
      "cell_type": "code",
      "execution_count": null,
      "metadata": {
        "id": "JFt9NlvJDnPU"
      },
      "outputs": [],
      "source": [
        "X_train, X_test, Y_train, Y_test = train_test_split(data, liking, test_size=0.2, random_state=random_state)\n",
        "print('X Training: ',X_train.shape)\n",
        "print('Y Training: ',Y_train.shape)\n",
        "print('X Test: ',X_test.shape)\n",
        "print('Y Test: ',Y_test.shape)\n",
        "print(type(X_train))"
      ]
    },
    {
      "cell_type": "markdown",
      "metadata": {
        "id": "hrZU-QyCDnPV"
      },
      "source": [
        "####Training and Evaluation"
      ]
    },
    {
      "cell_type": "code",
      "execution_count": null,
      "metadata": {
        "id": "KHNxTviUDnPW"
      },
      "outputs": [],
      "source": [
        "batch_size = 1024\n",
        "epochs = 100\n",
        "# lr_reducer = ReduceLROnPlateau(monitor='val_loss',\n",
        "#                                cooldown=0, patience=10, min_lr=1e-4,\n",
        "#                                factor=0.1, verbose=1)\n",
        "history = model.fit(X_train, Y_train, epochs=epochs,\n",
        "          validation_split=0.15,\n",
        "          batch_size=batch_size,\n",
        "          shuffle = True,\n",
        "          verbose=1) #,\n",
        "          # callbacks=[lr_reducer])"
      ]
    },
    {
      "cell_type": "code",
      "execution_count": null,
      "metadata": {
        "id": "7fjXPl27DnPX"
      },
      "outputs": [],
      "source": [
        "plt.plot(history.history['accuracy'], 'b', label='Training')\n",
        "plt.plot(history.history['val_accuracy'], 'g', label='Validation')\n",
        "plt.title('Accuracy')\n",
        "plt.ylabel('accuracy')\n",
        "plt.xlabel('epoch')\n",
        "plt.legend(loc='lower right')\n",
        "plt.savefig('acc_plot',dpi=100)\n",
        "plt.show()"
      ]
    },
    {
      "cell_type": "code",
      "execution_count": null,
      "metadata": {
        "id": "XssTm8DVDnPY"
      },
      "outputs": [],
      "source": [
        "plt.plot(history.history['loss'], 'b', label='Training')\n",
        "plt.plot(history.history['val_loss'], 'g', label='Validation')\n",
        "plt.title('Model Loss')\n",
        "plt.ylabel('loss')\n",
        "plt.xlabel('epoch')\n",
        "plt.legend(loc='upper right')\n",
        "plt.savefig('loss_plot',dpi=100)\n",
        "plt.show()"
      ]
    },
    {
      "cell_type": "code",
      "execution_count": null,
      "metadata": {
        "id": "4lTopjDkDnPZ"
      },
      "outputs": [],
      "source": [
        "# Evaluate the model accuracy on the Test set.\n",
        "scores = model.evaluate(X_test, Y_test, batch_size=32)\n",
        "print(\"Test Loss: \" + str(scores[0]))\n",
        "print(\"Test Accuracy: \" + str(scores[1]*100))"
      ]
    },
    {
      "cell_type": "code",
      "execution_count": null,
      "metadata": {
        "id": "ygV4oospDnPZ"
      },
      "outputs": [],
      "source": [
        "yFlat = np.argmax(Y_test, axis=1)\n",
        "yhat = model.predict(X_test)\n",
        "yhatFlat= np.argmax(yhat, axis=1)\n",
        "print(classification_report(yFlat, yhatFlat, target_names=labels, digits=4))"
      ]
    },
    {
      "cell_type": "code",
      "execution_count": null,
      "metadata": {
        "id": "8j2vh8toDnPa"
      },
      "outputs": [],
      "source": [
        "actual_cm = confusion_matrix(yhatFlat, yFlat)\n",
        "plot_confusion_matrix(actual_cm, labels, normalize=False)"
      ]
    },
    {
      "cell_type": "code",
      "execution_count": null,
      "metadata": {
        "id": "sfxTotWx-nz6"
      },
      "outputs": [],
      "source": [
        "actual_cm = confusion_matrix(yhatFlat, yFlat)\n",
        "plot_confusion_matrix(actual_cm, labels, normalize=True)"
      ]
    },
    {
      "cell_type": "markdown",
      "source": [
        "#SEED\n",
        "\n",
        "> Original Shape for Labels:\n",
        "\n",
        " 1 for positive, 0 for neutral and -1 for negative\n",
        "\n",
        "label+1 --> 0 negative, 1 neutral, 2 positive"
      ],
      "metadata": {
        "id": "lxnAgvnzQ8qv"
      }
    },
    {
      "cell_type": "code",
      "source": [
        "import scipy.io as sio \n",
        "import numpy as np\n",
        "import os\n",
        "import warnings\n",
        "import itertools\n",
        "import matplotlib.pyplot as plt\n",
        "                                                  \n",
        "from sklearn.metrics import confusion_matrix, classification_report\n",
        "from sklearn.preprocessing import StandardScaler\n",
        "from sklearn.model_selection import train_test_split\n",
        "\n",
        "from tensorflow.keras.models import Model\n",
        "from tensorflow.keras.callbacks import ReduceLROnPlateau, CSVLogger\n",
        "from tensorflow.keras.layers import (Activation, AveragePooling1D, Dense, Conv1D, Flatten, Dropout, Input, BatchNormalization,\n",
        "                                     GlobalMaxPooling1D, MaxPooling1D, SpatialDropout1D, GlobalAveragePooling1D)\n",
        "from tensorflow.keras.optimizers import RMSprop, Adam\n",
        "from tensorflow.keras.utils import plot_model, to_categorical\n",
        "\n",
        "warnings.filterwarnings(\"ignore\")\n",
        "plt.rcdefaults()\n",
        "\n",
        "dir_path = \"/content/ExtractedFeatures\"\n",
        "classes = 3\n",
        "\n",
        "labels = ['Negative', 'Neutral', 'Positive'] #NEG:0 NE:1 POS:2"
      ],
      "metadata": {
        "id": "riRuIZljiB_t"
      },
      "execution_count": 2,
      "outputs": []
    },
    {
      "cell_type": "markdown",
      "source": [
        "##Confusion Matrix"
      ],
      "metadata": {
        "id": "TzfAL4W7058-"
      }
    },
    {
      "cell_type": "code",
      "source": [
        "def plot_confusion_matrix(X_test, Y_test, classes,\n",
        "                          normalize=False,\n",
        "                          title='Confusion matrix',\n",
        "                          cmap=plt.cm.Blues):\n",
        "  \n",
        "    truey=[]\n",
        "    predy=[]\n",
        "\n",
        "    y = Y_test\n",
        "    yhat= model.predict(X_test)\n",
        "    yh = yhat.tolist()\n",
        "    yt = y.tolist()\n",
        "\n",
        "    count = 0\n",
        "    for i in range(len(y)):\n",
        "        yy = max(yh[i])\n",
        "        yyt = max(yt[i])\n",
        "        predy.append(yh[i].index(yy))\n",
        "        truey.append(yt[i].index(yyt))\n",
        "        if(yh[i].index(yy)== yt[i].index(yyt)):\n",
        "            count+=1\n",
        "\n",
        "\n",
        "    acc = (count/len(y))*100\n",
        "    print(\"Accuracy on test set: \"+str(acc)+\"%\")\n",
        "\n",
        "    cm = confusion_matrix(truey, predy)\n",
        "    print(cm)\n",
        "    \n",
        "    if normalize:\n",
        "        cm = cm.astype('float') / cm.sum(axis=1)[:, np.newaxis]\n",
        "        print(\"Normalized confusion matrix\")\n",
        "    else:\n",
        "        cm = confusion_matrix(truey, predy)\n",
        "        print('Confusion matrix, without normalization')\n",
        "\n",
        "    plt.imshow(cm, interpolation='nearest', cmap=cmap)\n",
        "    plt.title(title, fontsize=14)\n",
        "    plt.colorbar()\n",
        "    tick_marks = np.arange(len(classes))\n",
        "    plt.xticks(tick_marks, classes, rotation=45)\n",
        "    plt.yticks(tick_marks, classes)\n",
        "\n",
        "    fmt = '.2f' if normalize else 'd'\n",
        "    thresh = cm.max() / 2.\n",
        "    for i, j in itertools.product(range(cm.shape[0]), range(cm.shape[1])):\n",
        "        plt.text(j, i, format(cm[i, j], fmt),\n",
        "                 horizontalalignment=\"center\",\n",
        "                 color=\"white\" if cm[i, j] > thresh else \"black\")\n",
        "\n",
        "    plt.tight_layout()\n",
        "    plt.ylabel('True label')\n",
        "    plt.xlabel('Predicted label')"
      ],
      "metadata": {
        "id": "CiXbL8VFqUSc"
      },
      "execution_count": null,
      "outputs": []
    },
    {
      "cell_type": "markdown",
      "source": [
        "## Loading Data"
      ],
      "metadata": {
        "id": "OO7RKpvgspyZ"
      }
    },
    {
      "cell_type": "markdown",
      "source": [
        "###Unzipping"
      ],
      "metadata": {
        "id": "aYDYkvq1hzYv"
      }
    },
    {
      "cell_type": "code",
      "source": [
        "!unzip /content/drive/MyDrive/ExtractedFeatures.zip"
      ],
      "metadata": {
        "colab": {
          "base_uri": "https://localhost:8080/"
        },
        "id": "SnlrV1ZOJJxE",
        "outputId": "588ccb2b-7815-4c66-b982-545d2cec8bb1"
      },
      "execution_count": null,
      "outputs": [
        {
          "output_type": "stream",
          "name": "stdout",
          "text": [
            "Archive:  /content/drive/MyDrive/ExtractedFeatures.zip\n",
            "   creating: ExtractedFeatures/\n",
            " extracting: ExtractedFeatures/15_20131105.mat  \n",
            " extracting: ExtractedFeatures/15_20131016.mat  \n",
            " extracting: ExtractedFeatures/15_20130709.mat  \n",
            " extracting: ExtractedFeatures/14_20140627.mat  \n",
            " extracting: ExtractedFeatures/14_20140615.mat  \n",
            " extracting: ExtractedFeatures/14_20140601.mat  \n",
            " extracting: ExtractedFeatures/13_20140610.mat  \n",
            " extracting: ExtractedFeatures/13_20140603.mat  \n",
            " extracting: ExtractedFeatures/13_20140527.mat  \n",
            " extracting: ExtractedFeatures/12_20131207.mat  \n",
            " extracting: ExtractedFeatures/12_20131201.mat  \n",
            " extracting: ExtractedFeatures/12_20131127.mat  \n",
            " extracting: ExtractedFeatures/11_20140630.mat  \n",
            " extracting: ExtractedFeatures/11_20140625.mat  \n",
            " extracting: ExtractedFeatures/11_20140618.mat  \n",
            " extracting: ExtractedFeatures/10_20131211.mat  \n",
            " extracting: ExtractedFeatures/10_20131204.mat  \n",
            " extracting: ExtractedFeatures/10_20131130.mat  \n",
            " extracting: ExtractedFeatures/9_20140704.mat  \n",
            " extracting: ExtractedFeatures/9_20140627.mat  \n",
            " extracting: ExtractedFeatures/9_20140620.mat  \n",
            " extracting: ExtractedFeatures/8_20140521.mat  \n",
            " extracting: ExtractedFeatures/8_20140514.mat  \n",
            " extracting: ExtractedFeatures/8_20140511.mat  \n",
            " extracting: ExtractedFeatures/readme.txt  \n",
            " extracting: ExtractedFeatures/7_20131106.mat  \n",
            " extracting: ExtractedFeatures/7_20131030.mat  \n",
            " extracting: ExtractedFeatures/7_20131027.mat  \n",
            " extracting: ExtractedFeatures/6_20131113.mat  \n",
            " extracting: ExtractedFeatures/6_20131016.mat  \n",
            " extracting: ExtractedFeatures/6_20130712.mat  \n",
            " extracting: ExtractedFeatures/5_20140418.mat  \n",
            " extracting: ExtractedFeatures/5_20140411.mat  \n",
            " extracting: ExtractedFeatures/4_20140705.mat  \n",
            " extracting: ExtractedFeatures/4_20140702.mat  \n",
            " extracting: ExtractedFeatures/4_20140621.mat  \n",
            " extracting: ExtractedFeatures/label.mat  \n",
            " extracting: ExtractedFeatures/3_20140629.mat  \n",
            " extracting: ExtractedFeatures/3_20140611.mat  \n",
            " extracting: ExtractedFeatures/3_20140603.mat  \n",
            " extracting: ExtractedFeatures/2_20140419.mat  \n",
            " extracting: ExtractedFeatures/2_20140413.mat  \n",
            " extracting: ExtractedFeatures/2_20140404.mat  \n",
            " extracting: ExtractedFeatures/1_20131107.mat  \n",
            " extracting: ExtractedFeatures/1_20131030.mat  \n",
            " extracting: ExtractedFeatures/1_20131027.mat  \n",
            " extracting: ExtractedFeatures/5_20140506.mat  \n"
          ]
        }
      ]
    },
    {
      "cell_type": "markdown",
      "source": [
        "###Loading and Pre-processing SEED Dataset\n",
        "Since each frequency band signal has 62 channels, we\n",
        "extracted differential entropy features with 310 dimensions for a sample (i.e., 62x5=310)\n",
        "> Feature Types: \n",
        "\n",
        "1.   differential entropy (DE)\n",
        "2.   differential asymmetry (DASM)\n",
        "3.   rational asymmetry (RASM)\n",
        "\n",
        "> Feature Smoothing Methods\n",
        "\n",
        "1.   moving average\n",
        "2.   linear dynamic systems (LDS)"
      ],
      "metadata": {
        "id": "MLDrXYOlh9Qu"
      }
    },
    {
      "cell_type": "code",
      "source": [
        "feature_types = [\"de\", \"psd\", \"dasm\", \"rasm\", \"asm\", \"dcau\"]\n",
        "# feature_types = [\"de\", \"psd\"]\n",
        "\n",
        "smooth_method_types = [\"movingAve\", \"LDS\"]\n",
        "\n",
        "label_path = os.path.join(dir_path, \"label.mat\")\n",
        "labels = sio.loadmat(label_path)[\"label\"][0]\n",
        "labels += 1\n",
        "\n",
        "num_of_subjects = 15\n",
        "num_of_experiment = 15\n",
        "for feature_type in feature_types:\n",
        "    for smooth_method_type in smooth_method_types:\n",
        "        folder_name = os.path.join(dir_path, feature_type +\"_\" + smooth_method_type)\n",
        "        print(\"folder name: \", folder_name)\n",
        "        if not os.path.exists(folder_name):\n",
        "            os.mkdir(folder_name)\n",
        "        stacked_arr = None\n",
        "        stacked_label = None\n",
        "        cumulative_samples = [0]\n",
        "        for i in range(num_of_subjects):\n",
        "            print(\"Subject {} / {}\".format(i+1, num_of_subjects))\n",
        "            for trial_path in os.listdir(dir_path):\n",
        "                if trial_path.startswith(str(i+1) + \"_\"):  # trial record for the Subject\n",
        "                    feature2dict= sio.loadmat(os.path.join(dir_path, trial_path))\n",
        "                    for experiment_index in range(num_of_experiment):\n",
        "                        k = feature_type + \"_\" + smooth_method_type + str(experiment_index+1)\n",
        "                        v = feature2dict[k]\n",
        "                        # print(v.shape)  # (62, 235, 5) for example\n",
        "                        temp_arr = np.swapaxes(v, 0, 1).reshape(v.shape[1], -1)    \n",
        "                        num_of_samples = temp_arr.shape[0]   \n",
        "                        cumulative_samples.append(cumulative_samples[-1] + num_of_samples)\n",
        "                        temp_labels = np.ones((num_of_samples, 1)) * labels[experiment_index]          \n",
        "                        # print(temp_arr.shape)  # (235, 310) for example\n",
        "                        if stacked_arr is None:\n",
        "                            stacked_arr = temp_arr.copy()\n",
        "                            stacked_label = temp_labels.copy()\n",
        "                        else:\n",
        "                            stacked_arr = np.vstack((stacked_arr, temp_arr))\n",
        "                            stacked_label = np.vstack((stacked_label, temp_labels))\n",
        "        print(\"feature shape:\", stacked_arr.shape)\n",
        "        print(\"label shape: \", stacked_label.shape)\n",
        "        cumulative_sample_arr = np.array(cumulative_samples)\n",
        "        print(\"cumulative sample shape: \", cumulative_sample_arr.shape)\n",
        "        feature_path = os.path.join(folder_name, \"feature.npy\")\n",
        "        label_path = os.path.join(folder_name, \"label.npy\")\n",
        "        cumulative_samples_path = os.path.join(folder_name, \"cumulative.npy\")\n",
        "        print(\"saving feature.npy and label.npy to folder {}\".format(folder_name))\n",
        "        np.save(feature_path, stacked_arr)\n",
        "        np.save(label_path, stacked_label)\n",
        "        np.save(cumulative_samples_path, cumulative_sample_arr)"
      ],
      "metadata": {
        "colab": {
          "base_uri": "https://localhost:8080/"
        },
        "id": "vZaU-4j3OFmV",
        "outputId": "dba78916-3a88-4f69-e7e5-afd20d126806"
      },
      "execution_count": null,
      "outputs": [
        {
          "output_type": "stream",
          "name": "stdout",
          "text": [
            "folder name:  /content/ExtractedFeatures/de_movingAve\n",
            "Subject 1 / 15\n",
            "Subject 2 / 15\n",
            "Subject 3 / 15\n",
            "Subject 4 / 15\n",
            "Subject 5 / 15\n",
            "Subject 6 / 15\n",
            "Subject 7 / 15\n",
            "Subject 8 / 15\n",
            "Subject 9 / 15\n",
            "Subject 10 / 15\n",
            "Subject 11 / 15\n",
            "Subject 12 / 15\n",
            "Subject 13 / 15\n",
            "Subject 14 / 15\n",
            "Subject 15 / 15\n",
            "feature shape: (152730, 310)\n",
            "label shape:  (152730, 1)\n",
            "cumulative sample shape:  (676,)\n",
            "saving feature.npy and label.npy to folder /content/ExtractedFeatures/de_movingAve\n",
            "folder name:  /content/ExtractedFeatures/de_LDS\n",
            "Subject 1 / 15\n",
            "Subject 2 / 15\n",
            "Subject 3 / 15\n",
            "Subject 4 / 15\n",
            "Subject 5 / 15\n",
            "Subject 6 / 15\n",
            "Subject 7 / 15\n",
            "Subject 8 / 15\n",
            "Subject 9 / 15\n",
            "Subject 10 / 15\n",
            "Subject 11 / 15\n",
            "Subject 12 / 15\n",
            "Subject 13 / 15\n",
            "Subject 14 / 15\n",
            "Subject 15 / 15\n",
            "feature shape: (152730, 310)\n",
            "label shape:  (152730, 1)\n",
            "cumulative sample shape:  (676,)\n",
            "saving feature.npy and label.npy to folder /content/ExtractedFeatures/de_LDS\n",
            "folder name:  /content/ExtractedFeatures/psd_movingAve\n",
            "Subject 1 / 15\n",
            "Subject 2 / 15\n",
            "Subject 3 / 15\n",
            "Subject 4 / 15\n",
            "Subject 5 / 15\n",
            "Subject 6 / 15\n",
            "Subject 7 / 15\n",
            "Subject 8 / 15\n",
            "Subject 9 / 15\n",
            "Subject 10 / 15\n",
            "Subject 11 / 15\n",
            "Subject 12 / 15\n",
            "Subject 13 / 15\n",
            "Subject 14 / 15\n",
            "Subject 15 / 15\n",
            "feature shape: (152730, 310)\n",
            "label shape:  (152730, 1)\n",
            "cumulative sample shape:  (676,)\n",
            "saving feature.npy and label.npy to folder /content/ExtractedFeatures/psd_movingAve\n",
            "folder name:  /content/ExtractedFeatures/psd_LDS\n",
            "Subject 1 / 15\n",
            "Subject 2 / 15\n",
            "Subject 3 / 15\n",
            "Subject 4 / 15\n",
            "Subject 5 / 15\n",
            "Subject 6 / 15\n",
            "Subject 7 / 15\n",
            "Subject 8 / 15\n",
            "Subject 9 / 15\n",
            "Subject 10 / 15\n",
            "Subject 11 / 15\n",
            "Subject 12 / 15\n",
            "Subject 13 / 15\n",
            "Subject 14 / 15\n",
            "Subject 15 / 15\n",
            "feature shape: (152730, 310)\n",
            "label shape:  (152730, 1)\n",
            "cumulative sample shape:  (676,)\n",
            "saving feature.npy and label.npy to folder /content/ExtractedFeatures/psd_LDS\n",
            "folder name:  /content/ExtractedFeatures/dasm_movingAve\n",
            "Subject 1 / 15\n",
            "Subject 2 / 15\n",
            "Subject 3 / 15\n",
            "Subject 4 / 15\n",
            "Subject 5 / 15\n",
            "Subject 6 / 15\n",
            "Subject 7 / 15\n",
            "Subject 8 / 15\n",
            "Subject 9 / 15\n",
            "Subject 10 / 15\n",
            "Subject 11 / 15\n",
            "Subject 12 / 15\n",
            "Subject 13 / 15\n",
            "Subject 14 / 15\n",
            "Subject 15 / 15\n",
            "feature shape: (152730, 135)\n",
            "label shape:  (152730, 1)\n",
            "cumulative sample shape:  (676,)\n",
            "saving feature.npy and label.npy to folder /content/ExtractedFeatures/dasm_movingAve\n",
            "folder name:  /content/ExtractedFeatures/dasm_LDS\n",
            "Subject 1 / 15\n",
            "Subject 2 / 15\n",
            "Subject 3 / 15\n",
            "Subject 4 / 15\n",
            "Subject 5 / 15\n",
            "Subject 6 / 15\n",
            "Subject 7 / 15\n",
            "Subject 8 / 15\n",
            "Subject 9 / 15\n",
            "Subject 10 / 15\n",
            "Subject 11 / 15\n",
            "Subject 12 / 15\n",
            "Subject 13 / 15\n",
            "Subject 14 / 15\n",
            "Subject 15 / 15\n",
            "feature shape: (152730, 135)\n",
            "label shape:  (152730, 1)\n",
            "cumulative sample shape:  (676,)\n",
            "saving feature.npy and label.npy to folder /content/ExtractedFeatures/dasm_LDS\n",
            "folder name:  /content/ExtractedFeatures/rasm_movingAve\n",
            "Subject 1 / 15\n",
            "Subject 2 / 15\n",
            "Subject 3 / 15\n",
            "Subject 4 / 15\n",
            "Subject 5 / 15\n",
            "Subject 6 / 15\n",
            "Subject 7 / 15\n",
            "Subject 8 / 15\n",
            "Subject 9 / 15\n",
            "Subject 10 / 15\n",
            "Subject 11 / 15\n",
            "Subject 12 / 15\n",
            "Subject 13 / 15\n",
            "Subject 14 / 15\n",
            "Subject 15 / 15\n",
            "feature shape: (152730, 135)\n",
            "label shape:  (152730, 1)\n",
            "cumulative sample shape:  (676,)\n",
            "saving feature.npy and label.npy to folder /content/ExtractedFeatures/rasm_movingAve\n",
            "folder name:  /content/ExtractedFeatures/rasm_LDS\n",
            "Subject 1 / 15\n",
            "Subject 2 / 15\n",
            "Subject 3 / 15\n",
            "Subject 4 / 15\n",
            "Subject 5 / 15\n",
            "Subject 6 / 15\n",
            "Subject 7 / 15\n",
            "Subject 8 / 15\n",
            "Subject 9 / 15\n",
            "Subject 10 / 15\n",
            "Subject 11 / 15\n",
            "Subject 12 / 15\n",
            "Subject 13 / 15\n",
            "Subject 14 / 15\n",
            "Subject 15 / 15\n",
            "feature shape: (152730, 135)\n",
            "label shape:  (152730, 1)\n",
            "cumulative sample shape:  (676,)\n",
            "saving feature.npy and label.npy to folder /content/ExtractedFeatures/rasm_LDS\n",
            "folder name:  /content/ExtractedFeatures/asm_movingAve\n",
            "Subject 1 / 15\n",
            "Subject 2 / 15\n",
            "Subject 3 / 15\n",
            "Subject 4 / 15\n",
            "Subject 5 / 15\n",
            "Subject 6 / 15\n",
            "Subject 7 / 15\n",
            "Subject 8 / 15\n",
            "Subject 9 / 15\n",
            "Subject 10 / 15\n",
            "Subject 11 / 15\n",
            "Subject 12 / 15\n",
            "Subject 13 / 15\n",
            "Subject 14 / 15\n",
            "Subject 15 / 15\n",
            "feature shape: (152730, 270)\n",
            "label shape:  (152730, 1)\n",
            "cumulative sample shape:  (676,)\n",
            "saving feature.npy and label.npy to folder /content/ExtractedFeatures/asm_movingAve\n",
            "folder name:  /content/ExtractedFeatures/asm_LDS\n",
            "Subject 1 / 15\n",
            "Subject 2 / 15\n",
            "Subject 3 / 15\n",
            "Subject 4 / 15\n",
            "Subject 5 / 15\n",
            "Subject 6 / 15\n",
            "Subject 7 / 15\n",
            "Subject 8 / 15\n",
            "Subject 9 / 15\n",
            "Subject 10 / 15\n",
            "Subject 11 / 15\n",
            "Subject 12 / 15\n",
            "Subject 13 / 15\n",
            "Subject 14 / 15\n",
            "Subject 15 / 15\n",
            "feature shape: (152730, 270)\n",
            "label shape:  (152730, 1)\n",
            "cumulative sample shape:  (676,)\n",
            "saving feature.npy and label.npy to folder /content/ExtractedFeatures/asm_LDS\n",
            "folder name:  /content/ExtractedFeatures/dcau_movingAve\n",
            "Subject 1 / 15\n",
            "Subject 2 / 15\n",
            "Subject 3 / 15\n",
            "Subject 4 / 15\n",
            "Subject 5 / 15\n",
            "Subject 6 / 15\n",
            "Subject 7 / 15\n",
            "Subject 8 / 15\n",
            "Subject 9 / 15\n",
            "Subject 10 / 15\n",
            "Subject 11 / 15\n",
            "Subject 12 / 15\n",
            "Subject 13 / 15\n",
            "Subject 14 / 15\n",
            "Subject 15 / 15\n",
            "feature shape: (152730, 115)\n",
            "label shape:  (152730, 1)\n",
            "cumulative sample shape:  (676,)\n",
            "saving feature.npy and label.npy to folder /content/ExtractedFeatures/dcau_movingAve\n",
            "folder name:  /content/ExtractedFeatures/dcau_LDS\n",
            "Subject 1 / 15\n",
            "Subject 2 / 15\n",
            "Subject 3 / 15\n",
            "Subject 4 / 15\n",
            "Subject 5 / 15\n",
            "Subject 6 / 15\n",
            "Subject 7 / 15\n",
            "Subject 8 / 15\n",
            "Subject 9 / 15\n",
            "Subject 10 / 15\n",
            "Subject 11 / 15\n",
            "Subject 12 / 15\n",
            "Subject 13 / 15\n",
            "Subject 14 / 15\n",
            "Subject 15 / 15\n",
            "feature shape: (152730, 115)\n",
            "label shape:  (152730, 1)\n",
            "cumulative sample shape:  (676,)\n",
            "saving feature.npy and label.npy to folder /content/ExtractedFeatures/dcau_LDS\n"
          ]
        }
      ]
    },
    {
      "cell_type": "markdown",
      "metadata": {
        "id": "42jcH10Ts0Gt"
      },
      "source": [
        "## CNN Model"
      ]
    },
    {
      "cell_type": "code",
      "source": [
        "def CompactNet(input_shape, weightsPath=None):\n",
        "    \n",
        "    X_input = Input(input_shape)\n",
        "    x = Conv1D(32, kernel_size = 2, strides = 1, padding = 'same', activation='relu', name='C1')(X_input)\n",
        "    x = AveragePooling1D(pool_size=2, name='AP1')(x)\n",
        "    x = BatchNormalization(name='BN1')(x)\n",
        "\n",
        "    x = Conv1D(128, kernel_size = 5, strides = 1, padding = 'same', activation='relu', name='C3')(x)\n",
        "    x = AveragePooling1D(pool_size=2, name='AP2')(x)\n",
        "    x = BatchNormalization(name='BN2')(x)\n",
        "\n",
        "    x = Conv1D(192, kernel_size = 3, strides = 2, padding = 'same', activation='relu', name='C7')(x)\n",
        "    x = GlobalAveragePooling1D(name='GAP')(x)\n",
        "    x = BatchNormalization(name='BN4')(x)\n",
        "\n",
        "    x = Dropout(0.2)(x)\n",
        "    x = Dense(64)(x)\n",
        "    x = Activation('tanh')(x)\n",
        "    x = Dense(8)(x)\n",
        "    x = Activation('tanh')(x)\n",
        "    x = Dropout(0.1)(x)\n",
        "    x = Dense(classes)(x)\n",
        "    output = Activation('softmax')(x)\n",
        "\n",
        "    model=Model(inputs=X_input, outputs=output, name='CompactNet')\n",
        "\n",
        "    if weightsPath is not None:\n",
        "        model.load_weights(weightsPath)\n",
        "\n",
        "    return model\n",
        "\n",
        "model = CompactNet(input_shape = (310, 1))\n",
        "model.summary()\n",
        "\n",
        "model.compile(loss='categorical_crossentropy',\n",
        "              optimizer=Adam(learning_rate=0.0001),\n",
        "              metrics=['accuracy'])"
      ],
      "metadata": {
        "id": "wjJ1EFYVthyh",
        "colab": {
          "base_uri": "https://localhost:8080/"
        },
        "outputId": "fca6d6c8-1e9c-4e8d-c352-e9ca2950a01d"
      },
      "execution_count": 3,
      "outputs": [
        {
          "output_type": "stream",
          "name": "stdout",
          "text": [
            "Model: \"CompactNet\"\n",
            "_________________________________________________________________\n",
            " Layer (type)                Output Shape              Param #   \n",
            "=================================================================\n",
            " input_1 (InputLayer)        [(None, 310, 1)]          0         \n",
            "                                                                 \n",
            " C1 (Conv1D)                 (None, 310, 32)           96        \n",
            "                                                                 \n",
            " AP1 (AveragePooling1D)      (None, 155, 32)           0         \n",
            "                                                                 \n",
            " BN1 (BatchNormalization)    (None, 155, 32)           128       \n",
            "                                                                 \n",
            " C3 (Conv1D)                 (None, 155, 128)          20608     \n",
            "                                                                 \n",
            " AP2 (AveragePooling1D)      (None, 77, 128)           0         \n",
            "                                                                 \n",
            " BN2 (BatchNormalization)    (None, 77, 128)           512       \n",
            "                                                                 \n",
            " C7 (Conv1D)                 (None, 39, 192)           73920     \n",
            "                                                                 \n",
            " GAP (GlobalAveragePooling1D  (None, 192)              0         \n",
            " )                                                               \n",
            "                                                                 \n",
            " BN4 (BatchNormalization)    (None, 192)               768       \n",
            "                                                                 \n",
            " dropout (Dropout)           (None, 192)               0         \n",
            "                                                                 \n",
            " dense (Dense)               (None, 64)                12352     \n",
            "                                                                 \n",
            " activation (Activation)     (None, 64)                0         \n",
            "                                                                 \n",
            " dense_1 (Dense)             (None, 8)                 520       \n",
            "                                                                 \n",
            " activation_1 (Activation)   (None, 8)                 0         \n",
            "                                                                 \n",
            " dropout_1 (Dropout)         (None, 8)                 0         \n",
            "                                                                 \n",
            " dense_2 (Dense)             (None, 3)                 27        \n",
            "                                                                 \n",
            " activation_2 (Activation)   (None, 3)                 0         \n",
            "                                                                 \n",
            "=================================================================\n",
            "Total params: 108,931\n",
            "Trainable params: 108,227\n",
            "Non-trainable params: 704\n",
            "_________________________________________________________________\n"
          ]
        }
      ]
    },
    {
      "cell_type": "code",
      "source": [
        "plot_model(model, to_file='SEED_model.png', show_shapes=True, dpi=100)"
      ],
      "metadata": {
        "id": "zZZU4bZys0G1",
        "colab": {
          "base_uri": "https://localhost:8080/",
          "height": 1000
        },
        "outputId": "402f272b-076c-49e7-8eed-bd8cb3e96c56"
      },
      "execution_count": 9,
      "outputs": [
        {
          "output_type": "execute_result",
          "data": {
            "image/png": "[encoded data removed]",
            "text/plain": [
              "<IPython.core.display.Image object>"
            ]
          },
          "metadata": {},
          "execution_count": 9
        }
      ]
    },
    {
      "cell_type": "markdown",
      "source": [
        "## Training and Evaluation"
      ],
      "metadata": {
        "id": "3HtQj0IYs6Rb"
      }
    },
    {
      "cell_type": "code",
      "source": [
        "temp_dir = \"/content/ExtractedFeatures/de_movingAve\"\n",
        "\n",
        "def load_mat(dirname):\n",
        "    feature_arr = np.load(os.path.join(dirname, \"feature.npy\"))\n",
        "    label_arr = np.load(os.path.join(dirname, \"label.npy\"))\n",
        "    cumulative_arr = np.load(os.path.join(dirname, \"cumulative.npy\"))\n",
        "    return feature_arr, label_arr, cumulative_arr\n",
        "\n",
        "feature, label, cumulative = load_mat(temp_dir)\n",
        "\n",
        "np.save(\"/content/drive/MyDrive/Data_and_labels/SEED/feature\",feature)\n",
        "np.save(\"/content/drive/MyDrive/Data_and_labels/SEED/label\",label)"
      ],
      "metadata": {
        "id": "pCs9nhTbs6Re"
      },
      "execution_count": null,
      "outputs": []
    },
    {
      "cell_type": "code",
      "source": [
        "\n",
        "scaler = StandardScaler().fit(feature)\n",
        "feature_scaled = scaler.transform(feature)\n",
        "data = feature_scaled.reshape(-1, 310, 1).astype('float32')\n",
        "lab = to_categorical(label, num_classes=3)\n",
        "X_train, X_test, Y_train, Y_test = train_test_split(data, lab, test_size=0.1, random_state=100)"
      ],
      "metadata": {
        "id": "GL5cO0Zjuur5"
      },
      "execution_count": null,
      "outputs": []
    },
    {
      "cell_type": "code",
      "execution_count": null,
      "metadata": {
        "_cell_guid": "d5e499ac-2eba-6ff7-8d9a-ff65eb04099b",
        "_uuid": "d0b239912cf67294a9f5af6883bb159c44318fc7",
        "colab": {
          "base_uri": "https://localhost:8080/"
        },
        "outputId": "ac8ce081-df0a-4239-eb57-9ec6ef52a72f",
        "id": "7ThTn3yms6Rp"
      },
      "outputs": [
        {
          "output_type": "stream",
          "name": "stdout",
          "text": [
            "Epoch 1/100\n",
            "229/229 [==============================] - 6s 19ms/step - loss: 0.5275 - accuracy: 0.7817 - val_loss: 0.6778 - val_accuracy: 0.7039 - lr: 1.0000e-04\n",
            "Epoch 2/100\n",
            "229/229 [==============================] - 4s 18ms/step - loss: 0.4817 - accuracy: 0.8035 - val_loss: 0.6286 - val_accuracy: 0.7299 - lr: 1.0000e-04\n",
            "Epoch 3/100\n",
            "229/229 [==============================] - 4s 18ms/step - loss: 0.4666 - accuracy: 0.8111 - val_loss: 0.5807 - val_accuracy: 0.7577 - lr: 1.0000e-04\n",
            "Epoch 4/100\n",
            "229/229 [==============================] - 4s 18ms/step - loss: 0.4474 - accuracy: 0.8211 - val_loss: 0.5504 - val_accuracy: 0.7737 - lr: 1.0000e-04\n",
            "Epoch 5/100\n",
            "229/229 [==============================] - 4s 18ms/step - loss: 0.4348 - accuracy: 0.8266 - val_loss: 0.5056 - val_accuracy: 0.7949 - lr: 1.0000e-04\n",
            "Epoch 6/100\n",
            "229/229 [==============================] - 4s 18ms/step - loss: 0.4225 - accuracy: 0.8323 - val_loss: 0.4828 - val_accuracy: 0.8045 - lr: 1.0000e-04\n",
            "Epoch 7/100\n",
            "229/229 [==============================] - 4s 18ms/step - loss: 0.4141 - accuracy: 0.8372 - val_loss: 0.4642 - val_accuracy: 0.8121 - lr: 1.0000e-04\n",
            "Epoch 8/100\n",
            "229/229 [==============================] - 4s 18ms/step - loss: 0.4053 - accuracy: 0.8410 - val_loss: 0.4445 - val_accuracy: 0.8221 - lr: 1.0000e-04\n",
            "Epoch 9/100\n",
            "229/229 [==============================] - 4s 18ms/step - loss: 0.3945 - accuracy: 0.8456 - val_loss: 0.4233 - val_accuracy: 0.8303 - lr: 1.0000e-04\n",
            "Epoch 10/100\n",
            "229/229 [==============================] - 4s 18ms/step - loss: 0.3850 - accuracy: 0.8490 - val_loss: 0.4072 - val_accuracy: 0.8392 - lr: 1.0000e-04\n",
            "Epoch 11/100\n",
            "229/229 [==============================] - 4s 18ms/step - loss: 0.3765 - accuracy: 0.8537 - val_loss: 0.4029 - val_accuracy: 0.8416 - lr: 1.0000e-04\n",
            "Epoch 12/100\n",
            "229/229 [==============================] - 4s 18ms/step - loss: 0.3676 - accuracy: 0.8565 - val_loss: 0.3839 - val_accuracy: 0.8481 - lr: 1.0000e-04\n",
            "Epoch 13/100\n",
            "229/229 [==============================] - 4s 18ms/step - loss: 0.3634 - accuracy: 0.8599 - val_loss: 0.3681 - val_accuracy: 0.8573 - lr: 1.0000e-04\n",
            "Epoch 14/100\n",
            "229/229 [==============================] - 4s 18ms/step - loss: 0.3560 - accuracy: 0.8620 - val_loss: 0.3543 - val_accuracy: 0.8605 - lr: 1.0000e-04\n",
            "Epoch 15/100\n",
            "229/229 [==============================] - 4s 18ms/step - loss: 0.3501 - accuracy: 0.8639 - val_loss: 0.3464 - val_accuracy: 0.8647 - lr: 1.0000e-04\n",
            "Epoch 16/100\n",
            "229/229 [==============================] - 4s 18ms/step - loss: 0.3410 - accuracy: 0.8687 - val_loss: 0.3305 - val_accuracy: 0.8717 - lr: 1.0000e-04\n",
            "Epoch 17/100\n",
            "229/229 [==============================] - 4s 18ms/step - loss: 0.3343 - accuracy: 0.8717 - val_loss: 0.3295 - val_accuracy: 0.8739 - lr: 1.0000e-04\n",
            "Epoch 18/100\n",
            "229/229 [==============================] - 4s 18ms/step - loss: 0.3303 - accuracy: 0.8734 - val_loss: 0.3190 - val_accuracy: 0.8750 - lr: 1.0000e-04\n",
            "Epoch 19/100\n",
            "229/229 [==============================] - 4s 18ms/step - loss: 0.3246 - accuracy: 0.8749 - val_loss: 0.3097 - val_accuracy: 0.8804 - lr: 1.0000e-04\n",
            "Epoch 20/100\n",
            "229/229 [==============================] - 4s 18ms/step - loss: 0.3190 - accuracy: 0.8794 - val_loss: 0.2949 - val_accuracy: 0.8883 - lr: 1.0000e-04\n",
            "Epoch 21/100\n",
            "229/229 [==============================] - 4s 18ms/step - loss: 0.3112 - accuracy: 0.8811 - val_loss: 0.2988 - val_accuracy: 0.8847 - lr: 1.0000e-04\n",
            "Epoch 22/100\n",
            "229/229 [==============================] - 4s 18ms/step - loss: 0.3058 - accuracy: 0.8840 - val_loss: 0.2870 - val_accuracy: 0.8899 - lr: 1.0000e-04\n",
            "Epoch 23/100\n",
            "229/229 [==============================] - 4s 18ms/step - loss: 0.3045 - accuracy: 0.8846 - val_loss: 0.2856 - val_accuracy: 0.8919 - lr: 1.0000e-04\n",
            "Epoch 24/100\n",
            "229/229 [==============================] - 4s 18ms/step - loss: 0.2988 - accuracy: 0.8871 - val_loss: 0.2638 - val_accuracy: 0.9016 - lr: 1.0000e-04\n",
            "Epoch 25/100\n",
            "229/229 [==============================] - 4s 18ms/step - loss: 0.2919 - accuracy: 0.8890 - val_loss: 0.2730 - val_accuracy: 0.8957 - lr: 1.0000e-04\n",
            "Epoch 26/100\n",
            "229/229 [==============================] - 4s 18ms/step - loss: 0.2897 - accuracy: 0.8904 - val_loss: 0.2758 - val_accuracy: 0.8947 - lr: 1.0000e-04\n",
            "Epoch 27/100\n",
            "229/229 [==============================] - 4s 18ms/step - loss: 0.2838 - accuracy: 0.8925 - val_loss: 0.2623 - val_accuracy: 0.9002 - lr: 1.0000e-04\n",
            "Epoch 28/100\n",
            "229/229 [==============================] - 4s 18ms/step - loss: 0.2793 - accuracy: 0.8939 - val_loss: 0.2495 - val_accuracy: 0.9036 - lr: 1.0000e-04\n",
            "Epoch 29/100\n",
            "229/229 [==============================] - 4s 18ms/step - loss: 0.2770 - accuracy: 0.8948 - val_loss: 0.2444 - val_accuracy: 0.9077 - lr: 1.0000e-04\n",
            "Epoch 30/100\n",
            "229/229 [==============================] - 4s 18ms/step - loss: 0.2733 - accuracy: 0.8964 - val_loss: 0.2416 - val_accuracy: 0.9099 - lr: 1.0000e-04\n",
            "Epoch 31/100\n",
            "229/229 [==============================] - 4s 18ms/step - loss: 0.2688 - accuracy: 0.8988 - val_loss: 0.2447 - val_accuracy: 0.9072 - lr: 1.0000e-04\n",
            "Epoch 32/100\n",
            "229/229 [==============================] - 4s 18ms/step - loss: 0.2638 - accuracy: 0.9007 - val_loss: 0.2413 - val_accuracy: 0.9094 - lr: 1.0000e-04\n",
            "Epoch 33/100\n",
            "229/229 [==============================] - 4s 18ms/step - loss: 0.2621 - accuracy: 0.9014 - val_loss: 0.2285 - val_accuracy: 0.9156 - lr: 1.0000e-04\n",
            "Epoch 34/100\n",
            "229/229 [==============================] - 4s 18ms/step - loss: 0.2577 - accuracy: 0.9036 - val_loss: 0.2200 - val_accuracy: 0.9176 - lr: 1.0000e-04\n",
            "Epoch 35/100\n",
            "229/229 [==============================] - 4s 18ms/step - loss: 0.2539 - accuracy: 0.9058 - val_loss: 0.2248 - val_accuracy: 0.9154 - lr: 1.0000e-04\n",
            "Epoch 36/100\n",
            "229/229 [==============================] - 4s 18ms/step - loss: 0.2534 - accuracy: 0.9048 - val_loss: 0.2115 - val_accuracy: 0.9214 - lr: 1.0000e-04\n",
            "Epoch 37/100\n",
            "229/229 [==============================] - 4s 18ms/step - loss: 0.2469 - accuracy: 0.9075 - val_loss: 0.2085 - val_accuracy: 0.9245 - lr: 1.0000e-04\n",
            "Epoch 38/100\n",
            "229/229 [==============================] - 4s 19ms/step - loss: 0.2474 - accuracy: 0.9070 - val_loss: 0.2071 - val_accuracy: 0.9229 - lr: 1.0000e-04\n",
            "Epoch 39/100\n",
            "229/229 [==============================] - 4s 18ms/step - loss: 0.2428 - accuracy: 0.9090 - val_loss: 0.2172 - val_accuracy: 0.9199 - lr: 1.0000e-04\n",
            "Epoch 40/100\n",
            "229/229 [==============================] - 4s 18ms/step - loss: 0.2390 - accuracy: 0.9104 - val_loss: 0.2092 - val_accuracy: 0.9218 - lr: 1.0000e-04\n",
            "Epoch 41/100\n",
            "229/229 [==============================] - 4s 18ms/step - loss: 0.2365 - accuracy: 0.9126 - val_loss: 0.1983 - val_accuracy: 0.9273 - lr: 1.0000e-04\n",
            "Epoch 42/100\n",
            "229/229 [==============================] - 4s 18ms/step - loss: 0.2319 - accuracy: 0.9135 - val_loss: 0.2184 - val_accuracy: 0.9189 - lr: 1.0000e-04\n",
            "Epoch 43/100\n",
            "229/229 [==============================] - 4s 18ms/step - loss: 0.2330 - accuracy: 0.9125 - val_loss: 0.1993 - val_accuracy: 0.9281 - lr: 1.0000e-04\n",
            "Epoch 44/100\n",
            "229/229 [==============================] - 4s 18ms/step - loss: 0.2272 - accuracy: 0.9150 - val_loss: 0.1967 - val_accuracy: 0.9260 - lr: 1.0000e-04\n",
            "Epoch 45/100\n",
            "229/229 [==============================] - 4s 18ms/step - loss: 0.2237 - accuracy: 0.9169 - val_loss: 0.2030 - val_accuracy: 0.9262 - lr: 1.0000e-04\n",
            "Epoch 46/100\n",
            "229/229 [==============================] - 4s 18ms/step - loss: 0.2235 - accuracy: 0.9168 - val_loss: 0.1782 - val_accuracy: 0.9349 - lr: 1.0000e-04\n",
            "Epoch 47/100\n",
            "229/229 [==============================] - 4s 18ms/step - loss: 0.2201 - accuracy: 0.9196 - val_loss: 0.1878 - val_accuracy: 0.9324 - lr: 1.0000e-04\n",
            "Epoch 48/100\n",
            "229/229 [==============================] - 4s 18ms/step - loss: 0.2150 - accuracy: 0.9204 - val_loss: 0.2087 - val_accuracy: 0.9241 - lr: 1.0000e-04\n",
            "Epoch 49/100\n",
            "229/229 [==============================] - 4s 19ms/step - loss: 0.2177 - accuracy: 0.9191 - val_loss: 0.1818 - val_accuracy: 0.9339 - lr: 1.0000e-04\n",
            "Epoch 50/100\n",
            "229/229 [==============================] - 4s 18ms/step - loss: 0.2103 - accuracy: 0.9217 - val_loss: 0.1747 - val_accuracy: 0.9349 - lr: 1.0000e-04\n",
            "Epoch 51/100\n",
            "229/229 [==============================] - 4s 18ms/step - loss: 0.2063 - accuracy: 0.9236 - val_loss: 0.1874 - val_accuracy: 0.9333 - lr: 1.0000e-04\n",
            "Epoch 52/100\n",
            "229/229 [==============================] - 4s 19ms/step - loss: 0.2091 - accuracy: 0.9221 - val_loss: 0.1688 - val_accuracy: 0.9389 - lr: 1.0000e-04\n",
            "Epoch 53/100\n",
            "229/229 [==============================] - 4s 18ms/step - loss: 0.2070 - accuracy: 0.9234 - val_loss: 0.1788 - val_accuracy: 0.9344 - lr: 1.0000e-04\n",
            "Epoch 54/100\n",
            "229/229 [==============================] - 4s 18ms/step - loss: 0.2027 - accuracy: 0.9252 - val_loss: 0.1600 - val_accuracy: 0.9439 - lr: 1.0000e-04\n",
            "Epoch 55/100\n",
            "229/229 [==============================] - 4s 18ms/step - loss: 0.2029 - accuracy: 0.9247 - val_loss: 0.1693 - val_accuracy: 0.9385 - lr: 1.0000e-04\n",
            "Epoch 56/100\n",
            "229/229 [==============================] - 4s 18ms/step - loss: 0.1994 - accuracy: 0.9266 - val_loss: 0.1649 - val_accuracy: 0.9405 - lr: 1.0000e-04\n",
            "Epoch 57/100\n",
            "229/229 [==============================] - 4s 18ms/step - loss: 0.1955 - accuracy: 0.9283 - val_loss: 0.1543 - val_accuracy: 0.9454 - lr: 1.0000e-04\n",
            "Epoch 58/100\n",
            "229/229 [==============================] - 4s 18ms/step - loss: 0.1933 - accuracy: 0.9279 - val_loss: 0.1633 - val_accuracy: 0.9402 - lr: 1.0000e-04\n",
            "Epoch 59/100\n",
            "229/229 [==============================] - 4s 18ms/step - loss: 0.1915 - accuracy: 0.9291 - val_loss: 0.1720 - val_accuracy: 0.9366 - lr: 1.0000e-04\n",
            "Epoch 60/100\n",
            "229/229 [==============================] - 4s 18ms/step - loss: 0.1914 - accuracy: 0.9294 - val_loss: 0.1608 - val_accuracy: 0.9407 - lr: 1.0000e-04\n",
            "Epoch 61/100\n",
            "229/229 [==============================] - 4s 18ms/step - loss: 0.1887 - accuracy: 0.9317 - val_loss: 0.1610 - val_accuracy: 0.9420 - lr: 1.0000e-04\n",
            "Epoch 62/100\n",
            "229/229 [==============================] - 4s 18ms/step - loss: 0.1859 - accuracy: 0.9314 - val_loss: 0.1406 - val_accuracy: 0.9510 - lr: 1.0000e-04\n",
            "Epoch 63/100\n",
            "229/229 [==============================] - 4s 18ms/step - loss: 0.1831 - accuracy: 0.9324 - val_loss: 0.1544 - val_accuracy: 0.9447 - lr: 1.0000e-04\n",
            "Epoch 64/100\n",
            "229/229 [==============================] - 4s 18ms/step - loss: 0.1823 - accuracy: 0.9329 - val_loss: 0.1546 - val_accuracy: 0.9441 - lr: 1.0000e-04\n",
            "Epoch 65/100\n",
            "229/229 [==============================] - 4s 18ms/step - loss: 0.1811 - accuracy: 0.9343 - val_loss: 0.1610 - val_accuracy: 0.9411 - lr: 1.0000e-04\n",
            "Epoch 66/100\n",
            "229/229 [==============================] - 4s 18ms/step - loss: 0.1797 - accuracy: 0.9341 - val_loss: 0.1439 - val_accuracy: 0.9475 - lr: 1.0000e-04\n",
            "Epoch 67/100\n",
            "229/229 [==============================] - 4s 18ms/step - loss: 0.1805 - accuracy: 0.9338 - val_loss: 0.1474 - val_accuracy: 0.9474 - lr: 1.0000e-04\n",
            "Epoch 68/100\n",
            "229/229 [==============================] - 4s 18ms/step - loss: 0.1776 - accuracy: 0.9353 - val_loss: 0.1329 - val_accuracy: 0.9530 - lr: 1.0000e-04\n",
            "Epoch 69/100\n",
            "229/229 [==============================] - 4s 18ms/step - loss: 0.1762 - accuracy: 0.9358 - val_loss: 0.1344 - val_accuracy: 0.9525 - lr: 1.0000e-04\n",
            "Epoch 70/100\n",
            "229/229 [==============================] - 4s 18ms/step - loss: 0.1719 - accuracy: 0.9370 - val_loss: 0.1357 - val_accuracy: 0.9521 - lr: 1.0000e-04\n",
            "Epoch 71/100\n",
            "229/229 [==============================] - 4s 18ms/step - loss: 0.1705 - accuracy: 0.9370 - val_loss: 0.1287 - val_accuracy: 0.9548 - lr: 1.0000e-04\n",
            "Epoch 72/100\n",
            "229/229 [==============================] - 4s 18ms/step - loss: 0.1707 - accuracy: 0.9376 - val_loss: 0.1419 - val_accuracy: 0.9494 - lr: 1.0000e-04\n",
            "Epoch 73/100\n",
            "229/229 [==============================] - 4s 18ms/step - loss: 0.1685 - accuracy: 0.9388 - val_loss: 0.1482 - val_accuracy: 0.9459 - lr: 1.0000e-04\n",
            "Epoch 74/100\n",
            "229/229 [==============================] - 4s 18ms/step - loss: 0.1678 - accuracy: 0.9387 - val_loss: 0.1345 - val_accuracy: 0.9521 - lr: 1.0000e-04\n",
            "Epoch 75/100\n",
            "229/229 [==============================] - 4s 18ms/step - loss: 0.1685 - accuracy: 0.9385 - val_loss: 0.1485 - val_accuracy: 0.9473 - lr: 1.0000e-04\n",
            "Epoch 76/100\n",
            "229/229 [==============================] - 4s 18ms/step - loss: 0.1648 - accuracy: 0.9398 - val_loss: 0.1297 - val_accuracy: 0.9550 - lr: 1.0000e-04\n",
            "Epoch 77/100\n",
            "229/229 [==============================] - 4s 18ms/step - loss: 0.1640 - accuracy: 0.9409 - val_loss: 0.1285 - val_accuracy: 0.9542 - lr: 1.0000e-04\n",
            "Epoch 78/100\n",
            "229/229 [==============================] - 4s 18ms/step - loss: 0.1601 - accuracy: 0.9413 - val_loss: 0.1268 - val_accuracy: 0.9538 - lr: 1.0000e-04\n",
            "Epoch 79/100\n",
            "229/229 [==============================] - 4s 19ms/step - loss: 0.1587 - accuracy: 0.9422 - val_loss: 0.1329 - val_accuracy: 0.9526 - lr: 1.0000e-04\n",
            "Epoch 80/100\n",
            "229/229 [==============================] - 4s 18ms/step - loss: 0.1571 - accuracy: 0.9427 - val_loss: 0.1324 - val_accuracy: 0.9518 - lr: 1.0000e-04\n",
            "Epoch 81/100\n",
            "229/229 [==============================] - 4s 18ms/step - loss: 0.1570 - accuracy: 0.9425 - val_loss: 0.1372 - val_accuracy: 0.9522 - lr: 1.0000e-04\n",
            "Epoch 82/100\n",
            "229/229 [==============================] - 4s 18ms/step - loss: 0.1571 - accuracy: 0.9427 - val_loss: 0.1196 - val_accuracy: 0.9572 - lr: 1.0000e-04\n",
            "Epoch 83/100\n",
            "229/229 [==============================] - 4s 18ms/step - loss: 0.1575 - accuracy: 0.9428 - val_loss: 0.1294 - val_accuracy: 0.9541 - lr: 1.0000e-04\n",
            "Epoch 84/100\n",
            "229/229 [==============================] - 4s 18ms/step - loss: 0.1510 - accuracy: 0.9454 - val_loss: 0.1324 - val_accuracy: 0.9523 - lr: 1.0000e-04\n",
            "Epoch 85/100\n",
            "229/229 [==============================] - 4s 18ms/step - loss: 0.1536 - accuracy: 0.9444 - val_loss: 0.1190 - val_accuracy: 0.9582 - lr: 1.0000e-04\n",
            "Epoch 86/100\n",
            "229/229 [==============================] - 4s 18ms/step - loss: 0.1500 - accuracy: 0.9452 - val_loss: 0.1183 - val_accuracy: 0.9581 - lr: 1.0000e-04\n",
            "Epoch 87/100\n",
            "229/229 [==============================] - 4s 18ms/step - loss: 0.1476 - accuracy: 0.9460 - val_loss: 0.1409 - val_accuracy: 0.9498 - lr: 1.0000e-04\n",
            "Epoch 88/100\n",
            "229/229 [==============================] - 4s 18ms/step - loss: 0.1493 - accuracy: 0.9456 - val_loss: 0.1154 - val_accuracy: 0.9593 - lr: 1.0000e-04\n",
            "Epoch 89/100\n",
            "229/229 [==============================] - 4s 18ms/step - loss: 0.1481 - accuracy: 0.9455 - val_loss: 0.1308 - val_accuracy: 0.9543 - lr: 1.0000e-04\n",
            "Epoch 90/100\n",
            "229/229 [==============================] - 4s 18ms/step - loss: 0.1473 - accuracy: 0.9461 - val_loss: 0.1339 - val_accuracy: 0.9529 - lr: 1.0000e-04\n",
            "Epoch 91/100\n",
            "229/229 [==============================] - 4s 18ms/step - loss: 0.1435 - accuracy: 0.9474 - val_loss: 0.1416 - val_accuracy: 0.9498 - lr: 1.0000e-04\n",
            "Epoch 92/100\n",
            "229/229 [==============================] - 4s 18ms/step - loss: 0.1454 - accuracy: 0.9468 - val_loss: 0.1204 - val_accuracy: 0.9566 - lr: 1.0000e-04\n",
            "Epoch 93/100\n",
            "229/229 [==============================] - 4s 18ms/step - loss: 0.1414 - accuracy: 0.9491 - val_loss: 0.1180 - val_accuracy: 0.9590 - lr: 1.0000e-04\n",
            "Epoch 94/100\n",
            "229/229 [==============================] - 4s 18ms/step - loss: 0.1426 - accuracy: 0.9480 - val_loss: 0.1183 - val_accuracy: 0.9586 - lr: 1.0000e-04\n",
            "Epoch 95/100\n",
            "229/229 [==============================] - 4s 18ms/step - loss: 0.1416 - accuracy: 0.9492 - val_loss: 0.1250 - val_accuracy: 0.9569 - lr: 1.0000e-04\n",
            "Epoch 96/100\n",
            "229/229 [==============================] - 4s 18ms/step - loss: 0.1426 - accuracy: 0.9482 - val_loss: 0.1132 - val_accuracy: 0.9602 - lr: 1.0000e-04\n",
            "Epoch 97/100\n",
            "229/229 [==============================] - 4s 18ms/step - loss: 0.1395 - accuracy: 0.9494 - val_loss: 0.1122 - val_accuracy: 0.9589 - lr: 1.0000e-04\n",
            "Epoch 98/100\n",
            "229/229 [==============================] - 4s 18ms/step - loss: 0.1385 - accuracy: 0.9495 - val_loss: 0.1118 - val_accuracy: 0.9604 - lr: 1.0000e-04\n",
            "Epoch 99/100\n",
            "229/229 [==============================] - 4s 18ms/step - loss: 0.1359 - accuracy: 0.9502 - val_loss: 0.1226 - val_accuracy: 0.9581 - lr: 1.0000e-04\n",
            "Epoch 100/100\n",
            "229/229 [==============================] - 4s 18ms/step - loss: 0.1356 - accuracy: 0.9519 - val_loss: 0.1178 - val_accuracy: 0.9595 - lr: 1.0000e-04\n"
          ]
        }
      ],
      "source": [
        "batch_size = 512\n",
        "epochs = 100\n",
        "lr_reducer = ReduceLROnPlateau(monitor='val_loss',\n",
        "                               cooldown=0, patience=10, min_lr=1e-7,\n",
        "                               factor=0.1, verbose=1)\n",
        "history = model.fit(X_train, Y_train, epochs=epochs,\n",
        "          validation_split=0.15,\n",
        "          batch_size=batch_size,\n",
        "          shuffle = True,\n",
        "          verbose=1,\n",
        "          callbacks=[lr_reducer])"
      ]
    },
    {
      "cell_type": "code",
      "source": [
        "plt.plot(history.history['accuracy'], 'b', label='Training')\n",
        "plt.plot(history.history['val_accuracy'], 'g', label='Validation')\n",
        "plt.title('Accuracy')\n",
        "plt.ylabel('accuracy')\n",
        "plt.xlabel('epoch')\n",
        "plt.legend(loc='lower right')\n",
        "plt.savefig('acc_plot',dpi=100)\n",
        "plt.show()"
      ],
      "metadata": {
        "colab": {
          "base_uri": "https://localhost:8080/",
          "height": 472
        },
        "outputId": "f0d9dd21-4d29-4cfa-fb5d-8b9db345eb41",
        "id": "zqLVefvos6Rq"
      },
      "execution_count": null,
      "outputs": [
        {
          "output_type": "display_data",
          "data": {
            "image/png": "[encoded data removed]",
            "text/plain": [
              "<Figure size 640x480 with 1 Axes>"
            ]
          },
          "metadata": {}
        }
      ]
    },
    {
      "cell_type": "code",
      "source": [
        "plt.plot(history.history['loss'], 'b', label='Training')\n",
        "plt.plot(history.history['val_loss'], 'g', label='Validation')\n",
        "plt.title('Model Loss')\n",
        "plt.ylabel('loss')\n",
        "plt.xlabel('epoch')\n",
        "plt.legend(loc='upper right')\n",
        "plt.savefig('loss_plot',dpi=100)\n",
        "plt.show()"
      ],
      "metadata": {
        "colab": {
          "base_uri": "https://localhost:8080/",
          "height": 472
        },
        "outputId": "f2ad259d-1833-4201-c103-ced5701a4eb0",
        "id": "iHKCBVsws6Rt"
      },
      "execution_count": null,
      "outputs": [
        {
          "output_type": "display_data",
          "data": {
            "image/png": "[encoded data removed]",
            "text/plain": [
              "<Figure size 640x480 with 1 Axes>"
            ]
          },
          "metadata": {}
        }
      ]
    },
    {
      "cell_type": "code",
      "source": [
        "# Evaluate the model accuracy on the Test set.\n",
        "scores = model.evaluate(X_test, Y_test, batch_size=32)\n",
        "print(\"Test Loss: \" + str(scores[0]))\n",
        "print(\"Test Accuracy: \" + str(scores[1]*100))"
      ],
      "metadata": {
        "colab": {
          "base_uri": "https://localhost:8080/"
        },
        "outputId": "469acf19-5a54-4e6d-8e8a-6f7e96166cd3",
        "id": "KADN9ddLs6Ru"
      },
      "execution_count": null,
      "outputs": [
        {
          "output_type": "stream",
          "name": "stdout",
          "text": [
            "478/478 [==============================] - 2s 3ms/step - loss: 0.1118 - accuracy: 0.9614\n",
            "Test Loss: 0.11175063252449036\n",
            "Test Accuracy: 96.13697528839111\n"
          ]
        }
      ]
    },
    {
      "cell_type": "code",
      "execution_count": null,
      "metadata": {
        "_uuid": "4701961e44bd243e505fc2c1b53b323311ad2b80",
        "colab": {
          "base_uri": "https://localhost:8080/"
        },
        "outputId": "579eec6d-c38e-48bf-8f7d-74101c6fe4c5",
        "id": "d_Omudsqs6Rv"
      },
      "outputs": [
        {
          "output_type": "stream",
          "name": "stdout",
          "text": [
            "              precision    recall  f1-score   support\n",
            "\n",
            "    Negative     0.9540    0.9584    0.9562      5102\n",
            "     Neutral     0.9518    0.9568    0.9543      4933\n",
            "    Positive     0.9778    0.9685    0.9731      5238\n",
            "\n",
            "    accuracy                         0.9614     15273\n",
            "   macro avg     0.9612    0.9613    0.9612     15273\n",
            "weighted avg     0.9615    0.9614    0.9614     15273\n",
            "\n"
          ]
        }
      ],
      "source": [
        "yFlat = np.argmax(Y_test, axis=1)\n",
        "yhat = model.predict(X_test)\n",
        "yhatFlat= np.argmax(yhat, axis=1)\n",
        "print(classification_report(yFlat, yhatFlat, target_names=labels, digits=4))"
      ]
    },
    {
      "cell_type": "code",
      "source": [
        "plot_confusion_matrix(X_test, Y_test, labels, normalize=True)"
      ],
      "metadata": {
        "colab": {
          "base_uri": "https://localhost:8080/",
          "height": 598
        },
        "outputId": "a501d74c-65de-4735-8d89-4527e9e51c8f",
        "id": "zPdwNq-us6Rw"
      },
      "execution_count": null,
      "outputs": [
        {
          "output_type": "stream",
          "name": "stdout",
          "text": [
            "Accuracy on test set: 96.13697374451647%\n",
            "[[4890  161   51]\n",
            " [ 149 4720   64]\n",
            " [  87   78 5073]]\n",
            "Normalized confusion matrix\n"
          ]
        },
        {
          "output_type": "display_data",
          "data": {
            "image/png": "[encoded data removed]",
            "text/plain": [
              "<Figure size 640x480 with 2 Axes>"
            ]
          },
          "metadata": {}
        }
      ]
    }
  ],
  "metadata": {
    "accelerator": "GPU",
    "colab": {
      "collapsed_sections": [
        "TzfAL4W7058-",
        "aYDYkvq1hzYv",
        "MLDrXYOlh9Qu",
        "42jcH10Ts0Gt",
        "vm-UCpMZYWSb",
        "jzdx_P6JsZ0F",
        "lshDU4ZF31Go",
        "v16hvg1r35w-",
        "nekd4jerEN_Z",
        "splEhAyrEkdB",
        "hp9TYK2yeyD5",
        "Rk66N-dzo7r8",
        "taa1M3Y3rthy",
        "wJo5Q_3bw77E",
        "_6pMCZc-yzpc",
        "BfMMlhcm0L6L",
        "h6eQPk9hN5RG",
        "piGRHTRSOP1B",
        "5x6k_0wxOP1G",
        "7WZfRWRYOP1M",
        "nGkjjFR9YWTA",
        "JJNspvXLCbZ0",
        "AmhNkaQOCbZ6",
        "fyM-Km49CbZ8",
        "X8vfY24fYWTG",
        "OFOWA0ZaDnPL"
      ],
      "machine_shape": "hm",
      "name": "ER_with_EEG.ipynb",
      "provenance": [],
      "toc_visible": true
    },
    "kernelspec": {
      "display_name": "Python 3",
      "name": "python3"
    },
    "language_info": {
      "name": "python"
    }
  },
  "nbformat": 4,
  "nbformat_minor": 0
}